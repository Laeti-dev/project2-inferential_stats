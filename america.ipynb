{
 "cells": [
  {
   "cell_type": "code",
   "execution_count": 1,
   "metadata": {},
   "outputs": [],
   "source": [
    "import numpy as np\n",
    "import pandas as pd\n",
    "from scipy import stats\n",
    "from math import sqrt\n",
    "from matplotlib import pyplot as plt\n",
    "import seaborn as sns\n",
    "import plotly.graph_objects as go\n",
    "import plotly.express as px\n",
    "from plotly.subplots import make_subplots\n",
    "from urllib.request import urlopen\n",
    "import json"
   ]
  },
  {
   "cell_type": "markdown",
   "metadata": {},
   "source": [
    "social and economic impacts of Covid-19 on American households\n",
    "\n",
    "National Center for Health Statistics. Indicators of Anxiety or Depression Based on Reported Frequency of Symptoms During Last 7 Days. Data accessed [Last accessed date]. Available from: https://data.cdc.gov/d/8pt5-q6wp."
   ]
  },
  {
   "cell_type": "code",
   "execution_count": 18,
   "metadata": {},
   "outputs": [],
   "source": [
    "usa = pd.read_csv('./data/Indicators_of_Anxiety_or_Depression_Based_on_Reported_Frequency_of_Symptoms_During_Last_7_Days.csv', sep=',')\n",
    "usa = pd.DataFrame(usa)\n"
   ]
  },
  {
   "attachments": {},
   "cell_type": "markdown",
   "metadata": {},
   "source": [
    "1-Discovering Data set"
   ]
  },
  {
   "cell_type": "code",
   "execution_count": 19,
   "metadata": {},
   "outputs": [
    {
     "data": {
      "text/html": [
       "<div>\n",
       "<style scoped>\n",
       "    .dataframe tbody tr th:only-of-type {\n",
       "        vertical-align: middle;\n",
       "    }\n",
       "\n",
       "    .dataframe tbody tr th {\n",
       "        vertical-align: top;\n",
       "    }\n",
       "\n",
       "    .dataframe thead th {\n",
       "        text-align: right;\n",
       "    }\n",
       "</style>\n",
       "<table border=\"1\" class=\"dataframe\">\n",
       "  <thead>\n",
       "    <tr style=\"text-align: right;\">\n",
       "      <th></th>\n",
       "      <th>Indicator</th>\n",
       "      <th>Group</th>\n",
       "      <th>State</th>\n",
       "      <th>Subgroup</th>\n",
       "      <th>Phase</th>\n",
       "      <th>Time Period</th>\n",
       "      <th>Time Period Label</th>\n",
       "      <th>Time Period Start Date</th>\n",
       "      <th>Time Period End Date</th>\n",
       "      <th>Value</th>\n",
       "      <th>Low CI</th>\n",
       "      <th>High CI</th>\n",
       "      <th>Confidence Interval</th>\n",
       "      <th>Quartile Range</th>\n",
       "    </tr>\n",
       "  </thead>\n",
       "  <tbody>\n",
       "    <tr>\n",
       "      <th>0</th>\n",
       "      <td>Symptoms of Depressive Disorder</td>\n",
       "      <td>National Estimate</td>\n",
       "      <td>United States</td>\n",
       "      <td>United States</td>\n",
       "      <td>1</td>\n",
       "      <td>1</td>\n",
       "      <td>Apr 23 - May 5, 2020</td>\n",
       "      <td>04/23/2020</td>\n",
       "      <td>05/05/2020</td>\n",
       "      <td>23.5</td>\n",
       "      <td>22.7</td>\n",
       "      <td>24.3</td>\n",
       "      <td>22.7 - 24.3</td>\n",
       "      <td>NaN</td>\n",
       "    </tr>\n",
       "    <tr>\n",
       "      <th>1</th>\n",
       "      <td>Symptoms of Depressive Disorder</td>\n",
       "      <td>By Age</td>\n",
       "      <td>United States</td>\n",
       "      <td>18 - 29 years</td>\n",
       "      <td>1</td>\n",
       "      <td>1</td>\n",
       "      <td>Apr 23 - May 5, 2020</td>\n",
       "      <td>04/23/2020</td>\n",
       "      <td>05/05/2020</td>\n",
       "      <td>32.7</td>\n",
       "      <td>30.2</td>\n",
       "      <td>35.2</td>\n",
       "      <td>30.2 - 35.2</td>\n",
       "      <td>NaN</td>\n",
       "    </tr>\n",
       "    <tr>\n",
       "      <th>2</th>\n",
       "      <td>Symptoms of Depressive Disorder</td>\n",
       "      <td>By Age</td>\n",
       "      <td>United States</td>\n",
       "      <td>30 - 39 years</td>\n",
       "      <td>1</td>\n",
       "      <td>1</td>\n",
       "      <td>Apr 23 - May 5, 2020</td>\n",
       "      <td>04/23/2020</td>\n",
       "      <td>05/05/2020</td>\n",
       "      <td>25.7</td>\n",
       "      <td>24.1</td>\n",
       "      <td>27.3</td>\n",
       "      <td>24.1 - 27.3</td>\n",
       "      <td>NaN</td>\n",
       "    </tr>\n",
       "    <tr>\n",
       "      <th>3</th>\n",
       "      <td>Symptoms of Depressive Disorder</td>\n",
       "      <td>By Age</td>\n",
       "      <td>United States</td>\n",
       "      <td>40 - 49 years</td>\n",
       "      <td>1</td>\n",
       "      <td>1</td>\n",
       "      <td>Apr 23 - May 5, 2020</td>\n",
       "      <td>04/23/2020</td>\n",
       "      <td>05/05/2020</td>\n",
       "      <td>24.8</td>\n",
       "      <td>23.3</td>\n",
       "      <td>26.2</td>\n",
       "      <td>23.3 - 26.2</td>\n",
       "      <td>NaN</td>\n",
       "    </tr>\n",
       "    <tr>\n",
       "      <th>4</th>\n",
       "      <td>Symptoms of Depressive Disorder</td>\n",
       "      <td>By Age</td>\n",
       "      <td>United States</td>\n",
       "      <td>50 - 59 years</td>\n",
       "      <td>1</td>\n",
       "      <td>1</td>\n",
       "      <td>Apr 23 - May 5, 2020</td>\n",
       "      <td>04/23/2020</td>\n",
       "      <td>05/05/2020</td>\n",
       "      <td>23.2</td>\n",
       "      <td>21.5</td>\n",
       "      <td>25.0</td>\n",
       "      <td>21.5 - 25.0</td>\n",
       "      <td>NaN</td>\n",
       "    </tr>\n",
       "  </tbody>\n",
       "</table>\n",
       "</div>"
      ],
      "text/plain": [
       "                         Indicator              Group          State  \\\n",
       "0  Symptoms of Depressive Disorder  National Estimate  United States   \n",
       "1  Symptoms of Depressive Disorder             By Age  United States   \n",
       "2  Symptoms of Depressive Disorder             By Age  United States   \n",
       "3  Symptoms of Depressive Disorder             By Age  United States   \n",
       "4  Symptoms of Depressive Disorder             By Age  United States   \n",
       "\n",
       "        Subgroup Phase  Time Period     Time Period Label  \\\n",
       "0  United States     1            1  Apr 23 - May 5, 2020   \n",
       "1  18 - 29 years     1            1  Apr 23 - May 5, 2020   \n",
       "2  30 - 39 years     1            1  Apr 23 - May 5, 2020   \n",
       "3  40 - 49 years     1            1  Apr 23 - May 5, 2020   \n",
       "4  50 - 59 years     1            1  Apr 23 - May 5, 2020   \n",
       "\n",
       "  Time Period Start Date Time Period End Date  Value  Low CI  High CI  \\\n",
       "0             04/23/2020           05/05/2020   23.5    22.7     24.3   \n",
       "1             04/23/2020           05/05/2020   32.7    30.2     35.2   \n",
       "2             04/23/2020           05/05/2020   25.7    24.1     27.3   \n",
       "3             04/23/2020           05/05/2020   24.8    23.3     26.2   \n",
       "4             04/23/2020           05/05/2020   23.2    21.5     25.0   \n",
       "\n",
       "  Confidence Interval Quartile Range  \n",
       "0         22.7 - 24.3            NaN  \n",
       "1         30.2 - 35.2            NaN  \n",
       "2         24.1 - 27.3            NaN  \n",
       "3         23.3 - 26.2            NaN  \n",
       "4         21.5 - 25.0            NaN  "
      ]
     },
     "execution_count": 19,
     "metadata": {},
     "output_type": "execute_result"
    }
   ],
   "source": [
    "usa.head()"
   ]
  },
  {
   "cell_type": "code",
   "execution_count": 20,
   "metadata": {},
   "outputs": [
    {
     "data": {
      "text/plain": [
       "By State                      7650\n",
       "By Age                        1218\n",
       "By Race/Hispanic ethnicity     870\n",
       "By Education                   696\n",
       "By Sex                         348\n",
       "By Gender identity             180\n",
       "By Sexual orientation          180\n",
       "National Estimate              174\n",
       "By Disability status           168\n",
       "Name: Group, dtype: int64"
      ]
     },
     "execution_count": 20,
     "metadata": {},
     "output_type": "execute_result"
    }
   ],
   "source": [
    "usa['Group'].value_counts()"
   ]
  },
  {
   "attachments": {},
   "cell_type": "markdown",
   "metadata": {},
   "source": [
    "2-Evaluate the evolution of the depression the past 3 years"
   ]
  },
  {
   "attachments": {},
   "cell_type": "markdown",
   "metadata": {},
   "source": [
    "2.1-Add a year column"
   ]
  },
  {
   "cell_type": "code",
   "execution_count": 21,
   "metadata": {},
   "outputs": [],
   "source": [
    "usa['Year'] = usa['Time Period Label'].str[-4:].astype(int)"
   ]
  },
  {
   "attachments": {},
   "cell_type": "markdown",
   "metadata": {},
   "source": [
    "2.2-Add month column"
   ]
  },
  {
   "cell_type": "code",
   "execution_count": 22,
   "metadata": {},
   "outputs": [
    {
     "data": {
      "text/html": [
       "<div>\n",
       "<style scoped>\n",
       "    .dataframe tbody tr th:only-of-type {\n",
       "        vertical-align: middle;\n",
       "    }\n",
       "\n",
       "    .dataframe tbody tr th {\n",
       "        vertical-align: top;\n",
       "    }\n",
       "\n",
       "    .dataframe thead th {\n",
       "        text-align: right;\n",
       "    }\n",
       "</style>\n",
       "<table border=\"1\" class=\"dataframe\">\n",
       "  <thead>\n",
       "    <tr style=\"text-align: right;\">\n",
       "      <th></th>\n",
       "      <th>Indicator</th>\n",
       "      <th>Group</th>\n",
       "      <th>State</th>\n",
       "      <th>Subgroup</th>\n",
       "      <th>Phase</th>\n",
       "      <th>Time Period</th>\n",
       "      <th>Time Period Label</th>\n",
       "      <th>Time Period Start Date</th>\n",
       "      <th>Time Period End Date</th>\n",
       "      <th>Value</th>\n",
       "      <th>Low CI</th>\n",
       "      <th>High CI</th>\n",
       "      <th>Confidence Interval</th>\n",
       "      <th>Quartile Range</th>\n",
       "      <th>Year</th>\n",
       "      <th>Month</th>\n",
       "    </tr>\n",
       "  </thead>\n",
       "  <tbody>\n",
       "    <tr>\n",
       "      <th>0</th>\n",
       "      <td>Symptoms of Depressive Disorder</td>\n",
       "      <td>National Estimate</td>\n",
       "      <td>United States</td>\n",
       "      <td>United States</td>\n",
       "      <td>1</td>\n",
       "      <td>1</td>\n",
       "      <td>Apr 23 - May 5, 2020</td>\n",
       "      <td>04/23/2020</td>\n",
       "      <td>05/05/2020</td>\n",
       "      <td>23.5</td>\n",
       "      <td>22.7</td>\n",
       "      <td>24.3</td>\n",
       "      <td>22.7 - 24.3</td>\n",
       "      <td>NaN</td>\n",
       "      <td>2020</td>\n",
       "      <td>4</td>\n",
       "    </tr>\n",
       "    <tr>\n",
       "      <th>1</th>\n",
       "      <td>Symptoms of Depressive Disorder</td>\n",
       "      <td>By Age</td>\n",
       "      <td>United States</td>\n",
       "      <td>18 - 29 years</td>\n",
       "      <td>1</td>\n",
       "      <td>1</td>\n",
       "      <td>Apr 23 - May 5, 2020</td>\n",
       "      <td>04/23/2020</td>\n",
       "      <td>05/05/2020</td>\n",
       "      <td>32.7</td>\n",
       "      <td>30.2</td>\n",
       "      <td>35.2</td>\n",
       "      <td>30.2 - 35.2</td>\n",
       "      <td>NaN</td>\n",
       "      <td>2020</td>\n",
       "      <td>4</td>\n",
       "    </tr>\n",
       "    <tr>\n",
       "      <th>2</th>\n",
       "      <td>Symptoms of Depressive Disorder</td>\n",
       "      <td>By Age</td>\n",
       "      <td>United States</td>\n",
       "      <td>30 - 39 years</td>\n",
       "      <td>1</td>\n",
       "      <td>1</td>\n",
       "      <td>Apr 23 - May 5, 2020</td>\n",
       "      <td>04/23/2020</td>\n",
       "      <td>05/05/2020</td>\n",
       "      <td>25.7</td>\n",
       "      <td>24.1</td>\n",
       "      <td>27.3</td>\n",
       "      <td>24.1 - 27.3</td>\n",
       "      <td>NaN</td>\n",
       "      <td>2020</td>\n",
       "      <td>4</td>\n",
       "    </tr>\n",
       "    <tr>\n",
       "      <th>3</th>\n",
       "      <td>Symptoms of Depressive Disorder</td>\n",
       "      <td>By Age</td>\n",
       "      <td>United States</td>\n",
       "      <td>40 - 49 years</td>\n",
       "      <td>1</td>\n",
       "      <td>1</td>\n",
       "      <td>Apr 23 - May 5, 2020</td>\n",
       "      <td>04/23/2020</td>\n",
       "      <td>05/05/2020</td>\n",
       "      <td>24.8</td>\n",
       "      <td>23.3</td>\n",
       "      <td>26.2</td>\n",
       "      <td>23.3 - 26.2</td>\n",
       "      <td>NaN</td>\n",
       "      <td>2020</td>\n",
       "      <td>4</td>\n",
       "    </tr>\n",
       "    <tr>\n",
       "      <th>4</th>\n",
       "      <td>Symptoms of Depressive Disorder</td>\n",
       "      <td>By Age</td>\n",
       "      <td>United States</td>\n",
       "      <td>50 - 59 years</td>\n",
       "      <td>1</td>\n",
       "      <td>1</td>\n",
       "      <td>Apr 23 - May 5, 2020</td>\n",
       "      <td>04/23/2020</td>\n",
       "      <td>05/05/2020</td>\n",
       "      <td>23.2</td>\n",
       "      <td>21.5</td>\n",
       "      <td>25.0</td>\n",
       "      <td>21.5 - 25.0</td>\n",
       "      <td>NaN</td>\n",
       "      <td>2020</td>\n",
       "      <td>4</td>\n",
       "    </tr>\n",
       "    <tr>\n",
       "      <th>...</th>\n",
       "      <td>...</td>\n",
       "      <td>...</td>\n",
       "      <td>...</td>\n",
       "      <td>...</td>\n",
       "      <td>...</td>\n",
       "      <td>...</td>\n",
       "      <td>...</td>\n",
       "      <td>...</td>\n",
       "      <td>...</td>\n",
       "      <td>...</td>\n",
       "      <td>...</td>\n",
       "      <td>...</td>\n",
       "      <td>...</td>\n",
       "      <td>...</td>\n",
       "      <td>...</td>\n",
       "      <td>...</td>\n",
       "    </tr>\n",
       "    <tr>\n",
       "      <th>11479</th>\n",
       "      <td>Symptoms of Anxiety Disorder or Depressive Dis...</td>\n",
       "      <td>By State</td>\n",
       "      <td>Virginia</td>\n",
       "      <td>Virginia</td>\n",
       "      <td>3.6</td>\n",
       "      <td>50</td>\n",
       "      <td>Oct 5 - Oct 17, 2022</td>\n",
       "      <td>10/05/2022</td>\n",
       "      <td>10/17/2022</td>\n",
       "      <td>33.5</td>\n",
       "      <td>29.6</td>\n",
       "      <td>37.5</td>\n",
       "      <td>29.6 - 37.5</td>\n",
       "      <td>33.4-35.7</td>\n",
       "      <td>2022</td>\n",
       "      <td>10</td>\n",
       "    </tr>\n",
       "    <tr>\n",
       "      <th>11480</th>\n",
       "      <td>Symptoms of Anxiety Disorder or Depressive Dis...</td>\n",
       "      <td>By State</td>\n",
       "      <td>Washington</td>\n",
       "      <td>Washington</td>\n",
       "      <td>3.6</td>\n",
       "      <td>50</td>\n",
       "      <td>Oct 5 - Oct 17, 2022</td>\n",
       "      <td>10/05/2022</td>\n",
       "      <td>10/17/2022</td>\n",
       "      <td>36.9</td>\n",
       "      <td>32.6</td>\n",
       "      <td>41.4</td>\n",
       "      <td>32.6 - 41.4</td>\n",
       "      <td>35.8-38.5</td>\n",
       "      <td>2022</td>\n",
       "      <td>10</td>\n",
       "    </tr>\n",
       "    <tr>\n",
       "      <th>11481</th>\n",
       "      <td>Symptoms of Anxiety Disorder or Depressive Dis...</td>\n",
       "      <td>By State</td>\n",
       "      <td>West Virginia</td>\n",
       "      <td>West Virginia</td>\n",
       "      <td>3.6</td>\n",
       "      <td>50</td>\n",
       "      <td>Oct 5 - Oct 17, 2022</td>\n",
       "      <td>10/05/2022</td>\n",
       "      <td>10/17/2022</td>\n",
       "      <td>38.2</td>\n",
       "      <td>31.2</td>\n",
       "      <td>45.6</td>\n",
       "      <td>31.2 - 45.6</td>\n",
       "      <td>35.8-38.5</td>\n",
       "      <td>2022</td>\n",
       "      <td>10</td>\n",
       "    </tr>\n",
       "    <tr>\n",
       "      <th>11482</th>\n",
       "      <td>Symptoms of Anxiety Disorder or Depressive Dis...</td>\n",
       "      <td>By State</td>\n",
       "      <td>Wisconsin</td>\n",
       "      <td>Wisconsin</td>\n",
       "      <td>3.6</td>\n",
       "      <td>50</td>\n",
       "      <td>Oct 5 - Oct 17, 2022</td>\n",
       "      <td>10/05/2022</td>\n",
       "      <td>10/17/2022</td>\n",
       "      <td>29.9</td>\n",
       "      <td>25.8</td>\n",
       "      <td>34.3</td>\n",
       "      <td>25.8 - 34.3</td>\n",
       "      <td>27.5-33.3</td>\n",
       "      <td>2022</td>\n",
       "      <td>10</td>\n",
       "    </tr>\n",
       "    <tr>\n",
       "      <th>11483</th>\n",
       "      <td>Symptoms of Anxiety Disorder or Depressive Dis...</td>\n",
       "      <td>By State</td>\n",
       "      <td>Wyoming</td>\n",
       "      <td>Wyoming</td>\n",
       "      <td>3.6</td>\n",
       "      <td>50</td>\n",
       "      <td>Oct 5 - Oct 17, 2022</td>\n",
       "      <td>10/05/2022</td>\n",
       "      <td>10/17/2022</td>\n",
       "      <td>27.5</td>\n",
       "      <td>21.2</td>\n",
       "      <td>34.6</td>\n",
       "      <td>21.2 - 34.6</td>\n",
       "      <td>27.5-33.3</td>\n",
       "      <td>2022</td>\n",
       "      <td>10</td>\n",
       "    </tr>\n",
       "  </tbody>\n",
       "</table>\n",
       "<p>11484 rows × 16 columns</p>\n",
       "</div>"
      ],
      "text/plain": [
       "                                               Indicator              Group  \\\n",
       "0                        Symptoms of Depressive Disorder  National Estimate   \n",
       "1                        Symptoms of Depressive Disorder             By Age   \n",
       "2                        Symptoms of Depressive Disorder             By Age   \n",
       "3                        Symptoms of Depressive Disorder             By Age   \n",
       "4                        Symptoms of Depressive Disorder             By Age   \n",
       "...                                                  ...                ...   \n",
       "11479  Symptoms of Anxiety Disorder or Depressive Dis...           By State   \n",
       "11480  Symptoms of Anxiety Disorder or Depressive Dis...           By State   \n",
       "11481  Symptoms of Anxiety Disorder or Depressive Dis...           By State   \n",
       "11482  Symptoms of Anxiety Disorder or Depressive Dis...           By State   \n",
       "11483  Symptoms of Anxiety Disorder or Depressive Dis...           By State   \n",
       "\n",
       "               State       Subgroup Phase  Time Period     Time Period Label  \\\n",
       "0      United States  United States     1            1  Apr 23 - May 5, 2020   \n",
       "1      United States  18 - 29 years     1            1  Apr 23 - May 5, 2020   \n",
       "2      United States  30 - 39 years     1            1  Apr 23 - May 5, 2020   \n",
       "3      United States  40 - 49 years     1            1  Apr 23 - May 5, 2020   \n",
       "4      United States  50 - 59 years     1            1  Apr 23 - May 5, 2020   \n",
       "...              ...            ...   ...          ...                   ...   \n",
       "11479       Virginia       Virginia   3.6           50  Oct 5 - Oct 17, 2022   \n",
       "11480     Washington     Washington   3.6           50  Oct 5 - Oct 17, 2022   \n",
       "11481  West Virginia  West Virginia   3.6           50  Oct 5 - Oct 17, 2022   \n",
       "11482      Wisconsin      Wisconsin   3.6           50  Oct 5 - Oct 17, 2022   \n",
       "11483        Wyoming        Wyoming   3.6           50  Oct 5 - Oct 17, 2022   \n",
       "\n",
       "      Time Period Start Date Time Period End Date  Value  Low CI  High CI  \\\n",
       "0                 04/23/2020           05/05/2020   23.5    22.7     24.3   \n",
       "1                 04/23/2020           05/05/2020   32.7    30.2     35.2   \n",
       "2                 04/23/2020           05/05/2020   25.7    24.1     27.3   \n",
       "3                 04/23/2020           05/05/2020   24.8    23.3     26.2   \n",
       "4                 04/23/2020           05/05/2020   23.2    21.5     25.0   \n",
       "...                      ...                  ...    ...     ...      ...   \n",
       "11479             10/05/2022           10/17/2022   33.5    29.6     37.5   \n",
       "11480             10/05/2022           10/17/2022   36.9    32.6     41.4   \n",
       "11481             10/05/2022           10/17/2022   38.2    31.2     45.6   \n",
       "11482             10/05/2022           10/17/2022   29.9    25.8     34.3   \n",
       "11483             10/05/2022           10/17/2022   27.5    21.2     34.6   \n",
       "\n",
       "      Confidence Interval Quartile Range  Year  Month  \n",
       "0             22.7 - 24.3            NaN  2020      4  \n",
       "1             30.2 - 35.2            NaN  2020      4  \n",
       "2             24.1 - 27.3            NaN  2020      4  \n",
       "3             23.3 - 26.2            NaN  2020      4  \n",
       "4             21.5 - 25.0            NaN  2020      4  \n",
       "...                   ...            ...   ...    ...  \n",
       "11479         29.6 - 37.5      33.4-35.7  2022     10  \n",
       "11480         32.6 - 41.4      35.8-38.5  2022     10  \n",
       "11481         31.2 - 45.6      35.8-38.5  2022     10  \n",
       "11482         25.8 - 34.3      27.5-33.3  2022     10  \n",
       "11483         21.2 - 34.6      27.5-33.3  2022     10  \n",
       "\n",
       "[11484 rows x 16 columns]"
      ]
     },
     "execution_count": 22,
     "metadata": {},
     "output_type": "execute_result"
    }
   ],
   "source": [
    "usa['Month'] = usa['Time Period Start Date'].str[:2].astype(int)\n",
    "usa"
   ]
  },
  {
   "attachments": {},
   "cell_type": "markdown",
   "metadata": {},
   "source": [
    "3-Evaluate depression repartition through America"
   ]
  },
  {
   "cell_type": "code",
   "execution_count": 31,
   "metadata": {},
   "outputs": [],
   "source": [
    "states = usa.query(\"Indicator == 'Symptoms of Depressive Disorder' & Group == 'By State'\")\n",
    "states['Value'].max()\n",
    "states = states.groupby(states['Subgroup']).mean().reset_index()"
   ]
  },
  {
   "attachments": {},
   "cell_type": "markdown",
   "metadata": {},
   "source": [
    "3.1-Add States code columns"
   ]
  },
  {
   "cell_type": "code",
   "execution_count": 32,
   "metadata": {},
   "outputs": [
    {
     "data": {
      "text/html": [
       "<div>\n",
       "<style scoped>\n",
       "    .dataframe tbody tr th:only-of-type {\n",
       "        vertical-align: middle;\n",
       "    }\n",
       "\n",
       "    .dataframe tbody tr th {\n",
       "        vertical-align: top;\n",
       "    }\n",
       "\n",
       "    .dataframe thead th {\n",
       "        text-align: right;\n",
       "    }\n",
       "</style>\n",
       "<table border=\"1\" class=\"dataframe\">\n",
       "  <thead>\n",
       "    <tr style=\"text-align: right;\">\n",
       "      <th></th>\n",
       "      <th>Subgroup</th>\n",
       "      <th>Time Period</th>\n",
       "      <th>Value</th>\n",
       "      <th>Low CI</th>\n",
       "      <th>High CI</th>\n",
       "      <th>Year</th>\n",
       "      <th>Month</th>\n",
       "      <th>Code</th>\n",
       "    </tr>\n",
       "  </thead>\n",
       "  <tbody>\n",
       "    <tr>\n",
       "      <th>0</th>\n",
       "      <td>Alabama</td>\n",
       "      <td>25.5</td>\n",
       "      <td>26.658</td>\n",
       "      <td>21.846</td>\n",
       "      <td>31.924</td>\n",
       "      <td>2020.78</td>\n",
       "      <td>6.46</td>\n",
       "      <td>AL</td>\n",
       "    </tr>\n",
       "    <tr>\n",
       "      <th>1</th>\n",
       "      <td>Alaska</td>\n",
       "      <td>25.5</td>\n",
       "      <td>24.352</td>\n",
       "      <td>20.350</td>\n",
       "      <td>28.728</td>\n",
       "      <td>2020.78</td>\n",
       "      <td>6.46</td>\n",
       "      <td>AK</td>\n",
       "    </tr>\n",
       "    <tr>\n",
       "      <th>2</th>\n",
       "      <td>Arizona</td>\n",
       "      <td>25.5</td>\n",
       "      <td>25.692</td>\n",
       "      <td>21.944</td>\n",
       "      <td>29.722</td>\n",
       "      <td>2020.78</td>\n",
       "      <td>6.46</td>\n",
       "      <td>AZ</td>\n",
       "    </tr>\n",
       "    <tr>\n",
       "      <th>3</th>\n",
       "      <td>Arkansas</td>\n",
       "      <td>25.5</td>\n",
       "      <td>27.284</td>\n",
       "      <td>22.594</td>\n",
       "      <td>32.390</td>\n",
       "      <td>2020.78</td>\n",
       "      <td>6.46</td>\n",
       "      <td>AR</td>\n",
       "    </tr>\n",
       "    <tr>\n",
       "      <th>4</th>\n",
       "      <td>California</td>\n",
       "      <td>25.5</td>\n",
       "      <td>26.138</td>\n",
       "      <td>23.406</td>\n",
       "      <td>29.026</td>\n",
       "      <td>2020.78</td>\n",
       "      <td>6.46</td>\n",
       "      <td>CA</td>\n",
       "    </tr>\n",
       "    <tr>\n",
       "      <th>5</th>\n",
       "      <td>Colorado</td>\n",
       "      <td>25.5</td>\n",
       "      <td>23.510</td>\n",
       "      <td>20.044</td>\n",
       "      <td>27.274</td>\n",
       "      <td>2020.78</td>\n",
       "      <td>6.46</td>\n",
       "      <td>CO</td>\n",
       "    </tr>\n",
       "    <tr>\n",
       "      <th>6</th>\n",
       "      <td>Connecticut</td>\n",
       "      <td>25.5</td>\n",
       "      <td>21.988</td>\n",
       "      <td>18.220</td>\n",
       "      <td>26.150</td>\n",
       "      <td>2020.78</td>\n",
       "      <td>6.46</td>\n",
       "      <td>CT</td>\n",
       "    </tr>\n",
       "    <tr>\n",
       "      <th>7</th>\n",
       "      <td>Delaware</td>\n",
       "      <td>25.5</td>\n",
       "      <td>21.954</td>\n",
       "      <td>17.224</td>\n",
       "      <td>27.322</td>\n",
       "      <td>2020.78</td>\n",
       "      <td>6.46</td>\n",
       "      <td>DE</td>\n",
       "    </tr>\n",
       "    <tr>\n",
       "      <th>8</th>\n",
       "      <td>District of Columbia</td>\n",
       "      <td>25.5</td>\n",
       "      <td>22.966</td>\n",
       "      <td>17.466</td>\n",
       "      <td>29.250</td>\n",
       "      <td>2020.78</td>\n",
       "      <td>6.46</td>\n",
       "      <td>DC</td>\n",
       "    </tr>\n",
       "    <tr>\n",
       "      <th>9</th>\n",
       "      <td>Florida</td>\n",
       "      <td>25.5</td>\n",
       "      <td>25.250</td>\n",
       "      <td>21.870</td>\n",
       "      <td>28.864</td>\n",
       "      <td>2020.78</td>\n",
       "      <td>6.46</td>\n",
       "      <td>FL</td>\n",
       "    </tr>\n",
       "    <tr>\n",
       "      <th>10</th>\n",
       "      <td>Georgia</td>\n",
       "      <td>25.5</td>\n",
       "      <td>25.306</td>\n",
       "      <td>21.302</td>\n",
       "      <td>29.638</td>\n",
       "      <td>2020.78</td>\n",
       "      <td>6.46</td>\n",
       "      <td>GA</td>\n",
       "    </tr>\n",
       "    <tr>\n",
       "      <th>11</th>\n",
       "      <td>Hawaii</td>\n",
       "      <td>25.5</td>\n",
       "      <td>22.834</td>\n",
       "      <td>17.938</td>\n",
       "      <td>28.376</td>\n",
       "      <td>2020.78</td>\n",
       "      <td>6.46</td>\n",
       "      <td>HI</td>\n",
       "    </tr>\n",
       "    <tr>\n",
       "      <th>12</th>\n",
       "      <td>Idaho</td>\n",
       "      <td>25.5</td>\n",
       "      <td>22.532</td>\n",
       "      <td>18.658</td>\n",
       "      <td>26.820</td>\n",
       "      <td>2020.78</td>\n",
       "      <td>6.46</td>\n",
       "      <td>ID</td>\n",
       "    </tr>\n",
       "    <tr>\n",
       "      <th>13</th>\n",
       "      <td>Illinois</td>\n",
       "      <td>25.5</td>\n",
       "      <td>23.656</td>\n",
       "      <td>20.086</td>\n",
       "      <td>27.548</td>\n",
       "      <td>2020.78</td>\n",
       "      <td>6.46</td>\n",
       "      <td>IL</td>\n",
       "    </tr>\n",
       "    <tr>\n",
       "      <th>14</th>\n",
       "      <td>Indiana</td>\n",
       "      <td>25.5</td>\n",
       "      <td>24.118</td>\n",
       "      <td>20.356</td>\n",
       "      <td>28.222</td>\n",
       "      <td>2020.78</td>\n",
       "      <td>6.46</td>\n",
       "      <td>IN</td>\n",
       "    </tr>\n",
       "    <tr>\n",
       "      <th>15</th>\n",
       "      <td>Iowa</td>\n",
       "      <td>25.5</td>\n",
       "      <td>21.612</td>\n",
       "      <td>17.676</td>\n",
       "      <td>26.002</td>\n",
       "      <td>2020.78</td>\n",
       "      <td>6.46</td>\n",
       "      <td>IA</td>\n",
       "    </tr>\n",
       "    <tr>\n",
       "      <th>16</th>\n",
       "      <td>Kansas</td>\n",
       "      <td>25.5</td>\n",
       "      <td>22.738</td>\n",
       "      <td>19.016</td>\n",
       "      <td>26.826</td>\n",
       "      <td>2020.78</td>\n",
       "      <td>6.46</td>\n",
       "      <td>KS</td>\n",
       "    </tr>\n",
       "    <tr>\n",
       "      <th>17</th>\n",
       "      <td>Kentucky</td>\n",
       "      <td>25.5</td>\n",
       "      <td>26.886</td>\n",
       "      <td>22.246</td>\n",
       "      <td>31.974</td>\n",
       "      <td>2020.78</td>\n",
       "      <td>6.46</td>\n",
       "      <td>KY</td>\n",
       "    </tr>\n",
       "    <tr>\n",
       "      <th>18</th>\n",
       "      <td>Louisiana</td>\n",
       "      <td>25.5</td>\n",
       "      <td>29.416</td>\n",
       "      <td>24.232</td>\n",
       "      <td>35.028</td>\n",
       "      <td>2020.78</td>\n",
       "      <td>6.46</td>\n",
       "      <td>LA</td>\n",
       "    </tr>\n",
       "    <tr>\n",
       "      <th>19</th>\n",
       "      <td>Maine</td>\n",
       "      <td>25.5</td>\n",
       "      <td>21.086</td>\n",
       "      <td>16.488</td>\n",
       "      <td>26.326</td>\n",
       "      <td>2020.78</td>\n",
       "      <td>6.46</td>\n",
       "      <td>ME</td>\n",
       "    </tr>\n",
       "    <tr>\n",
       "      <th>20</th>\n",
       "      <td>Maryland</td>\n",
       "      <td>25.5</td>\n",
       "      <td>22.240</td>\n",
       "      <td>18.782</td>\n",
       "      <td>26.038</td>\n",
       "      <td>2020.78</td>\n",
       "      <td>6.46</td>\n",
       "      <td>MD</td>\n",
       "    </tr>\n",
       "    <tr>\n",
       "      <th>21</th>\n",
       "      <td>Massachusetts</td>\n",
       "      <td>25.5</td>\n",
       "      <td>21.946</td>\n",
       "      <td>18.712</td>\n",
       "      <td>25.464</td>\n",
       "      <td>2020.78</td>\n",
       "      <td>6.46</td>\n",
       "      <td>MA</td>\n",
       "    </tr>\n",
       "    <tr>\n",
       "      <th>22</th>\n",
       "      <td>Michigan</td>\n",
       "      <td>25.5</td>\n",
       "      <td>23.350</td>\n",
       "      <td>20.050</td>\n",
       "      <td>26.918</td>\n",
       "      <td>2020.78</td>\n",
       "      <td>6.46</td>\n",
       "      <td>MI</td>\n",
       "    </tr>\n",
       "    <tr>\n",
       "      <th>23</th>\n",
       "      <td>Minnesota</td>\n",
       "      <td>25.5</td>\n",
       "      <td>19.460</td>\n",
       "      <td>16.218</td>\n",
       "      <td>23.056</td>\n",
       "      <td>2020.78</td>\n",
       "      <td>6.46</td>\n",
       "      <td>MN</td>\n",
       "    </tr>\n",
       "    <tr>\n",
       "      <th>24</th>\n",
       "      <td>Mississippi</td>\n",
       "      <td>25.5</td>\n",
       "      <td>28.636</td>\n",
       "      <td>23.024</td>\n",
       "      <td>34.800</td>\n",
       "      <td>2020.78</td>\n",
       "      <td>6.46</td>\n",
       "      <td>MS</td>\n",
       "    </tr>\n",
       "    <tr>\n",
       "      <th>25</th>\n",
       "      <td>Missouri</td>\n",
       "      <td>25.5</td>\n",
       "      <td>24.472</td>\n",
       "      <td>20.374</td>\n",
       "      <td>28.940</td>\n",
       "      <td>2020.78</td>\n",
       "      <td>6.46</td>\n",
       "      <td>MO</td>\n",
       "    </tr>\n",
       "    <tr>\n",
       "      <th>26</th>\n",
       "      <td>Montana</td>\n",
       "      <td>25.5</td>\n",
       "      <td>21.626</td>\n",
       "      <td>17.118</td>\n",
       "      <td>26.738</td>\n",
       "      <td>2020.78</td>\n",
       "      <td>6.46</td>\n",
       "      <td>MT</td>\n",
       "    </tr>\n",
       "    <tr>\n",
       "      <th>27</th>\n",
       "      <td>Nebraska</td>\n",
       "      <td>25.5</td>\n",
       "      <td>21.196</td>\n",
       "      <td>17.356</td>\n",
       "      <td>25.472</td>\n",
       "      <td>2020.78</td>\n",
       "      <td>6.46</td>\n",
       "      <td>NE</td>\n",
       "    </tr>\n",
       "    <tr>\n",
       "      <th>28</th>\n",
       "      <td>Nevada</td>\n",
       "      <td>25.5</td>\n",
       "      <td>28.052</td>\n",
       "      <td>23.804</td>\n",
       "      <td>32.622</td>\n",
       "      <td>2020.78</td>\n",
       "      <td>6.46</td>\n",
       "      <td>NV</td>\n",
       "    </tr>\n",
       "    <tr>\n",
       "      <th>29</th>\n",
       "      <td>New Hampshire</td>\n",
       "      <td>25.5</td>\n",
       "      <td>21.024</td>\n",
       "      <td>16.828</td>\n",
       "      <td>25.744</td>\n",
       "      <td>2020.78</td>\n",
       "      <td>6.46</td>\n",
       "      <td>NH</td>\n",
       "    </tr>\n",
       "    <tr>\n",
       "      <th>30</th>\n",
       "      <td>New Jersey</td>\n",
       "      <td>25.5</td>\n",
       "      <td>23.002</td>\n",
       "      <td>19.260</td>\n",
       "      <td>27.096</td>\n",
       "      <td>2020.78</td>\n",
       "      <td>6.46</td>\n",
       "      <td>NJ</td>\n",
       "    </tr>\n",
       "    <tr>\n",
       "      <th>31</th>\n",
       "      <td>New Mexico</td>\n",
       "      <td>25.5</td>\n",
       "      <td>27.040</td>\n",
       "      <td>22.568</td>\n",
       "      <td>31.896</td>\n",
       "      <td>2020.78</td>\n",
       "      <td>6.46</td>\n",
       "      <td>NM</td>\n",
       "    </tr>\n",
       "    <tr>\n",
       "      <th>32</th>\n",
       "      <td>New York</td>\n",
       "      <td>25.5</td>\n",
       "      <td>23.472</td>\n",
       "      <td>19.734</td>\n",
       "      <td>27.568</td>\n",
       "      <td>2020.78</td>\n",
       "      <td>6.46</td>\n",
       "      <td>NY</td>\n",
       "    </tr>\n",
       "    <tr>\n",
       "      <th>33</th>\n",
       "      <td>North Carolina</td>\n",
       "      <td>25.5</td>\n",
       "      <td>23.178</td>\n",
       "      <td>18.944</td>\n",
       "      <td>27.872</td>\n",
       "      <td>2020.78</td>\n",
       "      <td>6.46</td>\n",
       "      <td>NC</td>\n",
       "    </tr>\n",
       "    <tr>\n",
       "      <th>34</th>\n",
       "      <td>North Dakota</td>\n",
       "      <td>25.5</td>\n",
       "      <td>20.352</td>\n",
       "      <td>15.300</td>\n",
       "      <td>26.234</td>\n",
       "      <td>2020.78</td>\n",
       "      <td>6.46</td>\n",
       "      <td>ND</td>\n",
       "    </tr>\n",
       "    <tr>\n",
       "      <th>35</th>\n",
       "      <td>Ohio</td>\n",
       "      <td>25.5</td>\n",
       "      <td>24.330</td>\n",
       "      <td>20.232</td>\n",
       "      <td>28.824</td>\n",
       "      <td>2020.78</td>\n",
       "      <td>6.46</td>\n",
       "      <td>OH</td>\n",
       "    </tr>\n",
       "    <tr>\n",
       "      <th>36</th>\n",
       "      <td>Oklahoma</td>\n",
       "      <td>25.5</td>\n",
       "      <td>27.546</td>\n",
       "      <td>22.996</td>\n",
       "      <td>32.486</td>\n",
       "      <td>2020.78</td>\n",
       "      <td>6.46</td>\n",
       "      <td>OK</td>\n",
       "    </tr>\n",
       "    <tr>\n",
       "      <th>37</th>\n",
       "      <td>Oregon</td>\n",
       "      <td>25.5</td>\n",
       "      <td>26.166</td>\n",
       "      <td>22.876</td>\n",
       "      <td>29.672</td>\n",
       "      <td>2020.78</td>\n",
       "      <td>6.46</td>\n",
       "      <td>OR</td>\n",
       "    </tr>\n",
       "    <tr>\n",
       "      <th>38</th>\n",
       "      <td>Pennsylvania</td>\n",
       "      <td>25.5</td>\n",
       "      <td>23.728</td>\n",
       "      <td>20.158</td>\n",
       "      <td>27.612</td>\n",
       "      <td>2020.78</td>\n",
       "      <td>6.46</td>\n",
       "      <td>PA</td>\n",
       "    </tr>\n",
       "    <tr>\n",
       "      <th>39</th>\n",
       "      <td>Rhode Island</td>\n",
       "      <td>25.5</td>\n",
       "      <td>22.512</td>\n",
       "      <td>17.590</td>\n",
       "      <td>28.106</td>\n",
       "      <td>2020.78</td>\n",
       "      <td>6.46</td>\n",
       "      <td>RI</td>\n",
       "    </tr>\n",
       "    <tr>\n",
       "      <th>40</th>\n",
       "      <td>South Carolina</td>\n",
       "      <td>25.5</td>\n",
       "      <td>23.712</td>\n",
       "      <td>19.340</td>\n",
       "      <td>28.556</td>\n",
       "      <td>2020.78</td>\n",
       "      <td>6.46</td>\n",
       "      <td>SC</td>\n",
       "    </tr>\n",
       "    <tr>\n",
       "      <th>41</th>\n",
       "      <td>South Dakota</td>\n",
       "      <td>25.5</td>\n",
       "      <td>19.618</td>\n",
       "      <td>14.958</td>\n",
       "      <td>25.034</td>\n",
       "      <td>2020.78</td>\n",
       "      <td>6.46</td>\n",
       "      <td>SD</td>\n",
       "    </tr>\n",
       "    <tr>\n",
       "      <th>42</th>\n",
       "      <td>Tennessee</td>\n",
       "      <td>25.5</td>\n",
       "      <td>25.590</td>\n",
       "      <td>21.514</td>\n",
       "      <td>30.024</td>\n",
       "      <td>2020.78</td>\n",
       "      <td>6.46</td>\n",
       "      <td>TN</td>\n",
       "    </tr>\n",
       "    <tr>\n",
       "      <th>43</th>\n",
       "      <td>Texas</td>\n",
       "      <td>25.5</td>\n",
       "      <td>26.656</td>\n",
       "      <td>23.504</td>\n",
       "      <td>29.986</td>\n",
       "      <td>2020.78</td>\n",
       "      <td>6.46</td>\n",
       "      <td>TX</td>\n",
       "    </tr>\n",
       "    <tr>\n",
       "      <th>44</th>\n",
       "      <td>Utah</td>\n",
       "      <td>25.5</td>\n",
       "      <td>24.034</td>\n",
       "      <td>20.692</td>\n",
       "      <td>27.644</td>\n",
       "      <td>2020.78</td>\n",
       "      <td>6.46</td>\n",
       "      <td>UT</td>\n",
       "    </tr>\n",
       "    <tr>\n",
       "      <th>45</th>\n",
       "      <td>Vermont</td>\n",
       "      <td>25.5</td>\n",
       "      <td>21.440</td>\n",
       "      <td>16.438</td>\n",
       "      <td>27.188</td>\n",
       "      <td>2020.78</td>\n",
       "      <td>6.46</td>\n",
       "      <td>VT</td>\n",
       "    </tr>\n",
       "    <tr>\n",
       "      <th>46</th>\n",
       "      <td>Virginia</td>\n",
       "      <td>25.5</td>\n",
       "      <td>22.808</td>\n",
       "      <td>19.152</td>\n",
       "      <td>26.802</td>\n",
       "      <td>2020.78</td>\n",
       "      <td>6.46</td>\n",
       "      <td>VA</td>\n",
       "    </tr>\n",
       "    <tr>\n",
       "      <th>47</th>\n",
       "      <td>Washington</td>\n",
       "      <td>25.5</td>\n",
       "      <td>24.456</td>\n",
       "      <td>21.470</td>\n",
       "      <td>27.624</td>\n",
       "      <td>2020.78</td>\n",
       "      <td>6.46</td>\n",
       "      <td>WA</td>\n",
       "    </tr>\n",
       "    <tr>\n",
       "      <th>48</th>\n",
       "      <td>West Virginia</td>\n",
       "      <td>25.5</td>\n",
       "      <td>27.338</td>\n",
       "      <td>21.898</td>\n",
       "      <td>33.336</td>\n",
       "      <td>2020.78</td>\n",
       "      <td>6.46</td>\n",
       "      <td>WV</td>\n",
       "    </tr>\n",
       "    <tr>\n",
       "      <th>49</th>\n",
       "      <td>Wisconsin</td>\n",
       "      <td>25.5</td>\n",
       "      <td>20.458</td>\n",
       "      <td>16.906</td>\n",
       "      <td>24.390</td>\n",
       "      <td>2020.78</td>\n",
       "      <td>6.46</td>\n",
       "      <td>WI</td>\n",
       "    </tr>\n",
       "    <tr>\n",
       "      <th>50</th>\n",
       "      <td>Wyoming</td>\n",
       "      <td>25.5</td>\n",
       "      <td>22.076</td>\n",
       "      <td>16.964</td>\n",
       "      <td>27.964</td>\n",
       "      <td>2020.78</td>\n",
       "      <td>6.46</td>\n",
       "      <td>WY</td>\n",
       "    </tr>\n",
       "  </tbody>\n",
       "</table>\n",
       "</div>"
      ],
      "text/plain": [
       "                Subgroup  Time Period   Value  Low CI  High CI     Year  \\\n",
       "0                Alabama         25.5  26.658  21.846   31.924  2020.78   \n",
       "1                 Alaska         25.5  24.352  20.350   28.728  2020.78   \n",
       "2                Arizona         25.5  25.692  21.944   29.722  2020.78   \n",
       "3               Arkansas         25.5  27.284  22.594   32.390  2020.78   \n",
       "4             California         25.5  26.138  23.406   29.026  2020.78   \n",
       "5               Colorado         25.5  23.510  20.044   27.274  2020.78   \n",
       "6            Connecticut         25.5  21.988  18.220   26.150  2020.78   \n",
       "7               Delaware         25.5  21.954  17.224   27.322  2020.78   \n",
       "8   District of Columbia         25.5  22.966  17.466   29.250  2020.78   \n",
       "9                Florida         25.5  25.250  21.870   28.864  2020.78   \n",
       "10               Georgia         25.5  25.306  21.302   29.638  2020.78   \n",
       "11                Hawaii         25.5  22.834  17.938   28.376  2020.78   \n",
       "12                 Idaho         25.5  22.532  18.658   26.820  2020.78   \n",
       "13              Illinois         25.5  23.656  20.086   27.548  2020.78   \n",
       "14               Indiana         25.5  24.118  20.356   28.222  2020.78   \n",
       "15                  Iowa         25.5  21.612  17.676   26.002  2020.78   \n",
       "16                Kansas         25.5  22.738  19.016   26.826  2020.78   \n",
       "17              Kentucky         25.5  26.886  22.246   31.974  2020.78   \n",
       "18             Louisiana         25.5  29.416  24.232   35.028  2020.78   \n",
       "19                 Maine         25.5  21.086  16.488   26.326  2020.78   \n",
       "20              Maryland         25.5  22.240  18.782   26.038  2020.78   \n",
       "21         Massachusetts         25.5  21.946  18.712   25.464  2020.78   \n",
       "22              Michigan         25.5  23.350  20.050   26.918  2020.78   \n",
       "23             Minnesota         25.5  19.460  16.218   23.056  2020.78   \n",
       "24           Mississippi         25.5  28.636  23.024   34.800  2020.78   \n",
       "25              Missouri         25.5  24.472  20.374   28.940  2020.78   \n",
       "26               Montana         25.5  21.626  17.118   26.738  2020.78   \n",
       "27              Nebraska         25.5  21.196  17.356   25.472  2020.78   \n",
       "28                Nevada         25.5  28.052  23.804   32.622  2020.78   \n",
       "29         New Hampshire         25.5  21.024  16.828   25.744  2020.78   \n",
       "30            New Jersey         25.5  23.002  19.260   27.096  2020.78   \n",
       "31            New Mexico         25.5  27.040  22.568   31.896  2020.78   \n",
       "32              New York         25.5  23.472  19.734   27.568  2020.78   \n",
       "33        North Carolina         25.5  23.178  18.944   27.872  2020.78   \n",
       "34          North Dakota         25.5  20.352  15.300   26.234  2020.78   \n",
       "35                  Ohio         25.5  24.330  20.232   28.824  2020.78   \n",
       "36              Oklahoma         25.5  27.546  22.996   32.486  2020.78   \n",
       "37                Oregon         25.5  26.166  22.876   29.672  2020.78   \n",
       "38          Pennsylvania         25.5  23.728  20.158   27.612  2020.78   \n",
       "39          Rhode Island         25.5  22.512  17.590   28.106  2020.78   \n",
       "40        South Carolina         25.5  23.712  19.340   28.556  2020.78   \n",
       "41          South Dakota         25.5  19.618  14.958   25.034  2020.78   \n",
       "42             Tennessee         25.5  25.590  21.514   30.024  2020.78   \n",
       "43                 Texas         25.5  26.656  23.504   29.986  2020.78   \n",
       "44                  Utah         25.5  24.034  20.692   27.644  2020.78   \n",
       "45               Vermont         25.5  21.440  16.438   27.188  2020.78   \n",
       "46              Virginia         25.5  22.808  19.152   26.802  2020.78   \n",
       "47            Washington         25.5  24.456  21.470   27.624  2020.78   \n",
       "48         West Virginia         25.5  27.338  21.898   33.336  2020.78   \n",
       "49             Wisconsin         25.5  20.458  16.906   24.390  2020.78   \n",
       "50               Wyoming         25.5  22.076  16.964   27.964  2020.78   \n",
       "\n",
       "    Month Code  \n",
       "0    6.46   AL  \n",
       "1    6.46   AK  \n",
       "2    6.46   AZ  \n",
       "3    6.46   AR  \n",
       "4    6.46   CA  \n",
       "5    6.46   CO  \n",
       "6    6.46   CT  \n",
       "7    6.46   DE  \n",
       "8    6.46   DC  \n",
       "9    6.46   FL  \n",
       "10   6.46   GA  \n",
       "11   6.46   HI  \n",
       "12   6.46   ID  \n",
       "13   6.46   IL  \n",
       "14   6.46   IN  \n",
       "15   6.46   IA  \n",
       "16   6.46   KS  \n",
       "17   6.46   KY  \n",
       "18   6.46   LA  \n",
       "19   6.46   ME  \n",
       "20   6.46   MD  \n",
       "21   6.46   MA  \n",
       "22   6.46   MI  \n",
       "23   6.46   MN  \n",
       "24   6.46   MS  \n",
       "25   6.46   MO  \n",
       "26   6.46   MT  \n",
       "27   6.46   NE  \n",
       "28   6.46   NV  \n",
       "29   6.46   NH  \n",
       "30   6.46   NJ  \n",
       "31   6.46   NM  \n",
       "32   6.46   NY  \n",
       "33   6.46   NC  \n",
       "34   6.46   ND  \n",
       "35   6.46   OH  \n",
       "36   6.46   OK  \n",
       "37   6.46   OR  \n",
       "38   6.46   PA  \n",
       "39   6.46   RI  \n",
       "40   6.46   SC  \n",
       "41   6.46   SD  \n",
       "42   6.46   TN  \n",
       "43   6.46   TX  \n",
       "44   6.46   UT  \n",
       "45   6.46   VT  \n",
       "46   6.46   VA  \n",
       "47   6.46   WA  \n",
       "48   6.46   WV  \n",
       "49   6.46   WI  \n",
       "50   6.46   WY  "
      ]
     },
     "metadata": {},
     "output_type": "display_data"
    }
   ],
   "source": [
    "us_states = {\n",
    "    'AK': 'Alaska',\n",
    "    'AL': 'Alabama',\n",
    "    'AR': 'Arkansas',\n",
    "    'AZ': 'Arizona',\n",
    "    'CA': 'California',\n",
    "    'CO': 'Colorado',\n",
    "    'CT': 'Connecticut',\n",
    "    'DC': 'District of Columbia',\n",
    "    'DE': 'Delaware',\n",
    "    'FL': 'Florida',\n",
    "    'GA': 'Georgia',\n",
    "    'HI': 'Hawaii',\n",
    "    'IA': 'Iowa',\n",
    "    'ID': 'Idaho',\n",
    "    'IL': 'Illinois',\n",
    "    'IN': 'Indiana',\n",
    "    'KS': 'Kansas',\n",
    "    'KY': 'Kentucky',\n",
    "    'LA': 'Louisiana',\n",
    "    'MA': 'Massachusetts',\n",
    "    'MD': 'Maryland',\n",
    "    'ME': 'Maine',\n",
    "    'MI': 'Michigan',\n",
    "    'MN': 'Minnesota',\n",
    "    'MO': 'Missouri',\n",
    "    'MS': 'Mississippi',\n",
    "    'MT': 'Montana',\n",
    "    'NC': 'North Carolina',\n",
    "    'ND': 'North Dakota',\n",
    "    'NE': 'Nebraska',\n",
    "    'NH': 'New Hampshire',\n",
    "    'NJ': 'New Jersey',\n",
    "    'NM': 'New Mexico',\n",
    "    'NV': 'Nevada',\n",
    "    'NY': 'New York',\n",
    "    'OH': 'Ohio',\n",
    "    'OK': 'Oklahoma',\n",
    "    'OR': 'Oregon',\n",
    "    'PA': 'Pennsylvania',\n",
    "    'RI': 'Rhode Island',\n",
    "    'SC': 'South Carolina',\n",
    "    'SD': 'South Dakota',\n",
    "    'TN': 'Tennessee',\n",
    "    'TX': 'Texas',\n",
    "    'UT': 'Utah',\n",
    "    'VA': 'Virginia',\n",
    "    'VT': 'Vermont',\n",
    "    'WA': 'Washington',\n",
    "    'WI': 'Wisconsin',\n",
    "    'WV': 'West Virginia',\n",
    "    'WY': 'Wyoming'\n",
    "}\n",
    "\n",
    "code = []\n",
    "\n",
    "for x in states['Subgroup']:\n",
    "    for i in us_states:\n",
    "        if us_states[i] == x:\n",
    "            code.append(i)\n",
    "\n",
    "states['Code'] = code\n",
    "display(states)"
   ]
  },
  {
   "cell_type": "code",
   "execution_count": 33,
   "metadata": {},
   "outputs": [],
   "source": [
    "states.drop(columns=['Time Period','Low CI', 'High CI', 'Year', 'Month'], inplace=True)"
   ]
  },
  {
   "cell_type": "code",
   "execution_count": 34,
   "metadata": {},
   "outputs": [
    {
     "data": {
      "text/html": [
       "<div>\n",
       "<style scoped>\n",
       "    .dataframe tbody tr th:only-of-type {\n",
       "        vertical-align: middle;\n",
       "    }\n",
       "\n",
       "    .dataframe tbody tr th {\n",
       "        vertical-align: top;\n",
       "    }\n",
       "\n",
       "    .dataframe thead th {\n",
       "        text-align: right;\n",
       "    }\n",
       "</style>\n",
       "<table border=\"1\" class=\"dataframe\">\n",
       "  <thead>\n",
       "    <tr style=\"text-align: right;\">\n",
       "      <th></th>\n",
       "      <th>Subgroup</th>\n",
       "      <th>Value</th>\n",
       "      <th>Code</th>\n",
       "    </tr>\n",
       "  </thead>\n",
       "  <tbody>\n",
       "    <tr>\n",
       "      <th>0</th>\n",
       "      <td>Alabama</td>\n",
       "      <td>26.658</td>\n",
       "      <td>AL</td>\n",
       "    </tr>\n",
       "    <tr>\n",
       "      <th>1</th>\n",
       "      <td>Alaska</td>\n",
       "      <td>24.352</td>\n",
       "      <td>AK</td>\n",
       "    </tr>\n",
       "    <tr>\n",
       "      <th>2</th>\n",
       "      <td>Arizona</td>\n",
       "      <td>25.692</td>\n",
       "      <td>AZ</td>\n",
       "    </tr>\n",
       "    <tr>\n",
       "      <th>3</th>\n",
       "      <td>Arkansas</td>\n",
       "      <td>27.284</td>\n",
       "      <td>AR</td>\n",
       "    </tr>\n",
       "    <tr>\n",
       "      <th>4</th>\n",
       "      <td>California</td>\n",
       "      <td>26.138</td>\n",
       "      <td>CA</td>\n",
       "    </tr>\n",
       "  </tbody>\n",
       "</table>\n",
       "</div>"
      ],
      "text/plain": [
       "     Subgroup   Value Code\n",
       "0     Alabama  26.658   AL\n",
       "1      Alaska  24.352   AK\n",
       "2     Arizona  25.692   AZ\n",
       "3    Arkansas  27.284   AR\n",
       "4  California  26.138   CA"
      ]
     },
     "execution_count": 34,
     "metadata": {},
     "output_type": "execute_result"
    }
   ],
   "source": [
    "states.head()"
   ]
  },
  {
   "attachments": {},
   "cell_type": "markdown",
   "metadata": {},
   "source": [
    "3.2-Display MAP"
   ]
  },
  {
   "cell_type": "code",
   "execution_count": 36,
   "metadata": {},
   "outputs": [
    {
     "data": {
      "application/vnd.plotly.v1+json": {
       "config": {
        "plotlyServerURL": "https://plotly.com"
       },
       "data": [
        {
         "colorbar": {
          "title": {
           "text": "Depression %"
          }
         },
         "colorscale": [
          [
           0,
           "rgb(247,251,255)"
          ],
          [
           0.125,
           "rgb(222,235,247)"
          ],
          [
           0.25,
           "rgb(198,219,239)"
          ],
          [
           0.375,
           "rgb(158,202,225)"
          ],
          [
           0.5,
           "rgb(107,174,214)"
          ],
          [
           0.625,
           "rgb(66,146,198)"
          ],
          [
           0.75,
           "rgb(33,113,181)"
          ],
          [
           0.875,
           "rgb(8,81,156)"
          ],
          [
           1,
           "rgb(8,48,107)"
          ]
         ],
         "locationmode": "USA-states",
         "locations": [
          "AL",
          "AK",
          "AZ",
          "AR",
          "CA",
          "CO",
          "CT",
          "DE",
          "DC",
          "FL",
          "GA",
          "HI",
          "ID",
          "IL",
          "IN",
          "IA",
          "KS",
          "KY",
          "LA",
          "ME",
          "MD",
          "MA",
          "MI",
          "MN",
          "MS",
          "MO",
          "MT",
          "NE",
          "NV",
          "NH",
          "NJ",
          "NM",
          "NY",
          "NC",
          "ND",
          "OH",
          "OK",
          "OR",
          "PA",
          "RI",
          "SC",
          "SD",
          "TN",
          "TX",
          "UT",
          "VT",
          "VA",
          "WA",
          "WV",
          "WI",
          "WY"
         ],
         "type": "choropleth",
         "z": [
          26.658,
          24.351999999999997,
          25.691999999999997,
          27.284000000000002,
          26.138,
          23.51,
          21.988000000000003,
          21.954,
          22.965999999999998,
          25.25,
          25.305999999999997,
          22.834,
          22.531999999999996,
          23.656,
          24.118000000000002,
          21.612,
          22.738000000000003,
          26.886,
          29.416,
          21.086,
          22.24,
          21.945999999999998,
          23.35,
          19.46,
          28.636,
          24.471999999999998,
          21.625999999999998,
          21.195999999999998,
          28.052,
          21.024,
          23.002,
          27.04,
          23.471999999999998,
          23.178,
          20.352,
          24.33,
          27.546,
          26.166,
          23.728,
          22.511999999999997,
          23.712,
          19.618,
          25.59,
          26.656,
          24.034000000000002,
          21.44,
          22.808000000000003,
          24.456,
          27.338,
          20.458,
          22.076
         ]
        }
       ],
       "layout": {
        "geo": {
         "scope": "usa"
        },
        "template": {
         "data": {
          "bar": [
           {
            "error_x": {
             "color": "#2a3f5f"
            },
            "error_y": {
             "color": "#2a3f5f"
            },
            "marker": {
             "line": {
              "color": "#E5ECF6",
              "width": 0.5
             },
             "pattern": {
              "fillmode": "overlay",
              "size": 10,
              "solidity": 0.2
             }
            },
            "type": "bar"
           }
          ],
          "barpolar": [
           {
            "marker": {
             "line": {
              "color": "#E5ECF6",
              "width": 0.5
             },
             "pattern": {
              "fillmode": "overlay",
              "size": 10,
              "solidity": 0.2
             }
            },
            "type": "barpolar"
           }
          ],
          "carpet": [
           {
            "aaxis": {
             "endlinecolor": "#2a3f5f",
             "gridcolor": "white",
             "linecolor": "white",
             "minorgridcolor": "white",
             "startlinecolor": "#2a3f5f"
            },
            "baxis": {
             "endlinecolor": "#2a3f5f",
             "gridcolor": "white",
             "linecolor": "white",
             "minorgridcolor": "white",
             "startlinecolor": "#2a3f5f"
            },
            "type": "carpet"
           }
          ],
          "choropleth": [
           {
            "colorbar": {
             "outlinewidth": 0,
             "ticks": ""
            },
            "type": "choropleth"
           }
          ],
          "contour": [
           {
            "colorbar": {
             "outlinewidth": 0,
             "ticks": ""
            },
            "colorscale": [
             [
              0,
              "#0d0887"
             ],
             [
              0.1111111111111111,
              "#46039f"
             ],
             [
              0.2222222222222222,
              "#7201a8"
             ],
             [
              0.3333333333333333,
              "#9c179e"
             ],
             [
              0.4444444444444444,
              "#bd3786"
             ],
             [
              0.5555555555555556,
              "#d8576b"
             ],
             [
              0.6666666666666666,
              "#ed7953"
             ],
             [
              0.7777777777777778,
              "#fb9f3a"
             ],
             [
              0.8888888888888888,
              "#fdca26"
             ],
             [
              1,
              "#f0f921"
             ]
            ],
            "type": "contour"
           }
          ],
          "contourcarpet": [
           {
            "colorbar": {
             "outlinewidth": 0,
             "ticks": ""
            },
            "type": "contourcarpet"
           }
          ],
          "heatmap": [
           {
            "colorbar": {
             "outlinewidth": 0,
             "ticks": ""
            },
            "colorscale": [
             [
              0,
              "#0d0887"
             ],
             [
              0.1111111111111111,
              "#46039f"
             ],
             [
              0.2222222222222222,
              "#7201a8"
             ],
             [
              0.3333333333333333,
              "#9c179e"
             ],
             [
              0.4444444444444444,
              "#bd3786"
             ],
             [
              0.5555555555555556,
              "#d8576b"
             ],
             [
              0.6666666666666666,
              "#ed7953"
             ],
             [
              0.7777777777777778,
              "#fb9f3a"
             ],
             [
              0.8888888888888888,
              "#fdca26"
             ],
             [
              1,
              "#f0f921"
             ]
            ],
            "type": "heatmap"
           }
          ],
          "heatmapgl": [
           {
            "colorbar": {
             "outlinewidth": 0,
             "ticks": ""
            },
            "colorscale": [
             [
              0,
              "#0d0887"
             ],
             [
              0.1111111111111111,
              "#46039f"
             ],
             [
              0.2222222222222222,
              "#7201a8"
             ],
             [
              0.3333333333333333,
              "#9c179e"
             ],
             [
              0.4444444444444444,
              "#bd3786"
             ],
             [
              0.5555555555555556,
              "#d8576b"
             ],
             [
              0.6666666666666666,
              "#ed7953"
             ],
             [
              0.7777777777777778,
              "#fb9f3a"
             ],
             [
              0.8888888888888888,
              "#fdca26"
             ],
             [
              1,
              "#f0f921"
             ]
            ],
            "type": "heatmapgl"
           }
          ],
          "histogram": [
           {
            "marker": {
             "pattern": {
              "fillmode": "overlay",
              "size": 10,
              "solidity": 0.2
             }
            },
            "type": "histogram"
           }
          ],
          "histogram2d": [
           {
            "colorbar": {
             "outlinewidth": 0,
             "ticks": ""
            },
            "colorscale": [
             [
              0,
              "#0d0887"
             ],
             [
              0.1111111111111111,
              "#46039f"
             ],
             [
              0.2222222222222222,
              "#7201a8"
             ],
             [
              0.3333333333333333,
              "#9c179e"
             ],
             [
              0.4444444444444444,
              "#bd3786"
             ],
             [
              0.5555555555555556,
              "#d8576b"
             ],
             [
              0.6666666666666666,
              "#ed7953"
             ],
             [
              0.7777777777777778,
              "#fb9f3a"
             ],
             [
              0.8888888888888888,
              "#fdca26"
             ],
             [
              1,
              "#f0f921"
             ]
            ],
            "type": "histogram2d"
           }
          ],
          "histogram2dcontour": [
           {
            "colorbar": {
             "outlinewidth": 0,
             "ticks": ""
            },
            "colorscale": [
             [
              0,
              "#0d0887"
             ],
             [
              0.1111111111111111,
              "#46039f"
             ],
             [
              0.2222222222222222,
              "#7201a8"
             ],
             [
              0.3333333333333333,
              "#9c179e"
             ],
             [
              0.4444444444444444,
              "#bd3786"
             ],
             [
              0.5555555555555556,
              "#d8576b"
             ],
             [
              0.6666666666666666,
              "#ed7953"
             ],
             [
              0.7777777777777778,
              "#fb9f3a"
             ],
             [
              0.8888888888888888,
              "#fdca26"
             ],
             [
              1,
              "#f0f921"
             ]
            ],
            "type": "histogram2dcontour"
           }
          ],
          "mesh3d": [
           {
            "colorbar": {
             "outlinewidth": 0,
             "ticks": ""
            },
            "type": "mesh3d"
           }
          ],
          "parcoords": [
           {
            "line": {
             "colorbar": {
              "outlinewidth": 0,
              "ticks": ""
             }
            },
            "type": "parcoords"
           }
          ],
          "pie": [
           {
            "automargin": true,
            "type": "pie"
           }
          ],
          "scatter": [
           {
            "fillpattern": {
             "fillmode": "overlay",
             "size": 10,
             "solidity": 0.2
            },
            "type": "scatter"
           }
          ],
          "scatter3d": [
           {
            "line": {
             "colorbar": {
              "outlinewidth": 0,
              "ticks": ""
             }
            },
            "marker": {
             "colorbar": {
              "outlinewidth": 0,
              "ticks": ""
             }
            },
            "type": "scatter3d"
           }
          ],
          "scattercarpet": [
           {
            "marker": {
             "colorbar": {
              "outlinewidth": 0,
              "ticks": ""
             }
            },
            "type": "scattercarpet"
           }
          ],
          "scattergeo": [
           {
            "marker": {
             "colorbar": {
              "outlinewidth": 0,
              "ticks": ""
             }
            },
            "type": "scattergeo"
           }
          ],
          "scattergl": [
           {
            "marker": {
             "colorbar": {
              "outlinewidth": 0,
              "ticks": ""
             }
            },
            "type": "scattergl"
           }
          ],
          "scattermapbox": [
           {
            "marker": {
             "colorbar": {
              "outlinewidth": 0,
              "ticks": ""
             }
            },
            "type": "scattermapbox"
           }
          ],
          "scatterpolar": [
           {
            "marker": {
             "colorbar": {
              "outlinewidth": 0,
              "ticks": ""
             }
            },
            "type": "scatterpolar"
           }
          ],
          "scatterpolargl": [
           {
            "marker": {
             "colorbar": {
              "outlinewidth": 0,
              "ticks": ""
             }
            },
            "type": "scatterpolargl"
           }
          ],
          "scatterternary": [
           {
            "marker": {
             "colorbar": {
              "outlinewidth": 0,
              "ticks": ""
             }
            },
            "type": "scatterternary"
           }
          ],
          "surface": [
           {
            "colorbar": {
             "outlinewidth": 0,
             "ticks": ""
            },
            "colorscale": [
             [
              0,
              "#0d0887"
             ],
             [
              0.1111111111111111,
              "#46039f"
             ],
             [
              0.2222222222222222,
              "#7201a8"
             ],
             [
              0.3333333333333333,
              "#9c179e"
             ],
             [
              0.4444444444444444,
              "#bd3786"
             ],
             [
              0.5555555555555556,
              "#d8576b"
             ],
             [
              0.6666666666666666,
              "#ed7953"
             ],
             [
              0.7777777777777778,
              "#fb9f3a"
             ],
             [
              0.8888888888888888,
              "#fdca26"
             ],
             [
              1,
              "#f0f921"
             ]
            ],
            "type": "surface"
           }
          ],
          "table": [
           {
            "cells": {
             "fill": {
              "color": "#EBF0F8"
             },
             "line": {
              "color": "white"
             }
            },
            "header": {
             "fill": {
              "color": "#C8D4E3"
             },
             "line": {
              "color": "white"
             }
            },
            "type": "table"
           }
          ]
         },
         "layout": {
          "annotationdefaults": {
           "arrowcolor": "#2a3f5f",
           "arrowhead": 0,
           "arrowwidth": 1
          },
          "autotypenumbers": "strict",
          "coloraxis": {
           "colorbar": {
            "outlinewidth": 0,
            "ticks": ""
           }
          },
          "colorscale": {
           "diverging": [
            [
             0,
             "#8e0152"
            ],
            [
             0.1,
             "#c51b7d"
            ],
            [
             0.2,
             "#de77ae"
            ],
            [
             0.3,
             "#f1b6da"
            ],
            [
             0.4,
             "#fde0ef"
            ],
            [
             0.5,
             "#f7f7f7"
            ],
            [
             0.6,
             "#e6f5d0"
            ],
            [
             0.7,
             "#b8e186"
            ],
            [
             0.8,
             "#7fbc41"
            ],
            [
             0.9,
             "#4d9221"
            ],
            [
             1,
             "#276419"
            ]
           ],
           "sequential": [
            [
             0,
             "#0d0887"
            ],
            [
             0.1111111111111111,
             "#46039f"
            ],
            [
             0.2222222222222222,
             "#7201a8"
            ],
            [
             0.3333333333333333,
             "#9c179e"
            ],
            [
             0.4444444444444444,
             "#bd3786"
            ],
            [
             0.5555555555555556,
             "#d8576b"
            ],
            [
             0.6666666666666666,
             "#ed7953"
            ],
            [
             0.7777777777777778,
             "#fb9f3a"
            ],
            [
             0.8888888888888888,
             "#fdca26"
            ],
            [
             1,
             "#f0f921"
            ]
           ],
           "sequentialminus": [
            [
             0,
             "#0d0887"
            ],
            [
             0.1111111111111111,
             "#46039f"
            ],
            [
             0.2222222222222222,
             "#7201a8"
            ],
            [
             0.3333333333333333,
             "#9c179e"
            ],
            [
             0.4444444444444444,
             "#bd3786"
            ],
            [
             0.5555555555555556,
             "#d8576b"
            ],
            [
             0.6666666666666666,
             "#ed7953"
            ],
            [
             0.7777777777777778,
             "#fb9f3a"
            ],
            [
             0.8888888888888888,
             "#fdca26"
            ],
            [
             1,
             "#f0f921"
            ]
           ]
          },
          "colorway": [
           "#636efa",
           "#EF553B",
           "#00cc96",
           "#ab63fa",
           "#FFA15A",
           "#19d3f3",
           "#FF6692",
           "#B6E880",
           "#FF97FF",
           "#FECB52"
          ],
          "font": {
           "color": "#2a3f5f"
          },
          "geo": {
           "bgcolor": "white",
           "lakecolor": "white",
           "landcolor": "#E5ECF6",
           "showlakes": true,
           "showland": true,
           "subunitcolor": "white"
          },
          "hoverlabel": {
           "align": "left"
          },
          "hovermode": "closest",
          "mapbox": {
           "style": "light"
          },
          "paper_bgcolor": "white",
          "plot_bgcolor": "#E5ECF6",
          "polar": {
           "angularaxis": {
            "gridcolor": "white",
            "linecolor": "white",
            "ticks": ""
           },
           "bgcolor": "#E5ECF6",
           "radialaxis": {
            "gridcolor": "white",
            "linecolor": "white",
            "ticks": ""
           }
          },
          "scene": {
           "xaxis": {
            "backgroundcolor": "#E5ECF6",
            "gridcolor": "white",
            "gridwidth": 2,
            "linecolor": "white",
            "showbackground": true,
            "ticks": "",
            "zerolinecolor": "white"
           },
           "yaxis": {
            "backgroundcolor": "#E5ECF6",
            "gridcolor": "white",
            "gridwidth": 2,
            "linecolor": "white",
            "showbackground": true,
            "ticks": "",
            "zerolinecolor": "white"
           },
           "zaxis": {
            "backgroundcolor": "#E5ECF6",
            "gridcolor": "white",
            "gridwidth": 2,
            "linecolor": "white",
            "showbackground": true,
            "ticks": "",
            "zerolinecolor": "white"
           }
          },
          "shapedefaults": {
           "line": {
            "color": "#2a3f5f"
           }
          },
          "ternary": {
           "aaxis": {
            "gridcolor": "white",
            "linecolor": "white",
            "ticks": ""
           },
           "baxis": {
            "gridcolor": "white",
            "linecolor": "white",
            "ticks": ""
           },
           "bgcolor": "#E5ECF6",
           "caxis": {
            "gridcolor": "white",
            "linecolor": "white",
            "ticks": ""
           }
          },
          "title": {
           "x": 0.05
          },
          "xaxis": {
           "automargin": true,
           "gridcolor": "white",
           "linecolor": "white",
           "ticks": "",
           "title": {
            "standoff": 15
           },
           "zerolinecolor": "white",
           "zerolinewidth": 2
          },
          "yaxis": {
           "automargin": true,
           "gridcolor": "white",
           "linecolor": "white",
           "ticks": "",
           "title": {
            "standoff": 15
           },
           "zerolinecolor": "white",
           "zerolinewidth": 2
          }
         }
        },
        "title": {
         "text": "Répartission de la dépression par états entre 2021 et 2022"
        }
       }
      }
     },
     "metadata": {},
     "output_type": "display_data"
    }
   ],
   "source": [
    "with urlopen('https://raw.githubusercontent.com/plotly/datasets/master/geojson-counties-fips.json') as response:\n",
    "    counties = json.load(response)\n",
    "\n",
    "usa_fig = go.Figure(data=go.Choropleth(\n",
    "    locations=list(states[\"Code\"]), # Spatial coordinates\n",
    "    z = states[\"Value\"], # Data to be color-coded\n",
    "    locationmode = 'USA-states', # set of locations match entries in `locations`\n",
    "    colorscale = 'Blues',\n",
    "    colorbar_title = \"Depression %\",\n",
    "))\n",
    "\n",
    "usa_fig.update_layout(\n",
    "    title_text = 'Répartission de la dépression par états',\n",
    "    geo_scope='usa', # limite map scope to USA\n",
    ")\n",
    "\n",
    "usa_fig.show()"
   ]
  },
  {
   "cell_type": "markdown",
   "metadata": {},
   "source": [
    "Notre distribution n'étant pas normale, nous effectuons un test de Kruskal-Wallis"
   ]
  },
  {
   "attachments": {},
   "cell_type": "markdown",
   "metadata": {},
   "source": [
    "3.2.1- See evolution per year"
   ]
  },
  {
   "cell_type": "code",
   "execution_count": 37,
   "metadata": {},
   "outputs": [
    {
     "data": {
      "application/vnd.plotly.v1+json": {
       "config": {
        "plotlyServerURL": "https://plotly.com"
       },
       "data": [
        {
         "colorbar": {
          "title": {
           "text": "Depression %"
          }
         },
         "colorscale": [
          [
           0,
           "rgb(255,245,240)"
          ],
          [
           0.125,
           "rgb(254,224,210)"
          ],
          [
           0.25,
           "rgb(252,187,161)"
          ],
          [
           0.375,
           "rgb(252,146,114)"
          ],
          [
           0.5,
           "rgb(251,106,74)"
          ],
          [
           0.625,
           "rgb(239,59,44)"
          ],
          [
           0.75,
           "rgb(203,24,29)"
          ],
          [
           0.875,
           "rgb(165,15,21)"
          ],
          [
           1,
           "rgb(103,0,13)"
          ]
         ],
         "locationmode": "USA-states",
         "locations": [
          "AL",
          "AK",
          "AZ",
          "AR",
          "CA",
          "CO",
          "CT",
          "DE",
          "DC",
          "FL",
          "GA",
          "HI",
          "ID",
          "IL",
          "IN",
          "IA",
          "KS",
          "KY",
          "LA",
          "ME",
          "MD",
          "MA",
          "MI",
          "MN",
          "MS",
          "MO",
          "MT",
          "NE",
          "NV",
          "NH",
          "NJ",
          "NM",
          "NY",
          "NC",
          "ND",
          "OH",
          "OK",
          "OR",
          "PA",
          "RI",
          "SC",
          "SD",
          "TN",
          "TX",
          "UT",
          "VT",
          "VA",
          "WA",
          "WV",
          "WI",
          "WY"
         ],
         "type": "choropleth",
         "z": [
          18.6,
          19.2,
          22.4,
          26.6,
          25.4,
          22,
          24.4,
          21.1,
          26.4,
          22.5,
          25.6,
          20,
          20.6,
          23.3,
          26.4,
          16.5,
          22.1,
          23.2,
          28.1,
          19.5,
          20.9,
          25.9,
          25.5,
          20.4,
          22.9,
          21,
          18.2,
          19.1,
          23.6,
          19.5,
          23.6,
          22.4,
          28.7,
          21.1,
          17,
          21.2,
          20.8,
          22.5,
          24.7,
          24.5,
          21.6,
          17.5,
          22.2,
          24.4,
          22.9,
          20.7,
          21.5,
          22.1,
          23.4,
          22,
          18.9,
          22.5,
          25.1,
          25.3,
          24.5,
          22.8,
          23.6,
          21.5,
          23.3,
          30.3,
          24.8,
          25.6,
          16.8,
          17,
          29.2,
          19.9,
          18.1,
          16.7,
          25.6,
          30,
          17.1,
          24.6,
          18.9,
          23.4,
          18.4,
          35.5,
          24.1,
          20.8,
          21.6,
          31.2,
          23.3,
          26.4,
          29,
          29.2,
          20.2,
          20.2,
          26.4,
          20.7,
          17.8,
          23,
          22.8,
          25.6,
          20.5,
          21.7,
          25.7,
          22.6,
          26.8,
          20.6,
          22.9,
          31.8,
          22.9,
          18.6,
          19.6,
          23.6,
          20,
          28.9,
          28.7,
          23.7,
          20.2,
          21.8,
          25.9,
          24.3,
          24.8,
          21.3,
          18.1,
          24.3,
          24.5,
          18.6,
          21.2,
          22.8,
          26.5,
          25.6,
          20.8,
          22.8,
          27.9,
          20,
          36.4,
          24.3,
          21.1,
          20.4,
          26.9,
          20.3,
          26.9,
          28.4,
          23.8,
          22.6,
          22.5,
          27,
          25.7,
          22.7,
          19.8,
          18.8,
          25.3,
          22.7,
          25.6,
          24.9,
          21.2,
          19,
          25.4,
          23.2,
          27,
          20.3,
          20.7,
          20.9,
          26.8,
          25.1,
          23.8,
          26.9,
          25.5,
          21,
          22.7,
          20.9,
          28.6,
          27.7,
          18.5,
          18.9,
          24.2,
          24.8,
          17.6,
          25.2,
          23.2,
          31.1,
          18.5,
          22.9,
          20.3,
          25.1,
          17.7,
          27.7,
          24.3,
          22.2,
          17.2,
          27.1,
          22.2,
          22.9,
          28.7,
          23.7,
          22.1,
          19.8,
          27.4,
          27.5,
          24.2,
          25.9,
          21.4,
          21.7,
          25.8,
          22.5,
          28.8,
          24.9,
          19.4,
          22.3,
          22.2,
          22,
          20.8,
          18.8,
          28.4,
          24.4,
          23.9,
          28.9,
          26.9,
          23.9,
          25.4,
          20.7,
          21.3,
          29.6,
          24.5,
          17,
          23.8,
          26.9,
          25.6,
          22.6,
          23.1,
          28.5,
          26.8,
          18.5,
          21.9,
          20.3,
          25.9,
          19.1,
          28.6,
          24.5,
          20.5,
          18.2,
          20.2,
          22.6,
          25.8,
          24.3,
          24.5,
          22.3,
          19.3,
          28.1,
          31.8,
          27.6,
          24.6,
          22.3,
          28.8,
          20,
          22.9,
          26.2,
          22.3,
          23.5,
          21.4,
          27.1,
          26.2,
          17.7,
          25.2,
          27.7,
          21.5,
          26.5,
          26.5,
          28.6,
          23.9,
          20.7,
          25.3,
          25.9,
          30.2,
          25.6,
          19.5,
          19.2,
          27.9,
          22.2,
          25.7,
          28.6,
          25.5,
          28.4,
          20.6,
          18.4,
          21.8,
          19.1,
          19.7,
          29.6,
          23.1,
          17.5,
          21.7,
          27.6,
          26.2,
          21.8,
          23.7,
          28.5,
          21.6,
          14.7,
          26.4,
          24.7,
          27.1,
          24.7,
          19,
          25,
          21.2,
          27.2,
          30.3,
          25.3,
          25.1,
          27.5,
          21.4,
          27.9,
          19.5,
          20.9,
          26.7,
          23.5,
          25,
          29.6,
          27.2,
          22.1,
          25.5,
          24.4,
          16.3,
          28.1,
          25.7,
          26.8,
          14.3,
          24.8,
          26.6,
          22.4,
          24.6,
          22.6,
          34.5,
          23.7,
          27.9,
          17,
          21.4,
          19.9,
          24.8,
          26.1,
          21.8,
          20.3,
          30.4,
          21.7,
          26.9,
          18.8,
          23.4,
          23.9,
          23.4,
          26.8,
          22.5,
          31.1,
          25.5,
          24.1,
          28.1,
          19.2,
          21.5,
          27.6,
          18.5,
          26.2,
          23.3,
          22.5,
          23.5,
          17.5,
          18.9,
          27.5,
          25.7,
          28.9,
          28.7,
          26.4,
          23,
          28.7,
          22.9,
          31,
          28.8,
          27.9,
          18.3,
          23,
          23.8,
          23.7,
          26.1,
          24.4,
          29,
          35.6,
          19,
          22,
          22.8,
          23.3,
          21.5,
          29.3,
          25,
          21.6,
          22.1,
          32.5,
          23,
          24.4,
          29.4,
          24.2,
          22.5,
          25.1,
          21.5,
          33.2,
          31,
          27.3,
          22.1,
          22.4,
          21.7,
          26.8,
          25.6,
          27.3,
          18.4,
          26.9,
          26.4,
          30.2,
          15.7,
          17.6,
          26.5,
          23.8,
          32.7,
          29.6,
          27.6,
          26.1,
          24,
          25.4,
          27.6,
          31.8,
          31.4,
          28.2,
          29.5,
          28.1,
          26.2,
          23.1,
          20.9,
          26.4,
          32.2,
          23.8,
          22.1,
          24.2,
          23.5,
          22.3,
          34.4,
          25.6,
          22.2,
          22,
          26.8,
          24.3,
          24.2,
          29.7,
          23.9,
          22.7,
          25,
          23.3,
          32.8,
          27.1,
          26.5,
          24,
          28.9,
          25.1,
          30.5,
          28.2,
          26,
          22.3,
          24.2,
          31.1,
          34.5,
          19,
          23.4,
          28.6,
          21.5,
          31.3,
          30.2,
          27.6,
          30,
          26.3,
          22.7,
          24.9,
          27.9,
          27.1,
          28.9,
          25.6,
          27.6,
          27.7,
          17.5,
          21.5,
          27.4,
          33.5,
          26.6,
          22.5,
          21.8,
          26.6,
          20.9,
          32,
          28.8,
          23.8,
          23.6,
          34.6,
          19.7,
          25.9,
          32.5,
          28.5,
          28.3,
          23,
          25.6,
          29.4,
          29.9,
          26,
          22.8,
          29.3,
          26.7,
          31.7,
          30.5,
          25,
          22.2,
          29.5,
          27.8,
          24.2,
          24.6,
          26.5,
          30.4,
          27.4,
          33.9,
          34.8,
          31.8,
          26.1,
          26.7,
          23.3,
          20.8,
          31.7,
          29,
          28.3,
          27.5,
          23.7,
          29.4,
          17.7,
          24.8,
          30.7,
          31.1,
          22.4,
          22.2,
          23.8,
          23,
          22,
          36.1,
          25.8,
          28.5,
          26.4,
          33.3,
          28.7,
          28.7,
          30.1,
          25,
          26.4,
          25.2,
          21.2,
          30.8,
          31.7,
          27.5,
          31.1,
          25.3,
          24.1,
          31.4,
          32.2,
          24.2,
          20.7,
          24,
          27.2,
          29.4,
          24.6,
          21.7,
          32.7,
          27.4,
          34.3,
          33.7,
          31.2,
          29.1,
          25.9,
          26.5,
          23.8,
          30.7,
          29.7,
          29.3,
          34.2,
          29.5,
          32,
          25.3,
          30.5,
          30.6,
          31.7,
          25.3,
          29.5,
          23.7,
          28.6,
          24.2,
          36.5,
          24.8,
          28.4,
          25.2,
          38.6,
          28.8,
          26.8,
          37.6,
          29.3,
          30.5,
          26.8,
          24.9,
          33.5,
          36.4,
          20.5,
          25.9,
          32.3,
          27.6,
          33.7,
          32.4,
          28.5,
          21.4,
          27,
          32.2,
          28,
          23.9,
          31.6,
          27.7,
          22.2,
          26.4,
          23.9,
          25.9,
          24.5,
          23.8,
          20.1,
          23.8,
          27.8,
          26.8,
          22.8,
          22.8,
          23.5,
          25.4,
          20,
          24.3,
          27.9,
          26.9,
          23.8,
          21.3,
          22.3,
          24.1,
          18.3,
          23.6,
          23.7,
          18.6,
          20.9,
          26.9,
          19.8,
          24.7,
          27.8,
          22.5,
          20.5,
          17.8,
          24.9,
          25.9,
          26.1,
          23.8,
          19.2,
          20.4,
          15.2,
          28.3,
          25.7,
          22.7,
          19.5,
          25.1,
          23.6,
          25.2,
          20.2,
          21.9,
          25.2,
          23.6,
          26.5,
          29.8,
          27.6,
          22.7,
          21.2,
          23.3,
          20.9,
          25.3,
          23.2,
          29.4,
          21.8,
          24.2,
          20.7,
          22.8,
          19.3,
          30.1,
          30.3,
          20.4,
          23.3,
          20.5,
          23.4,
          18.6,
          28.4,
          21.8,
          22.2,
          21.7,
          27.1,
          22.1,
          21.9,
          27.5,
          25.1,
          20.9,
          17.4,
          25.4,
          26.5,
          26.7,
          22.9,
          25.3,
          22.9,
          20.2,
          24,
          26.9,
          22,
          19.6,
          22.4,
          22.7,
          26.9,
          19.3,
          23.6,
          28.6,
          25.2,
          28.2,
          23.1,
          28.7,
          25.2,
          19,
          18.3,
          27.5,
          25.4,
          25,
          24,
          22.8,
          23.9,
          24.5,
          25.5,
          22.9,
          30.7,
          29.6,
          17.5,
          20.3,
          23.2,
          21,
          17.4,
          28.5,
          22.7,
          24.4,
          19.2,
          31.3,
          19,
          23.7,
          29.1,
          23.5,
          21.5,
          19,
          24.7,
          23.1,
          31.8,
          24.1,
          23.4,
          20.6,
          17,
          25.9,
          28,
          26.8,
          22.9,
          24.6,
          25.7,
          28,
          19.4,
          22.4,
          25,
          27.1,
          25,
          30.2,
          29.4,
          23.8,
          22.9,
          24.6,
          19.9,
          26,
          23.9,
          30.1,
          21,
          24.1,
          23.1,
          19.6,
          22.7,
          31.5,
          28.4,
          24.4,
          24.4,
          22.5,
          25.6,
          19.9,
          25.1,
          25.5,
          19.9,
          20.9,
          29.2,
          19.8,
          22.5,
          26.1,
          23.3,
          25.7,
          16.6,
          25.5,
          27.2,
          24.9,
          25.1,
          22.4,
          20.3,
          19,
          24.5,
          29,
          23.5,
          30.1,
          23.1,
          25.2,
          27.5,
          21.6,
          22.2,
          27.7,
          25.7,
          30.8,
          27.3,
          27.7,
          26.1,
          21.8,
          23.3,
          26.2,
          25.9,
          25.1,
          27.5,
          25.9,
          24.2,
          27.2,
          22.4,
          26.2,
          29.5,
          31.6,
          22.8,
          23.8,
          25.3,
          25.8,
          19.3,
          33.4,
          29.4,
          20.1,
          21.8,
          31,
          20.8,
          23.4,
          31.9,
          27,
          21.4,
          20.2,
          25,
          25.9,
          26.9,
          22.2,
          24,
          25.1,
          19.7,
          23.9,
          29.4,
          22.4,
          21.5,
          23.8,
          28.4,
          25.2,
          22.7,
          20.8,
          33.8,
          27.1,
          27.2,
          28.3,
          29.7,
          29.2,
          26.6,
          28,
          31.1,
          30.1,
          30.9,
          30.1,
          28.1,
          28.5,
          29.4,
          29.4,
          30.9,
          27.1,
          30.3,
          27.8,
          24.7,
          28.2,
          22.2,
          23.8,
          28.8,
          27.5,
          22.9,
          23.8,
          34,
          21.5,
          23.2,
          32.6,
          22,
          27.6,
          17,
          26.7,
          27.1,
          29,
          27.8,
          25.6,
          28.2,
          20,
          25,
          31.2,
          24.3,
          30,
          24,
          24.4,
          25.7,
          27,
          23.5,
          31.5,
          30,
          28.7,
          32.7,
          30.7,
          26,
          25.3,
          24.3,
          27.8,
          30.5,
          29.2,
          22.6,
          27.2,
          30.4,
          27,
          25.5,
          26.5,
          26.5,
          35.5,
          25.8,
          26.7,
          27.5,
          26.8,
          24.5,
          30.1,
          26.6,
          30.1,
          26.5,
          32.5,
          24.2,
          26.2,
          32.6,
          25.1,
          26.9,
          26.1,
          28.7,
          31.6,
          28.7,
          27.9,
          29.9,
          32.6,
          27.4,
          29.4,
          31.4,
          28.7,
          21.6,
          23.3,
          27.7,
          29.6,
          26.5,
          26.8,
          30.5,
          26.7,
          28.5,
          28.5,
          30.2,
          28.4,
          28.2,
          33,
          27.3,
          27.9,
          28.2,
          31.2,
          30.6,
          30,
          30.8,
          24.3,
          27.6,
          33.9,
          35.5,
          24.8,
          27,
          23.7,
          26.5,
          25,
          36.9,
          27.4,
          26.3,
          26,
          35.7,
          26.1,
          27.7,
          30.2,
          23.3,
          28.4,
          21.1,
          32.7,
          33.8,
          35.9,
          29.4,
          27.2,
          22.9,
          20.2,
          28,
          31.3,
          32.4,
          28.8,
          26.9,
          29.4,
          31.6,
          26.3,
          31.3,
          35.1,
          32,
          32.7,
          28.3,
          31.4,
          30.3,
          29,
          30.4,
          22.6,
          28.1,
          31.2,
          25.5,
          31.1,
          25.5,
          27.8,
          29.9,
          30.6,
          33.4,
          39.4,
          23.7,
          28,
          29.6,
          33.1,
          25.2,
          36.5,
          29,
          29.5,
          26.5,
          35.3,
          23.8,
          28.7,
          35.6,
          30.2,
          24.1,
          21.6,
          35.7,
          35.7,
          33.4,
          27.3,
          22.4,
          27,
          21.1,
          32.3,
          31.8,
          29,
          25.7,
          28.1,
          31.2,
          37,
          30,
          24.7
         ]
        }
       ],
       "layout": {
        "geo": {
         "scope": "usa"
        },
        "template": {
         "data": {
          "bar": [
           {
            "error_x": {
             "color": "#2a3f5f"
            },
            "error_y": {
             "color": "#2a3f5f"
            },
            "marker": {
             "line": {
              "color": "#E5ECF6",
              "width": 0.5
             },
             "pattern": {
              "fillmode": "overlay",
              "size": 10,
              "solidity": 0.2
             }
            },
            "type": "bar"
           }
          ],
          "barpolar": [
           {
            "marker": {
             "line": {
              "color": "#E5ECF6",
              "width": 0.5
             },
             "pattern": {
              "fillmode": "overlay",
              "size": 10,
              "solidity": 0.2
             }
            },
            "type": "barpolar"
           }
          ],
          "carpet": [
           {
            "aaxis": {
             "endlinecolor": "#2a3f5f",
             "gridcolor": "white",
             "linecolor": "white",
             "minorgridcolor": "white",
             "startlinecolor": "#2a3f5f"
            },
            "baxis": {
             "endlinecolor": "#2a3f5f",
             "gridcolor": "white",
             "linecolor": "white",
             "minorgridcolor": "white",
             "startlinecolor": "#2a3f5f"
            },
            "type": "carpet"
           }
          ],
          "choropleth": [
           {
            "colorbar": {
             "outlinewidth": 0,
             "ticks": ""
            },
            "type": "choropleth"
           }
          ],
          "contour": [
           {
            "colorbar": {
             "outlinewidth": 0,
             "ticks": ""
            },
            "colorscale": [
             [
              0,
              "#0d0887"
             ],
             [
              0.1111111111111111,
              "#46039f"
             ],
             [
              0.2222222222222222,
              "#7201a8"
             ],
             [
              0.3333333333333333,
              "#9c179e"
             ],
             [
              0.4444444444444444,
              "#bd3786"
             ],
             [
              0.5555555555555556,
              "#d8576b"
             ],
             [
              0.6666666666666666,
              "#ed7953"
             ],
             [
              0.7777777777777778,
              "#fb9f3a"
             ],
             [
              0.8888888888888888,
              "#fdca26"
             ],
             [
              1,
              "#f0f921"
             ]
            ],
            "type": "contour"
           }
          ],
          "contourcarpet": [
           {
            "colorbar": {
             "outlinewidth": 0,
             "ticks": ""
            },
            "type": "contourcarpet"
           }
          ],
          "heatmap": [
           {
            "colorbar": {
             "outlinewidth": 0,
             "ticks": ""
            },
            "colorscale": [
             [
              0,
              "#0d0887"
             ],
             [
              0.1111111111111111,
              "#46039f"
             ],
             [
              0.2222222222222222,
              "#7201a8"
             ],
             [
              0.3333333333333333,
              "#9c179e"
             ],
             [
              0.4444444444444444,
              "#bd3786"
             ],
             [
              0.5555555555555556,
              "#d8576b"
             ],
             [
              0.6666666666666666,
              "#ed7953"
             ],
             [
              0.7777777777777778,
              "#fb9f3a"
             ],
             [
              0.8888888888888888,
              "#fdca26"
             ],
             [
              1,
              "#f0f921"
             ]
            ],
            "type": "heatmap"
           }
          ],
          "heatmapgl": [
           {
            "colorbar": {
             "outlinewidth": 0,
             "ticks": ""
            },
            "colorscale": [
             [
              0,
              "#0d0887"
             ],
             [
              0.1111111111111111,
              "#46039f"
             ],
             [
              0.2222222222222222,
              "#7201a8"
             ],
             [
              0.3333333333333333,
              "#9c179e"
             ],
             [
              0.4444444444444444,
              "#bd3786"
             ],
             [
              0.5555555555555556,
              "#d8576b"
             ],
             [
              0.6666666666666666,
              "#ed7953"
             ],
             [
              0.7777777777777778,
              "#fb9f3a"
             ],
             [
              0.8888888888888888,
              "#fdca26"
             ],
             [
              1,
              "#f0f921"
             ]
            ],
            "type": "heatmapgl"
           }
          ],
          "histogram": [
           {
            "marker": {
             "pattern": {
              "fillmode": "overlay",
              "size": 10,
              "solidity": 0.2
             }
            },
            "type": "histogram"
           }
          ],
          "histogram2d": [
           {
            "colorbar": {
             "outlinewidth": 0,
             "ticks": ""
            },
            "colorscale": [
             [
              0,
              "#0d0887"
             ],
             [
              0.1111111111111111,
              "#46039f"
             ],
             [
              0.2222222222222222,
              "#7201a8"
             ],
             [
              0.3333333333333333,
              "#9c179e"
             ],
             [
              0.4444444444444444,
              "#bd3786"
             ],
             [
              0.5555555555555556,
              "#d8576b"
             ],
             [
              0.6666666666666666,
              "#ed7953"
             ],
             [
              0.7777777777777778,
              "#fb9f3a"
             ],
             [
              0.8888888888888888,
              "#fdca26"
             ],
             [
              1,
              "#f0f921"
             ]
            ],
            "type": "histogram2d"
           }
          ],
          "histogram2dcontour": [
           {
            "colorbar": {
             "outlinewidth": 0,
             "ticks": ""
            },
            "colorscale": [
             [
              0,
              "#0d0887"
             ],
             [
              0.1111111111111111,
              "#46039f"
             ],
             [
              0.2222222222222222,
              "#7201a8"
             ],
             [
              0.3333333333333333,
              "#9c179e"
             ],
             [
              0.4444444444444444,
              "#bd3786"
             ],
             [
              0.5555555555555556,
              "#d8576b"
             ],
             [
              0.6666666666666666,
              "#ed7953"
             ],
             [
              0.7777777777777778,
              "#fb9f3a"
             ],
             [
              0.8888888888888888,
              "#fdca26"
             ],
             [
              1,
              "#f0f921"
             ]
            ],
            "type": "histogram2dcontour"
           }
          ],
          "mesh3d": [
           {
            "colorbar": {
             "outlinewidth": 0,
             "ticks": ""
            },
            "type": "mesh3d"
           }
          ],
          "parcoords": [
           {
            "line": {
             "colorbar": {
              "outlinewidth": 0,
              "ticks": ""
             }
            },
            "type": "parcoords"
           }
          ],
          "pie": [
           {
            "automargin": true,
            "type": "pie"
           }
          ],
          "scatter": [
           {
            "fillpattern": {
             "fillmode": "overlay",
             "size": 10,
             "solidity": 0.2
            },
            "type": "scatter"
           }
          ],
          "scatter3d": [
           {
            "line": {
             "colorbar": {
              "outlinewidth": 0,
              "ticks": ""
             }
            },
            "marker": {
             "colorbar": {
              "outlinewidth": 0,
              "ticks": ""
             }
            },
            "type": "scatter3d"
           }
          ],
          "scattercarpet": [
           {
            "marker": {
             "colorbar": {
              "outlinewidth": 0,
              "ticks": ""
             }
            },
            "type": "scattercarpet"
           }
          ],
          "scattergeo": [
           {
            "marker": {
             "colorbar": {
              "outlinewidth": 0,
              "ticks": ""
             }
            },
            "type": "scattergeo"
           }
          ],
          "scattergl": [
           {
            "marker": {
             "colorbar": {
              "outlinewidth": 0,
              "ticks": ""
             }
            },
            "type": "scattergl"
           }
          ],
          "scattermapbox": [
           {
            "marker": {
             "colorbar": {
              "outlinewidth": 0,
              "ticks": ""
             }
            },
            "type": "scattermapbox"
           }
          ],
          "scatterpolar": [
           {
            "marker": {
             "colorbar": {
              "outlinewidth": 0,
              "ticks": ""
             }
            },
            "type": "scatterpolar"
           }
          ],
          "scatterpolargl": [
           {
            "marker": {
             "colorbar": {
              "outlinewidth": 0,
              "ticks": ""
             }
            },
            "type": "scatterpolargl"
           }
          ],
          "scatterternary": [
           {
            "marker": {
             "colorbar": {
              "outlinewidth": 0,
              "ticks": ""
             }
            },
            "type": "scatterternary"
           }
          ],
          "surface": [
           {
            "colorbar": {
             "outlinewidth": 0,
             "ticks": ""
            },
            "colorscale": [
             [
              0,
              "#0d0887"
             ],
             [
              0.1111111111111111,
              "#46039f"
             ],
             [
              0.2222222222222222,
              "#7201a8"
             ],
             [
              0.3333333333333333,
              "#9c179e"
             ],
             [
              0.4444444444444444,
              "#bd3786"
             ],
             [
              0.5555555555555556,
              "#d8576b"
             ],
             [
              0.6666666666666666,
              "#ed7953"
             ],
             [
              0.7777777777777778,
              "#fb9f3a"
             ],
             [
              0.8888888888888888,
              "#fdca26"
             ],
             [
              1,
              "#f0f921"
             ]
            ],
            "type": "surface"
           }
          ],
          "table": [
           {
            "cells": {
             "fill": {
              "color": "#EBF0F8"
             },
             "line": {
              "color": "white"
             }
            },
            "header": {
             "fill": {
              "color": "#C8D4E3"
             },
             "line": {
              "color": "white"
             }
            },
            "type": "table"
           }
          ]
         },
         "layout": {
          "annotationdefaults": {
           "arrowcolor": "#2a3f5f",
           "arrowhead": 0,
           "arrowwidth": 1
          },
          "autotypenumbers": "strict",
          "coloraxis": {
           "colorbar": {
            "outlinewidth": 0,
            "ticks": ""
           }
          },
          "colorscale": {
           "diverging": [
            [
             0,
             "#8e0152"
            ],
            [
             0.1,
             "#c51b7d"
            ],
            [
             0.2,
             "#de77ae"
            ],
            [
             0.3,
             "#f1b6da"
            ],
            [
             0.4,
             "#fde0ef"
            ],
            [
             0.5,
             "#f7f7f7"
            ],
            [
             0.6,
             "#e6f5d0"
            ],
            [
             0.7,
             "#b8e186"
            ],
            [
             0.8,
             "#7fbc41"
            ],
            [
             0.9,
             "#4d9221"
            ],
            [
             1,
             "#276419"
            ]
           ],
           "sequential": [
            [
             0,
             "#0d0887"
            ],
            [
             0.1111111111111111,
             "#46039f"
            ],
            [
             0.2222222222222222,
             "#7201a8"
            ],
            [
             0.3333333333333333,
             "#9c179e"
            ],
            [
             0.4444444444444444,
             "#bd3786"
            ],
            [
             0.5555555555555556,
             "#d8576b"
            ],
            [
             0.6666666666666666,
             "#ed7953"
            ],
            [
             0.7777777777777778,
             "#fb9f3a"
            ],
            [
             0.8888888888888888,
             "#fdca26"
            ],
            [
             1,
             "#f0f921"
            ]
           ],
           "sequentialminus": [
            [
             0,
             "#0d0887"
            ],
            [
             0.1111111111111111,
             "#46039f"
            ],
            [
             0.2222222222222222,
             "#7201a8"
            ],
            [
             0.3333333333333333,
             "#9c179e"
            ],
            [
             0.4444444444444444,
             "#bd3786"
            ],
            [
             0.5555555555555556,
             "#d8576b"
            ],
            [
             0.6666666666666666,
             "#ed7953"
            ],
            [
             0.7777777777777778,
             "#fb9f3a"
            ],
            [
             0.8888888888888888,
             "#fdca26"
            ],
            [
             1,
             "#f0f921"
            ]
           ]
          },
          "colorway": [
           "#636efa",
           "#EF553B",
           "#00cc96",
           "#ab63fa",
           "#FFA15A",
           "#19d3f3",
           "#FF6692",
           "#B6E880",
           "#FF97FF",
           "#FECB52"
          ],
          "font": {
           "color": "#2a3f5f"
          },
          "geo": {
           "bgcolor": "white",
           "lakecolor": "white",
           "landcolor": "#E5ECF6",
           "showlakes": true,
           "showland": true,
           "subunitcolor": "white"
          },
          "hoverlabel": {
           "align": "left"
          },
          "hovermode": "closest",
          "mapbox": {
           "style": "light"
          },
          "paper_bgcolor": "white",
          "plot_bgcolor": "#E5ECF6",
          "polar": {
           "angularaxis": {
            "gridcolor": "white",
            "linecolor": "white",
            "ticks": ""
           },
           "bgcolor": "#E5ECF6",
           "radialaxis": {
            "gridcolor": "white",
            "linecolor": "white",
            "ticks": ""
           }
          },
          "scene": {
           "xaxis": {
            "backgroundcolor": "#E5ECF6",
            "gridcolor": "white",
            "gridwidth": 2,
            "linecolor": "white",
            "showbackground": true,
            "ticks": "",
            "zerolinecolor": "white"
           },
           "yaxis": {
            "backgroundcolor": "#E5ECF6",
            "gridcolor": "white",
            "gridwidth": 2,
            "linecolor": "white",
            "showbackground": true,
            "ticks": "",
            "zerolinecolor": "white"
           },
           "zaxis": {
            "backgroundcolor": "#E5ECF6",
            "gridcolor": "white",
            "gridwidth": 2,
            "linecolor": "white",
            "showbackground": true,
            "ticks": "",
            "zerolinecolor": "white"
           }
          },
          "shapedefaults": {
           "line": {
            "color": "#2a3f5f"
           }
          },
          "ternary": {
           "aaxis": {
            "gridcolor": "white",
            "linecolor": "white",
            "ticks": ""
           },
           "baxis": {
            "gridcolor": "white",
            "linecolor": "white",
            "ticks": ""
           },
           "bgcolor": "#E5ECF6",
           "caxis": {
            "gridcolor": "white",
            "linecolor": "white",
            "ticks": ""
           }
          },
          "title": {
           "x": 0.05
          },
          "xaxis": {
           "automargin": true,
           "gridcolor": "white",
           "linecolor": "white",
           "ticks": "",
           "title": {
            "standoff": 15
           },
           "zerolinecolor": "white",
           "zerolinewidth": 2
          },
          "yaxis": {
           "automargin": true,
           "gridcolor": "white",
           "linecolor": "white",
           "ticks": "",
           "title": {
            "standoff": 15
           },
           "zerolinecolor": "white",
           "zerolinewidth": 2
          }
         }
        },
        "title": {
         "text": "Depression through USA in 2020"
        }
       }
      }
     },
     "metadata": {},
     "output_type": "display_data"
    }
   ],
   "source": [
    "states2020 = usa.query(\"Indicator == 'Symptoms of Depressive Disorder' & Group == 'By State' & Year == 2020\")\n",
    "fig2020 = go.Figure(data=go.Choropleth(\n",
    "    locations=list(states[\"Code\"]), # Spatial coordinates\n",
    "    z = states2020[\"Value\"], # Data to be color-coded\n",
    "    locationmode = 'USA-states', # set of locations match entries in `locations`\n",
    "    colorscale = 'Reds',\n",
    "    colorbar_title = \"Depression %\",\n",
    "))\n",
    "\n",
    "fig2020.update_layout(\n",
    "    title_text = 'Depression through USA in 2020',\n",
    "    geo_scope='usa', # limite map scope to USA\n",
    ")\n",
    "\n",
    "fig2020.show()"
   ]
  },
  {
   "cell_type": "code",
   "execution_count": 38,
   "metadata": {},
   "outputs": [
    {
     "data": {
      "application/vnd.plotly.v1+json": {
       "config": {
        "plotlyServerURL": "https://plotly.com"
       },
       "data": [
        {
         "colorbar": {
          "title": {
           "text": "Depression %"
          }
         },
         "colorscale": [
          [
           0,
           "rgb(255,245,240)"
          ],
          [
           0.125,
           "rgb(254,224,210)"
          ],
          [
           0.25,
           "rgb(252,187,161)"
          ],
          [
           0.375,
           "rgb(252,146,114)"
          ],
          [
           0.5,
           "rgb(251,106,74)"
          ],
          [
           0.625,
           "rgb(239,59,44)"
          ],
          [
           0.75,
           "rgb(203,24,29)"
          ],
          [
           0.875,
           "rgb(165,15,21)"
          ],
          [
           1,
           "rgb(103,0,13)"
          ]
         ],
         "locationmode": "USA-states",
         "locations": [
          "AL",
          "AK",
          "AZ",
          "AR",
          "CA",
          "CO",
          "CT",
          "DE",
          "DC",
          "FL",
          "GA",
          "HI",
          "ID",
          "IL",
          "IN",
          "IA",
          "KS",
          "KY",
          "LA",
          "ME",
          "MD",
          "MA",
          "MI",
          "MN",
          "MS",
          "MO",
          "MT",
          "NE",
          "NV",
          "NH",
          "NJ",
          "NM",
          "NY",
          "NC",
          "ND",
          "OH",
          "OK",
          "OR",
          "PA",
          "RI",
          "SC",
          "SD",
          "TN",
          "TX",
          "UT",
          "VT",
          "VA",
          "WA",
          "WV",
          "WI",
          "WY"
         ],
         "type": "choropleth",
         "z": [
          29.3,
          28.4,
          26.9,
          28.8,
          31.3,
          29.1,
          24.3,
          25.8,
          23,
          26,
          28.8,
          28.2,
          27.5,
          26.5,
          26.4,
          28,
          25.5,
          29.6,
          30.4,
          22.2,
          27.4,
          24.2,
          30.2,
          21.5,
          37.5,
          31.9,
          23.7,
          26.1,
          30.8,
          25.4,
          27.3,
          27.4,
          25,
          31.1,
          26.7,
          31.1,
          29.7,
          30.1,
          30.4,
          34.9,
          29.2,
          26.2,
          29.4,
          27.6,
          29.5,
          22,
          28.6,
          30.1,
          38.5,
          21.3,
          26.2,
          32.1,
          30.8,
          29.8,
          28.5,
          30.7,
          26.5,
          25.2,
          22.5,
          21.5,
          26.3,
          31.1,
          26.3,
          28.1,
          27.1,
          28,
          25.6,
          24.6,
          30.5,
          34,
          24.2,
          27.1,
          27,
          30.1,
          24.7,
          27,
          26.9,
          24.9,
          21.3,
          30.9,
          25.2,
          29.1,
          30.3,
          25.1,
          30.2,
          18.5,
          29.6,
          32.1,
          28.5,
          25.4,
          30.3,
          24.4,
          15.3,
          32,
          31,
          28.2,
          21.2,
          24.6,
          33.2,
          31.6,
          25.8,
          28.4,
          29.8,
          31.5,
          30.4,
          33.4,
          30.3,
          23.6,
          27.1,
          24.8,
          24.5,
          28.1,
          28.5,
          23.4,
          26.6,
          27.9,
          25.7,
          25,
          24.8,
          28.7,
          31.3,
          23,
          26.6,
          26.5,
          27.3,
          21.9,
          32.7,
          29.3,
          23.4,
          26,
          30.4,
          19.6,
          24.3,
          32.4,
          31.1,
          27.5,
          20.2,
          25.7,
          27.2,
          31,
          26.5,
          27.3,
          29.7,
          21.9,
          30.7,
          28.2,
          28.7,
          27.2,
          27.5,
          28.7,
          30.7,
          25.8,
          20,
          27.6,
          22,
          28.7,
          28.2,
          29.5,
          28.1,
          28.1,
          21.6,
          21.3,
          27.8,
          28.3,
          22.3,
          24.1,
          27.4,
          26.9,
          25.3,
          22.9,
          34,
          31.9,
          25.9,
          25,
          29.3,
          26.9,
          18.3,
          32.9,
          27.2,
          23.5,
          18.8,
          36.1,
          23.5,
          26.5,
          32,
          28.2,
          30.3,
          20.3,
          29.1,
          29.5,
          29.7,
          27.4,
          26.5,
          29.6,
          20.2,
          31.2,
          27.6,
          25.4,
          25.7,
          25.3,
          27.8,
          29,
          20.7,
          28.3,
          29,
          24.5,
          29.3,
          35,
          28.5,
          27,
          21.6,
          20.8,
          25.9,
          28.1,
          24.6,
          22.3,
          21.6,
          27.5,
          24.9,
          24.5,
          27.2,
          30.5,
          31.9,
          28.3,
          24.3,
          24.1,
          24.7,
          23.1,
          32.1,
          26.2,
          21.5,
          22.9,
          25.4,
          21.7,
          24.9,
          27.6,
          24.7,
          22.2,
          20,
          30.6,
          27.7,
          31.3,
          28.9,
          24.1,
          21.1,
          15.9,
          24.6,
          25.1,
          24,
          20.1,
          25.1,
          26.6,
          31.1,
          22.2,
          26.4,
          24.8,
          26.8,
          25.8,
          28.4,
          27.3,
          22.5,
          20.9,
          17.2,
          25.2,
          24.5,
          25.1,
          21.1,
          23.1,
          25.5,
          24.6,
          21.9,
          23.3,
          23.4,
          30,
          23.8,
          22.4,
          21.1,
          25,
          18.2,
          33.2,
          24.5,
          22.6,
          21.7,
          29.1,
          23.3,
          24.9,
          26.1,
          25.4,
          22.8,
          18.3,
          23.2,
          29.3,
          23.5,
          21.5,
          20.8,
          24.9,
          17.5,
          26.8,
          25.9,
          23.1,
          23,
          22.3,
          23.3,
          30.6,
          23.3,
          24.2,
          24.3,
          23.4,
          25.6,
          26.3,
          27.2,
          22.7,
          19.6,
          17.6,
          25.6,
          25.8,
          26.5,
          18.9,
          22.3,
          18.3,
          22.6,
          23,
          20.6,
          28.2,
          26.7,
          13.4,
          21.2,
          20,
          22.9,
          17.5,
          22.3,
          21.1,
          26.4,
          20.2,
          22.6,
          17.7,
          22.3,
          22.7,
          23.3,
          22.4,
          23.1,
          19.9,
          19.5,
          21.2,
          20.9,
          17.1,
          21.8,
          16.4,
          22.4,
          25.5,
          17.8,
          23.7,
          18.7,
          21.9,
          29.1,
          14.9,
          15.7,
          27.3,
          24.4,
          20.4,
          27.2,
          23.1,
          21.3,
          18.2,
          23.1,
          21,
          25.7,
          23,
          15.9,
          17.7,
          21.2,
          20.4,
          19.5,
          21.7,
          25.3,
          26,
          18.9,
          18.4,
          19.1,
          20.7,
          14.9,
          16.1,
          20.8,
          17.8,
          20.3,
          21.3,
          14.6,
          20.6,
          20.4,
          21.2,
          23.4,
          16.7,
          23.9,
          23.3,
          23.9,
          19.5,
          14.9,
          20.7,
          19.8,
          22.3,
          23.9,
          21,
          20.5,
          19.4,
          22.7,
          24.8,
          19.7,
          16.4,
          22.7,
          20.5,
          19.3,
          22.1,
          24.7,
          22.8,
          22.4,
          19.2,
          23.8,
          21.5,
          20.9,
          19.7,
          18.9,
          21,
          21.5,
          19.2,
          16.1,
          20.9,
          27.6,
          15.7,
          18,
          19.3,
          16.9,
          17,
          23,
          16.3,
          17.1,
          19.1,
          19.4,
          20.5,
          20.4,
          22.7,
          23.7,
          17.9,
          16.6,
          23.9,
          23.3,
          24.2,
          22.3,
          17.3,
          16.9,
          16.3,
          25.1,
          22.8,
          20.6,
          19,
          22.7,
          20.2,
          24,
          20.9,
          21.5,
          21.5,
          17.1,
          21.9,
          24.1,
          23,
          19.6,
          16.2,
          21.1,
          20.3,
          16.9,
          21.8,
          19.7,
          17.3,
          21.2,
          21,
          19.8,
          18.9,
          19.5,
          24.5,
          18.3,
          16.5,
          18.3,
          17.5,
          19.5,
          23.8,
          24.3,
          13.6,
          15.3,
          28.2,
          26.3,
          21.8,
          23.7,
          19.9,
          24.6,
          18.7,
          20.2,
          22.2,
          23,
          20,
          17.2,
          21.7,
          20.8,
          19.7,
          23.7,
          19.1,
          17.8,
          21.3,
          22.5,
          22.3,
          13.4,
          15.9,
          24.5,
          20.3,
          23.3,
          20.8,
          21.7,
          20.7,
          19.8,
          20.6,
          18.7,
          25.7,
          26.5,
          18.2,
          21.3,
          22.3,
          20.5,
          22.9,
          19.7,
          22,
          23.8,
          20.1,
          22.6,
          16.5,
          18.2,
          15.8,
          31.5,
          20.9,
          16.2,
          18.6,
          25.2,
          13.2,
          20.3,
          27.5,
          20,
          18.7,
          19.3,
          20.6,
          27.3,
          20.8,
          19.7,
          19.9,
          21.8,
          15.6,
          21.6,
          23.7,
          20.7,
          16.5,
          20.6,
          21.3,
          21.3,
          15.1,
          20.9,
          25.3,
          17.9,
          27.2,
          17.4,
          22.6,
          18.6,
          18.1,
          17.4,
          20.3,
          19.1,
          23.3,
          28.2,
          20.7,
          16,
          21.1,
          15.4,
          16.9,
          26.2,
          21.9,
          15.1,
          21.3,
          18.8,
          22.1,
          15.6,
          24.4,
          21.1,
          16.1,
          17.7,
          26.2,
          19.3,
          14.4,
          29.6,
          18.6,
          22.7,
          16.9,
          22.1,
          26.8,
          25.3,
          19.1,
          19.7,
          25.3,
          21.4,
          23.1,
          22.4,
          18.8,
          11.5,
          17.1,
          18.8,
          24.8,
          17.2,
          21.3,
          25.3,
          25.2,
          22.4,
          24.5,
          24.2,
          19.9,
          18.7,
          26.1,
          23,
          22.2,
          27.3,
          17.9,
          19.4,
          20.5,
          23.2,
          19.7,
          19.1,
          24.1,
          31.3,
          17.2,
          18.3,
          19.4,
          20.6,
          17.5,
          28.6,
          22.3,
          16.8,
          17,
          29.3,
          16.8,
          17.7,
          23.5,
          16.3,
          18.7,
          16.1,
          23.2,
          28.2,
          21.7,
          20.2,
          23.5,
          20.7,
          17.5,
          20.5,
          26.6,
          24,
          22.5,
          20.3,
          25.5,
          25.4,
          19.3,
          21.7,
          21.1,
          20.2,
          24.9,
          24.9,
          21.3,
          21.1,
          16,
          19,
          23.2,
          21.7,
          24.9,
          23.6,
          21.4,
          20,
          18.5,
          17.4,
          18.5,
          23.9,
          30.4,
          19,
          20.2,
          20.8,
          20.9,
          17.7,
          20.9,
          25,
          23,
          21.2,
          25.2,
          20.8,
          17.8,
          23.8,
          17.7,
          18.4,
          13.1,
          21,
          31.2,
          20.3,
          23.9,
          21.5,
          21.5,
          14.4,
          22.9,
          22.6,
          21.4,
          17.8,
          20.1,
          21.4,
          23.1,
          18.8,
          18.8,
          28.4,
          25,
          25.5,
          25.1,
          22.9,
          19.5,
          19.2,
          18.9,
          21.2,
          23.9,
          23.5,
          22.5,
          17.8,
          20.3,
          21.3,
          20.1,
          19.4,
          23.1,
          27.6,
          20,
          21.4,
          20.9,
          21.1,
          20.4,
          24.1,
          22.5,
          17.6,
          19.2,
          27.2,
          17.2,
          17.9,
          20.7,
          19.1,
          26.2,
          25.3,
          27.4,
          26.2,
          24.2,
          25.1,
          19.5,
          26.2,
          18.3,
          28.3,
          22.5,
          24.2,
          16.8,
          16.8,
          23.7,
          24.4,
          15.6,
          23.6,
          24.4,
          23.9,
          20.4,
          23.6,
          23.9,
          19.5,
          18.7,
          20.2,
          23.6,
          24.6,
          19.6,
          21.2,
          20.1,
          21,
          21.8,
          20.2,
          23.3,
          25.4,
          31.2,
          15.5,
          22.6,
          19.7,
          20.7,
          16.6,
          20.4,
          24.2,
          16.6,
          18.1,
          24.9,
          18.3,
          18.2,
          20.3,
          23,
          19,
          21.3,
          22.2,
          25.7,
          25,
          18.6,
          21.7,
          19.4,
          10.6,
          28.4,
          27.3,
          21,
          27.1,
          20.7,
          24.2,
          24.6,
          17.2,
          21.5,
          23,
          28.3,
          23.2,
          29.7,
          24.6,
          21.1,
          18.1,
          25.5,
          16.5,
          22.9,
          21.6,
          26.5,
          21.3,
          20.5,
          20.5,
          18.9,
          25.6,
          18.9,
          30.6,
          18.1,
          20.9,
          16.3,
          18.4,
          16.5,
          28.2,
          30.3,
          25.1,
          15.6,
          26.5,
          17,
          20.6,
          25.6,
          23.6,
          21.4,
          18.1,
          17.7,
          30.2,
          23.8,
          20.1,
          18.3,
          18.8,
          17,
          26.4,
          23.4,
          25.6,
          15.3,
          20.6,
          23.6,
          25.4,
          19.3,
          17.5,
          24.4,
          28,
          23.2,
          26.7,
          20.5,
          23,
          19.2,
          20,
          26.2,
          20.9,
          24.6,
          23.2,
          21.6,
          20.5,
          20.7,
          19.7,
          18.9,
          28.6,
          24.3,
          18.1,
          20.7,
          22,
          20.2,
          14.5,
          22.7,
          23.9,
          20.7,
          23.4,
          22.1,
          14.8,
          20.6,
          22.7,
          20.6,
          27.4,
          23.8,
          17.2,
          27.3,
          22.5,
          24,
          22.6,
          21,
          14.8,
          24.7,
          24.7,
          22.6,
          27,
          18.3,
          23.1,
          22.7,
          14.1,
          19.7,
          26.2,
          22.5,
          22.4,
          25.1,
          21.5,
          22.2,
          21.1,
          16.3,
          20.7,
          19.3,
          22.4,
          22.1,
          22.1,
          18,
          21.7,
          20.7,
          21.6,
          28.2,
          25.5,
          20,
          19.5,
          20.4,
          22.4,
          17.9,
          23.2,
          22.1,
          17.8,
          17.7,
          27.4,
          21.1,
          18.7,
          26.9,
          23.1,
          21.2,
          21.1,
          20.3,
          28.2,
          25.9,
          19.2,
          19.3,
          18.1,
          17.3,
          20.3,
          21.2,
          22.6,
          18.8,
          22.4,
          23.7,
          25.2,
          18,
          24.2
         ]
        }
       ],
       "layout": {
        "geo": {
         "scope": "usa"
        },
        "template": {
         "data": {
          "bar": [
           {
            "error_x": {
             "color": "#2a3f5f"
            },
            "error_y": {
             "color": "#2a3f5f"
            },
            "marker": {
             "line": {
              "color": "#E5ECF6",
              "width": 0.5
             },
             "pattern": {
              "fillmode": "overlay",
              "size": 10,
              "solidity": 0.2
             }
            },
            "type": "bar"
           }
          ],
          "barpolar": [
           {
            "marker": {
             "line": {
              "color": "#E5ECF6",
              "width": 0.5
             },
             "pattern": {
              "fillmode": "overlay",
              "size": 10,
              "solidity": 0.2
             }
            },
            "type": "barpolar"
           }
          ],
          "carpet": [
           {
            "aaxis": {
             "endlinecolor": "#2a3f5f",
             "gridcolor": "white",
             "linecolor": "white",
             "minorgridcolor": "white",
             "startlinecolor": "#2a3f5f"
            },
            "baxis": {
             "endlinecolor": "#2a3f5f",
             "gridcolor": "white",
             "linecolor": "white",
             "minorgridcolor": "white",
             "startlinecolor": "#2a3f5f"
            },
            "type": "carpet"
           }
          ],
          "choropleth": [
           {
            "colorbar": {
             "outlinewidth": 0,
             "ticks": ""
            },
            "type": "choropleth"
           }
          ],
          "contour": [
           {
            "colorbar": {
             "outlinewidth": 0,
             "ticks": ""
            },
            "colorscale": [
             [
              0,
              "#0d0887"
             ],
             [
              0.1111111111111111,
              "#46039f"
             ],
             [
              0.2222222222222222,
              "#7201a8"
             ],
             [
              0.3333333333333333,
              "#9c179e"
             ],
             [
              0.4444444444444444,
              "#bd3786"
             ],
             [
              0.5555555555555556,
              "#d8576b"
             ],
             [
              0.6666666666666666,
              "#ed7953"
             ],
             [
              0.7777777777777778,
              "#fb9f3a"
             ],
             [
              0.8888888888888888,
              "#fdca26"
             ],
             [
              1,
              "#f0f921"
             ]
            ],
            "type": "contour"
           }
          ],
          "contourcarpet": [
           {
            "colorbar": {
             "outlinewidth": 0,
             "ticks": ""
            },
            "type": "contourcarpet"
           }
          ],
          "heatmap": [
           {
            "colorbar": {
             "outlinewidth": 0,
             "ticks": ""
            },
            "colorscale": [
             [
              0,
              "#0d0887"
             ],
             [
              0.1111111111111111,
              "#46039f"
             ],
             [
              0.2222222222222222,
              "#7201a8"
             ],
             [
              0.3333333333333333,
              "#9c179e"
             ],
             [
              0.4444444444444444,
              "#bd3786"
             ],
             [
              0.5555555555555556,
              "#d8576b"
             ],
             [
              0.6666666666666666,
              "#ed7953"
             ],
             [
              0.7777777777777778,
              "#fb9f3a"
             ],
             [
              0.8888888888888888,
              "#fdca26"
             ],
             [
              1,
              "#f0f921"
             ]
            ],
            "type": "heatmap"
           }
          ],
          "heatmapgl": [
           {
            "colorbar": {
             "outlinewidth": 0,
             "ticks": ""
            },
            "colorscale": [
             [
              0,
              "#0d0887"
             ],
             [
              0.1111111111111111,
              "#46039f"
             ],
             [
              0.2222222222222222,
              "#7201a8"
             ],
             [
              0.3333333333333333,
              "#9c179e"
             ],
             [
              0.4444444444444444,
              "#bd3786"
             ],
             [
              0.5555555555555556,
              "#d8576b"
             ],
             [
              0.6666666666666666,
              "#ed7953"
             ],
             [
              0.7777777777777778,
              "#fb9f3a"
             ],
             [
              0.8888888888888888,
              "#fdca26"
             ],
             [
              1,
              "#f0f921"
             ]
            ],
            "type": "heatmapgl"
           }
          ],
          "histogram": [
           {
            "marker": {
             "pattern": {
              "fillmode": "overlay",
              "size": 10,
              "solidity": 0.2
             }
            },
            "type": "histogram"
           }
          ],
          "histogram2d": [
           {
            "colorbar": {
             "outlinewidth": 0,
             "ticks": ""
            },
            "colorscale": [
             [
              0,
              "#0d0887"
             ],
             [
              0.1111111111111111,
              "#46039f"
             ],
             [
              0.2222222222222222,
              "#7201a8"
             ],
             [
              0.3333333333333333,
              "#9c179e"
             ],
             [
              0.4444444444444444,
              "#bd3786"
             ],
             [
              0.5555555555555556,
              "#d8576b"
             ],
             [
              0.6666666666666666,
              "#ed7953"
             ],
             [
              0.7777777777777778,
              "#fb9f3a"
             ],
             [
              0.8888888888888888,
              "#fdca26"
             ],
             [
              1,
              "#f0f921"
             ]
            ],
            "type": "histogram2d"
           }
          ],
          "histogram2dcontour": [
           {
            "colorbar": {
             "outlinewidth": 0,
             "ticks": ""
            },
            "colorscale": [
             [
              0,
              "#0d0887"
             ],
             [
              0.1111111111111111,
              "#46039f"
             ],
             [
              0.2222222222222222,
              "#7201a8"
             ],
             [
              0.3333333333333333,
              "#9c179e"
             ],
             [
              0.4444444444444444,
              "#bd3786"
             ],
             [
              0.5555555555555556,
              "#d8576b"
             ],
             [
              0.6666666666666666,
              "#ed7953"
             ],
             [
              0.7777777777777778,
              "#fb9f3a"
             ],
             [
              0.8888888888888888,
              "#fdca26"
             ],
             [
              1,
              "#f0f921"
             ]
            ],
            "type": "histogram2dcontour"
           }
          ],
          "mesh3d": [
           {
            "colorbar": {
             "outlinewidth": 0,
             "ticks": ""
            },
            "type": "mesh3d"
           }
          ],
          "parcoords": [
           {
            "line": {
             "colorbar": {
              "outlinewidth": 0,
              "ticks": ""
             }
            },
            "type": "parcoords"
           }
          ],
          "pie": [
           {
            "automargin": true,
            "type": "pie"
           }
          ],
          "scatter": [
           {
            "fillpattern": {
             "fillmode": "overlay",
             "size": 10,
             "solidity": 0.2
            },
            "type": "scatter"
           }
          ],
          "scatter3d": [
           {
            "line": {
             "colorbar": {
              "outlinewidth": 0,
              "ticks": ""
             }
            },
            "marker": {
             "colorbar": {
              "outlinewidth": 0,
              "ticks": ""
             }
            },
            "type": "scatter3d"
           }
          ],
          "scattercarpet": [
           {
            "marker": {
             "colorbar": {
              "outlinewidth": 0,
              "ticks": ""
             }
            },
            "type": "scattercarpet"
           }
          ],
          "scattergeo": [
           {
            "marker": {
             "colorbar": {
              "outlinewidth": 0,
              "ticks": ""
             }
            },
            "type": "scattergeo"
           }
          ],
          "scattergl": [
           {
            "marker": {
             "colorbar": {
              "outlinewidth": 0,
              "ticks": ""
             }
            },
            "type": "scattergl"
           }
          ],
          "scattermapbox": [
           {
            "marker": {
             "colorbar": {
              "outlinewidth": 0,
              "ticks": ""
             }
            },
            "type": "scattermapbox"
           }
          ],
          "scatterpolar": [
           {
            "marker": {
             "colorbar": {
              "outlinewidth": 0,
              "ticks": ""
             }
            },
            "type": "scatterpolar"
           }
          ],
          "scatterpolargl": [
           {
            "marker": {
             "colorbar": {
              "outlinewidth": 0,
              "ticks": ""
             }
            },
            "type": "scatterpolargl"
           }
          ],
          "scatterternary": [
           {
            "marker": {
             "colorbar": {
              "outlinewidth": 0,
              "ticks": ""
             }
            },
            "type": "scatterternary"
           }
          ],
          "surface": [
           {
            "colorbar": {
             "outlinewidth": 0,
             "ticks": ""
            },
            "colorscale": [
             [
              0,
              "#0d0887"
             ],
             [
              0.1111111111111111,
              "#46039f"
             ],
             [
              0.2222222222222222,
              "#7201a8"
             ],
             [
              0.3333333333333333,
              "#9c179e"
             ],
             [
              0.4444444444444444,
              "#bd3786"
             ],
             [
              0.5555555555555556,
              "#d8576b"
             ],
             [
              0.6666666666666666,
              "#ed7953"
             ],
             [
              0.7777777777777778,
              "#fb9f3a"
             ],
             [
              0.8888888888888888,
              "#fdca26"
             ],
             [
              1,
              "#f0f921"
             ]
            ],
            "type": "surface"
           }
          ],
          "table": [
           {
            "cells": {
             "fill": {
              "color": "#EBF0F8"
             },
             "line": {
              "color": "white"
             }
            },
            "header": {
             "fill": {
              "color": "#C8D4E3"
             },
             "line": {
              "color": "white"
             }
            },
            "type": "table"
           }
          ]
         },
         "layout": {
          "annotationdefaults": {
           "arrowcolor": "#2a3f5f",
           "arrowhead": 0,
           "arrowwidth": 1
          },
          "autotypenumbers": "strict",
          "coloraxis": {
           "colorbar": {
            "outlinewidth": 0,
            "ticks": ""
           }
          },
          "colorscale": {
           "diverging": [
            [
             0,
             "#8e0152"
            ],
            [
             0.1,
             "#c51b7d"
            ],
            [
             0.2,
             "#de77ae"
            ],
            [
             0.3,
             "#f1b6da"
            ],
            [
             0.4,
             "#fde0ef"
            ],
            [
             0.5,
             "#f7f7f7"
            ],
            [
             0.6,
             "#e6f5d0"
            ],
            [
             0.7,
             "#b8e186"
            ],
            [
             0.8,
             "#7fbc41"
            ],
            [
             0.9,
             "#4d9221"
            ],
            [
             1,
             "#276419"
            ]
           ],
           "sequential": [
            [
             0,
             "#0d0887"
            ],
            [
             0.1111111111111111,
             "#46039f"
            ],
            [
             0.2222222222222222,
             "#7201a8"
            ],
            [
             0.3333333333333333,
             "#9c179e"
            ],
            [
             0.4444444444444444,
             "#bd3786"
            ],
            [
             0.5555555555555556,
             "#d8576b"
            ],
            [
             0.6666666666666666,
             "#ed7953"
            ],
            [
             0.7777777777777778,
             "#fb9f3a"
            ],
            [
             0.8888888888888888,
             "#fdca26"
            ],
            [
             1,
             "#f0f921"
            ]
           ],
           "sequentialminus": [
            [
             0,
             "#0d0887"
            ],
            [
             0.1111111111111111,
             "#46039f"
            ],
            [
             0.2222222222222222,
             "#7201a8"
            ],
            [
             0.3333333333333333,
             "#9c179e"
            ],
            [
             0.4444444444444444,
             "#bd3786"
            ],
            [
             0.5555555555555556,
             "#d8576b"
            ],
            [
             0.6666666666666666,
             "#ed7953"
            ],
            [
             0.7777777777777778,
             "#fb9f3a"
            ],
            [
             0.8888888888888888,
             "#fdca26"
            ],
            [
             1,
             "#f0f921"
            ]
           ]
          },
          "colorway": [
           "#636efa",
           "#EF553B",
           "#00cc96",
           "#ab63fa",
           "#FFA15A",
           "#19d3f3",
           "#FF6692",
           "#B6E880",
           "#FF97FF",
           "#FECB52"
          ],
          "font": {
           "color": "#2a3f5f"
          },
          "geo": {
           "bgcolor": "white",
           "lakecolor": "white",
           "landcolor": "#E5ECF6",
           "showlakes": true,
           "showland": true,
           "subunitcolor": "white"
          },
          "hoverlabel": {
           "align": "left"
          },
          "hovermode": "closest",
          "mapbox": {
           "style": "light"
          },
          "paper_bgcolor": "white",
          "plot_bgcolor": "#E5ECF6",
          "polar": {
           "angularaxis": {
            "gridcolor": "white",
            "linecolor": "white",
            "ticks": ""
           },
           "bgcolor": "#E5ECF6",
           "radialaxis": {
            "gridcolor": "white",
            "linecolor": "white",
            "ticks": ""
           }
          },
          "scene": {
           "xaxis": {
            "backgroundcolor": "#E5ECF6",
            "gridcolor": "white",
            "gridwidth": 2,
            "linecolor": "white",
            "showbackground": true,
            "ticks": "",
            "zerolinecolor": "white"
           },
           "yaxis": {
            "backgroundcolor": "#E5ECF6",
            "gridcolor": "white",
            "gridwidth": 2,
            "linecolor": "white",
            "showbackground": true,
            "ticks": "",
            "zerolinecolor": "white"
           },
           "zaxis": {
            "backgroundcolor": "#E5ECF6",
            "gridcolor": "white",
            "gridwidth": 2,
            "linecolor": "white",
            "showbackground": true,
            "ticks": "",
            "zerolinecolor": "white"
           }
          },
          "shapedefaults": {
           "line": {
            "color": "#2a3f5f"
           }
          },
          "ternary": {
           "aaxis": {
            "gridcolor": "white",
            "linecolor": "white",
            "ticks": ""
           },
           "baxis": {
            "gridcolor": "white",
            "linecolor": "white",
            "ticks": ""
           },
           "bgcolor": "#E5ECF6",
           "caxis": {
            "gridcolor": "white",
            "linecolor": "white",
            "ticks": ""
           }
          },
          "title": {
           "x": 0.05
          },
          "xaxis": {
           "automargin": true,
           "gridcolor": "white",
           "linecolor": "white",
           "ticks": "",
           "title": {
            "standoff": 15
           },
           "zerolinecolor": "white",
           "zerolinewidth": 2
          },
          "yaxis": {
           "automargin": true,
           "gridcolor": "white",
           "linecolor": "white",
           "ticks": "",
           "title": {
            "standoff": 15
           },
           "zerolinecolor": "white",
           "zerolinewidth": 2
          }
         }
        },
        "title": {
         "text": "Depression through USA in 2021"
        }
       }
      }
     },
     "metadata": {},
     "output_type": "display_data"
    }
   ],
   "source": [
    "states2021 = usa.query(\"Indicator == 'Symptoms of Depressive Disorder' & Group == 'By State' & Year == 2021\")\n",
    "fig2021 = go.Figure(data=go.Choropleth(\n",
    "    locations=list(states[\"Code\"]), # Spatial coordinates\n",
    "    z = states2021[\"Value\"], # Data to be color-coded\n",
    "    locationmode = 'USA-states', # set of locations match entries in `locations`\n",
    "    colorscale = 'Reds',\n",
    "    colorbar_title = \"Depression %\",\n",
    "))\n",
    "\n",
    "fig2021.update_layout(\n",
    "    title_text = 'Depression through USA in 2021',\n",
    "    geo_scope='usa', # limite map scope to USA\n",
    ")\n",
    "\n",
    "fig2021.show()"
   ]
  },
  {
   "cell_type": "code",
   "execution_count": 39,
   "metadata": {},
   "outputs": [
    {
     "data": {
      "application/vnd.plotly.v1+json": {
       "config": {
        "plotlyServerURL": "https://plotly.com"
       },
       "data": [
        {
         "colorbar": {
          "title": {
           "text": "Depression %"
          }
         },
         "colorscale": [
          [
           0,
           "rgb(255,245,240)"
          ],
          [
           0.125,
           "rgb(254,224,210)"
          ],
          [
           0.25,
           "rgb(252,187,161)"
          ],
          [
           0.375,
           "rgb(252,146,114)"
          ],
          [
           0.5,
           "rgb(251,106,74)"
          ],
          [
           0.625,
           "rgb(239,59,44)"
          ],
          [
           0.75,
           "rgb(203,24,29)"
          ],
          [
           0.875,
           "rgb(165,15,21)"
          ],
          [
           1,
           "rgb(103,0,13)"
          ]
         ],
         "locationmode": "USA-states",
         "locations": [
          "AL",
          "AK",
          "AZ",
          "AR",
          "CA",
          "CO",
          "CT",
          "DE",
          "DC",
          "FL",
          "GA",
          "HI",
          "ID",
          "IL",
          "IN",
          "IA",
          "KS",
          "KY",
          "LA",
          "ME",
          "MD",
          "MA",
          "MI",
          "MN",
          "MS",
          "MO",
          "MT",
          "NE",
          "NV",
          "NH",
          "NJ",
          "NM",
          "NY",
          "NC",
          "ND",
          "OH",
          "OK",
          "OR",
          "PA",
          "RI",
          "SC",
          "SD",
          "TN",
          "TX",
          "UT",
          "VT",
          "VA",
          "WA",
          "WV",
          "WI",
          "WY"
         ],
         "type": "choropleth",
         "z": [
          25.9,
          21.6,
          22.6,
          31.4,
          22.3,
          21.1,
          22.3,
          21.5,
          20.9,
          24.5,
          21.8,
          23.8,
          21,
          19,
          24.1,
          19.1,
          20,
          24.8,
          24,
          20.7,
          18.5,
          20.6,
          24.1,
          18.6,
          26.4,
          25.3,
          21.8,
          23.7,
          28.8,
          21,
          22.2,
          26.7,
          21.1,
          20.1,
          19,
          24.6,
          26.7,
          25.8,
          21,
          26.7,
          23.1,
          22.2,
          24.6,
          25,
          23.6,
          22.1,
          23.4,
          21.4,
          25.9,
          20.1,
          22.8,
          26.1,
          24.6,
          20.9,
          24.5,
          23.3,
          20,
          23,
          20.7,
          16.2,
          21.7,
          23.2,
          21.2,
          17,
          23,
          20.7,
          15,
          21.5,
          24.6,
          28.4,
          23.4,
          23.2,
          19,
          21.7,
          17.3,
          26.2,
          23.2,
          23,
          21.1,
          29.6,
          16.2,
          23.6,
          24.9,
          20.5,
          18,
          21.2,
          20.3,
          25.1,
          25,
          21.7,
          20.7,
          20,
          16.9,
          25.5,
          23.2,
          19.8,
          17.5,
          21.4,
          22.6,
          27.4,
          21.8,
          23.8,
          26.4,
          22.4,
          25,
          28.4,
          22.7,
          18.8,
          17.1,
          14.5,
          19.8,
          19.8,
          21.2,
          18.5,
          18.3,
          22.8,
          20.8,
          21.3,
          21.4,
          23.1,
          26.1,
          19.4,
          18.3,
          19.8,
          19.2,
          19.2,
          27.6,
          22.3,
          15.8,
          20.9,
          23.1,
          18.8,
          19.3,
          24,
          20.5,
          21.5,
          18.6,
          21.7,
          24.6,
          24.4,
          21.4,
          16,
          17.3,
          18.8,
          20.6,
          25.9,
          22.5,
          21.9,
          20.3,
          21.3,
          24.6,
          18.4,
          21,
          21.1,
          20.2,
          18.3,
          20.8,
          21.1,
          21.2,
          16,
          17.5,
          25.5,
          23.6,
          22.9,
          19.9,
          21,
          23.4,
          21.7,
          20.7,
          22.3,
          30,
          26.3,
          20.7,
          21.2,
          20.6,
          19.1,
          16.6,
          25.5,
          21.7,
          22.6,
          18.4,
          23,
          20.9,
          20.8,
          27,
          19,
          21.8,
          21.2,
          20.5,
          26.1,
          27.2,
          22,
          20.1,
          19,
          22.2,
          19.9,
          24.4,
          22.2,
          19.1,
          19.8,
          19.4,
          34.9,
          21,
          18.3,
          23.1,
          23.8,
          20.4,
          20.4,
          23.9,
          15.9,
          19.5,
          14.9,
          17.8,
          20.5,
          21.3,
          15.5,
          22.3,
          18,
          21.8,
          19,
          18.8,
          25,
          20,
          19.5,
          17.4,
          21.1,
          22.3,
          19,
          28.1,
          22.9,
          19.6,
          19,
          22.4,
          21.6,
          21.2,
          24.2,
          25.5,
          20.8,
          20.5,
          18.8,
          30.3,
          21.7,
          23.4,
          15.7,
          22.6,
          14.6,
          22.9,
          25.9,
          24.8,
          18.3,
          19.3,
          23.2,
          23.8,
          19.2,
          18.7,
          28.8,
          21.6,
          25.6,
          26.2,
          24.9,
          22.5,
          17.4,
          19.5,
          21.6,
          20.6,
          22.9,
          17,
          18.8,
          17.6,
          22.3,
          25.3,
          17.9,
          30.7,
          30,
          18.9,
          21.5,
          19.8,
          18.4,
          18.1,
          32.7,
          20.4,
          18.3,
          22.2,
          30.2,
          20.4,
          19,
          23.5,
          18.2,
          24.9,
          19.8,
          20.9,
          25.4,
          23.2,
          20.6,
          20.3,
          25.6,
          17.4,
          26.3,
          24.8,
          24.7,
          22.2,
          20.4,
          20.4,
          27.1,
          21.4,
          22.1,
          28.7,
          20.5,
          22.7,
          30.8,
          23.3,
          21.5,
          21,
          20.2,
          23.9,
          21.5,
          21.1,
          20.1,
          25.7,
          24.4,
          24.9,
          19.9,
          20.4,
          27.2,
          30,
          26.5,
          21.4,
          20.2,
          25.3,
          18.5,
          33.1,
          21.2,
          26.7,
          19.3,
          28.4,
          15.7,
          25.5,
          28,
          21.3,
          20.5,
          24.6,
          19.6,
          30.5,
          24.2,
          25.3,
          23.8,
          21,
          15.7,
          25.1,
          25.5,
          29.1,
          12.4,
          25.3,
          18.8,
          26.9,
          16.6,
          21.4,
          32.6,
          22.5,
          20.7,
          23.4,
          24.4,
          21.3,
          20,
          20.3,
          22.5,
          23.4,
          25.4,
          18.9,
          17.7,
          23.5,
          18.1,
          19.9,
          22.1,
          23.8,
          24.6,
          16.1,
          20,
          19.8,
          21.5,
          17.8,
          23.8,
          21.6,
          26.3,
          23.2,
          21.3,
          18.8,
          19.5,
          24.4,
          16,
          20.8,
          15.8,
          21.6,
          24.8,
          17.1,
          24.2,
          22.3,
          18.6,
          18.6,
          23,
          24.3,
          23,
          20.9,
          18.8,
          19.3,
          27.3,
          19.8,
          19.5,
          29.7,
          24.4,
          26.8,
          30.2,
          23.8,
          26.8,
          22.8,
          26.1,
          14.7,
          24.2,
          22.3,
          24.4,
          26.3,
          22.4,
          26,
          21,
          25.8,
          24.9,
          30.5,
          20.3,
          20.9,
          22.9,
          24.6,
          18,
          31.4,
          26.3,
          19.2,
          22.6,
          24.6,
          23.2,
          17.9,
          27,
          25.5,
          22.5,
          21.4,
          23.5,
          29.3,
          27.8,
          21.8,
          22.2,
          25,
          24.3,
          26.3,
          26.5,
          26.5,
          23.2,
          22,
          23.2,
          25.8,
          19.5,
          26.1,
          24.3,
          25.8,
          27.7,
          30.4,
          26,
          22.4,
          19.7,
          19.4,
          17.7,
          25.7,
          22.8,
          25.1,
          22.6,
          18.4,
          29.3,
          22,
          23.5,
          33.1,
          33,
          20.4,
          20,
          23.7,
          22.7,
          22.7,
          27.3,
          26.9,
          23,
          24.1,
          27.2,
          20.9,
          26.5,
          28.4,
          21.7,
          20.7,
          22.6,
          27,
          29.4,
          23.5,
          25.8,
          23.2,
          26.3,
          21.1,
          25.9,
          30.1,
          26.7,
          15.5,
          22.4,
          26.5,
          29.8,
          21,
          17.9
         ]
        }
       ],
       "layout": {
        "geo": {
         "scope": "usa"
        },
        "template": {
         "data": {
          "bar": [
           {
            "error_x": {
             "color": "#2a3f5f"
            },
            "error_y": {
             "color": "#2a3f5f"
            },
            "marker": {
             "line": {
              "color": "#E5ECF6",
              "width": 0.5
             },
             "pattern": {
              "fillmode": "overlay",
              "size": 10,
              "solidity": 0.2
             }
            },
            "type": "bar"
           }
          ],
          "barpolar": [
           {
            "marker": {
             "line": {
              "color": "#E5ECF6",
              "width": 0.5
             },
             "pattern": {
              "fillmode": "overlay",
              "size": 10,
              "solidity": 0.2
             }
            },
            "type": "barpolar"
           }
          ],
          "carpet": [
           {
            "aaxis": {
             "endlinecolor": "#2a3f5f",
             "gridcolor": "white",
             "linecolor": "white",
             "minorgridcolor": "white",
             "startlinecolor": "#2a3f5f"
            },
            "baxis": {
             "endlinecolor": "#2a3f5f",
             "gridcolor": "white",
             "linecolor": "white",
             "minorgridcolor": "white",
             "startlinecolor": "#2a3f5f"
            },
            "type": "carpet"
           }
          ],
          "choropleth": [
           {
            "colorbar": {
             "outlinewidth": 0,
             "ticks": ""
            },
            "type": "choropleth"
           }
          ],
          "contour": [
           {
            "colorbar": {
             "outlinewidth": 0,
             "ticks": ""
            },
            "colorscale": [
             [
              0,
              "#0d0887"
             ],
             [
              0.1111111111111111,
              "#46039f"
             ],
             [
              0.2222222222222222,
              "#7201a8"
             ],
             [
              0.3333333333333333,
              "#9c179e"
             ],
             [
              0.4444444444444444,
              "#bd3786"
             ],
             [
              0.5555555555555556,
              "#d8576b"
             ],
             [
              0.6666666666666666,
              "#ed7953"
             ],
             [
              0.7777777777777778,
              "#fb9f3a"
             ],
             [
              0.8888888888888888,
              "#fdca26"
             ],
             [
              1,
              "#f0f921"
             ]
            ],
            "type": "contour"
           }
          ],
          "contourcarpet": [
           {
            "colorbar": {
             "outlinewidth": 0,
             "ticks": ""
            },
            "type": "contourcarpet"
           }
          ],
          "heatmap": [
           {
            "colorbar": {
             "outlinewidth": 0,
             "ticks": ""
            },
            "colorscale": [
             [
              0,
              "#0d0887"
             ],
             [
              0.1111111111111111,
              "#46039f"
             ],
             [
              0.2222222222222222,
              "#7201a8"
             ],
             [
              0.3333333333333333,
              "#9c179e"
             ],
             [
              0.4444444444444444,
              "#bd3786"
             ],
             [
              0.5555555555555556,
              "#d8576b"
             ],
             [
              0.6666666666666666,
              "#ed7953"
             ],
             [
              0.7777777777777778,
              "#fb9f3a"
             ],
             [
              0.8888888888888888,
              "#fdca26"
             ],
             [
              1,
              "#f0f921"
             ]
            ],
            "type": "heatmap"
           }
          ],
          "heatmapgl": [
           {
            "colorbar": {
             "outlinewidth": 0,
             "ticks": ""
            },
            "colorscale": [
             [
              0,
              "#0d0887"
             ],
             [
              0.1111111111111111,
              "#46039f"
             ],
             [
              0.2222222222222222,
              "#7201a8"
             ],
             [
              0.3333333333333333,
              "#9c179e"
             ],
             [
              0.4444444444444444,
              "#bd3786"
             ],
             [
              0.5555555555555556,
              "#d8576b"
             ],
             [
              0.6666666666666666,
              "#ed7953"
             ],
             [
              0.7777777777777778,
              "#fb9f3a"
             ],
             [
              0.8888888888888888,
              "#fdca26"
             ],
             [
              1,
              "#f0f921"
             ]
            ],
            "type": "heatmapgl"
           }
          ],
          "histogram": [
           {
            "marker": {
             "pattern": {
              "fillmode": "overlay",
              "size": 10,
              "solidity": 0.2
             }
            },
            "type": "histogram"
           }
          ],
          "histogram2d": [
           {
            "colorbar": {
             "outlinewidth": 0,
             "ticks": ""
            },
            "colorscale": [
             [
              0,
              "#0d0887"
             ],
             [
              0.1111111111111111,
              "#46039f"
             ],
             [
              0.2222222222222222,
              "#7201a8"
             ],
             [
              0.3333333333333333,
              "#9c179e"
             ],
             [
              0.4444444444444444,
              "#bd3786"
             ],
             [
              0.5555555555555556,
              "#d8576b"
             ],
             [
              0.6666666666666666,
              "#ed7953"
             ],
             [
              0.7777777777777778,
              "#fb9f3a"
             ],
             [
              0.8888888888888888,
              "#fdca26"
             ],
             [
              1,
              "#f0f921"
             ]
            ],
            "type": "histogram2d"
           }
          ],
          "histogram2dcontour": [
           {
            "colorbar": {
             "outlinewidth": 0,
             "ticks": ""
            },
            "colorscale": [
             [
              0,
              "#0d0887"
             ],
             [
              0.1111111111111111,
              "#46039f"
             ],
             [
              0.2222222222222222,
              "#7201a8"
             ],
             [
              0.3333333333333333,
              "#9c179e"
             ],
             [
              0.4444444444444444,
              "#bd3786"
             ],
             [
              0.5555555555555556,
              "#d8576b"
             ],
             [
              0.6666666666666666,
              "#ed7953"
             ],
             [
              0.7777777777777778,
              "#fb9f3a"
             ],
             [
              0.8888888888888888,
              "#fdca26"
             ],
             [
              1,
              "#f0f921"
             ]
            ],
            "type": "histogram2dcontour"
           }
          ],
          "mesh3d": [
           {
            "colorbar": {
             "outlinewidth": 0,
             "ticks": ""
            },
            "type": "mesh3d"
           }
          ],
          "parcoords": [
           {
            "line": {
             "colorbar": {
              "outlinewidth": 0,
              "ticks": ""
             }
            },
            "type": "parcoords"
           }
          ],
          "pie": [
           {
            "automargin": true,
            "type": "pie"
           }
          ],
          "scatter": [
           {
            "fillpattern": {
             "fillmode": "overlay",
             "size": 10,
             "solidity": 0.2
            },
            "type": "scatter"
           }
          ],
          "scatter3d": [
           {
            "line": {
             "colorbar": {
              "outlinewidth": 0,
              "ticks": ""
             }
            },
            "marker": {
             "colorbar": {
              "outlinewidth": 0,
              "ticks": ""
             }
            },
            "type": "scatter3d"
           }
          ],
          "scattercarpet": [
           {
            "marker": {
             "colorbar": {
              "outlinewidth": 0,
              "ticks": ""
             }
            },
            "type": "scattercarpet"
           }
          ],
          "scattergeo": [
           {
            "marker": {
             "colorbar": {
              "outlinewidth": 0,
              "ticks": ""
             }
            },
            "type": "scattergeo"
           }
          ],
          "scattergl": [
           {
            "marker": {
             "colorbar": {
              "outlinewidth": 0,
              "ticks": ""
             }
            },
            "type": "scattergl"
           }
          ],
          "scattermapbox": [
           {
            "marker": {
             "colorbar": {
              "outlinewidth": 0,
              "ticks": ""
             }
            },
            "type": "scattermapbox"
           }
          ],
          "scatterpolar": [
           {
            "marker": {
             "colorbar": {
              "outlinewidth": 0,
              "ticks": ""
             }
            },
            "type": "scatterpolar"
           }
          ],
          "scatterpolargl": [
           {
            "marker": {
             "colorbar": {
              "outlinewidth": 0,
              "ticks": ""
             }
            },
            "type": "scatterpolargl"
           }
          ],
          "scatterternary": [
           {
            "marker": {
             "colorbar": {
              "outlinewidth": 0,
              "ticks": ""
             }
            },
            "type": "scatterternary"
           }
          ],
          "surface": [
           {
            "colorbar": {
             "outlinewidth": 0,
             "ticks": ""
            },
            "colorscale": [
             [
              0,
              "#0d0887"
             ],
             [
              0.1111111111111111,
              "#46039f"
             ],
             [
              0.2222222222222222,
              "#7201a8"
             ],
             [
              0.3333333333333333,
              "#9c179e"
             ],
             [
              0.4444444444444444,
              "#bd3786"
             ],
             [
              0.5555555555555556,
              "#d8576b"
             ],
             [
              0.6666666666666666,
              "#ed7953"
             ],
             [
              0.7777777777777778,
              "#fb9f3a"
             ],
             [
              0.8888888888888888,
              "#fdca26"
             ],
             [
              1,
              "#f0f921"
             ]
            ],
            "type": "surface"
           }
          ],
          "table": [
           {
            "cells": {
             "fill": {
              "color": "#EBF0F8"
             },
             "line": {
              "color": "white"
             }
            },
            "header": {
             "fill": {
              "color": "#C8D4E3"
             },
             "line": {
              "color": "white"
             }
            },
            "type": "table"
           }
          ]
         },
         "layout": {
          "annotationdefaults": {
           "arrowcolor": "#2a3f5f",
           "arrowhead": 0,
           "arrowwidth": 1
          },
          "autotypenumbers": "strict",
          "coloraxis": {
           "colorbar": {
            "outlinewidth": 0,
            "ticks": ""
           }
          },
          "colorscale": {
           "diverging": [
            [
             0,
             "#8e0152"
            ],
            [
             0.1,
             "#c51b7d"
            ],
            [
             0.2,
             "#de77ae"
            ],
            [
             0.3,
             "#f1b6da"
            ],
            [
             0.4,
             "#fde0ef"
            ],
            [
             0.5,
             "#f7f7f7"
            ],
            [
             0.6,
             "#e6f5d0"
            ],
            [
             0.7,
             "#b8e186"
            ],
            [
             0.8,
             "#7fbc41"
            ],
            [
             0.9,
             "#4d9221"
            ],
            [
             1,
             "#276419"
            ]
           ],
           "sequential": [
            [
             0,
             "#0d0887"
            ],
            [
             0.1111111111111111,
             "#46039f"
            ],
            [
             0.2222222222222222,
             "#7201a8"
            ],
            [
             0.3333333333333333,
             "#9c179e"
            ],
            [
             0.4444444444444444,
             "#bd3786"
            ],
            [
             0.5555555555555556,
             "#d8576b"
            ],
            [
             0.6666666666666666,
             "#ed7953"
            ],
            [
             0.7777777777777778,
             "#fb9f3a"
            ],
            [
             0.8888888888888888,
             "#fdca26"
            ],
            [
             1,
             "#f0f921"
            ]
           ],
           "sequentialminus": [
            [
             0,
             "#0d0887"
            ],
            [
             0.1111111111111111,
             "#46039f"
            ],
            [
             0.2222222222222222,
             "#7201a8"
            ],
            [
             0.3333333333333333,
             "#9c179e"
            ],
            [
             0.4444444444444444,
             "#bd3786"
            ],
            [
             0.5555555555555556,
             "#d8576b"
            ],
            [
             0.6666666666666666,
             "#ed7953"
            ],
            [
             0.7777777777777778,
             "#fb9f3a"
            ],
            [
             0.8888888888888888,
             "#fdca26"
            ],
            [
             1,
             "#f0f921"
            ]
           ]
          },
          "colorway": [
           "#636efa",
           "#EF553B",
           "#00cc96",
           "#ab63fa",
           "#FFA15A",
           "#19d3f3",
           "#FF6692",
           "#B6E880",
           "#FF97FF",
           "#FECB52"
          ],
          "font": {
           "color": "#2a3f5f"
          },
          "geo": {
           "bgcolor": "white",
           "lakecolor": "white",
           "landcolor": "#E5ECF6",
           "showlakes": true,
           "showland": true,
           "subunitcolor": "white"
          },
          "hoverlabel": {
           "align": "left"
          },
          "hovermode": "closest",
          "mapbox": {
           "style": "light"
          },
          "paper_bgcolor": "white",
          "plot_bgcolor": "#E5ECF6",
          "polar": {
           "angularaxis": {
            "gridcolor": "white",
            "linecolor": "white",
            "ticks": ""
           },
           "bgcolor": "#E5ECF6",
           "radialaxis": {
            "gridcolor": "white",
            "linecolor": "white",
            "ticks": ""
           }
          },
          "scene": {
           "xaxis": {
            "backgroundcolor": "#E5ECF6",
            "gridcolor": "white",
            "gridwidth": 2,
            "linecolor": "white",
            "showbackground": true,
            "ticks": "",
            "zerolinecolor": "white"
           },
           "yaxis": {
            "backgroundcolor": "#E5ECF6",
            "gridcolor": "white",
            "gridwidth": 2,
            "linecolor": "white",
            "showbackground": true,
            "ticks": "",
            "zerolinecolor": "white"
           },
           "zaxis": {
            "backgroundcolor": "#E5ECF6",
            "gridcolor": "white",
            "gridwidth": 2,
            "linecolor": "white",
            "showbackground": true,
            "ticks": "",
            "zerolinecolor": "white"
           }
          },
          "shapedefaults": {
           "line": {
            "color": "#2a3f5f"
           }
          },
          "ternary": {
           "aaxis": {
            "gridcolor": "white",
            "linecolor": "white",
            "ticks": ""
           },
           "baxis": {
            "gridcolor": "white",
            "linecolor": "white",
            "ticks": ""
           },
           "bgcolor": "#E5ECF6",
           "caxis": {
            "gridcolor": "white",
            "linecolor": "white",
            "ticks": ""
           }
          },
          "title": {
           "x": 0.05
          },
          "xaxis": {
           "automargin": true,
           "gridcolor": "white",
           "linecolor": "white",
           "ticks": "",
           "title": {
            "standoff": 15
           },
           "zerolinecolor": "white",
           "zerolinewidth": 2
          },
          "yaxis": {
           "automargin": true,
           "gridcolor": "white",
           "linecolor": "white",
           "ticks": "",
           "title": {
            "standoff": 15
           },
           "zerolinecolor": "white",
           "zerolinewidth": 2
          }
         }
        },
        "title": {
         "text": "Depression through USA in 2022"
        }
       }
      }
     },
     "metadata": {},
     "output_type": "display_data"
    }
   ],
   "source": [
    "states2022 = usa.query(\"Indicator == 'Symptoms of Depressive Disorder' & Group == 'By State' & Year == 2022\")\n",
    "fig2022 = go.Figure(data=go.Choropleth(\n",
    "    locations=list(states[\"Code\"]), # Spatial coordinates\n",
    "    z = states2022[\"Value\"], # Data to be color-coded\n",
    "    locationmode = 'USA-states', # set of locations match entries in `locations`\n",
    "    colorscale = 'Reds',\n",
    "    colorbar_title = \"Depression %\",\n",
    "))\n",
    "\n",
    "fig2022.update_layout(\n",
    "    title_text = 'Depression through USA in 2022',\n",
    "    geo_scope='usa', # limite map scope to USA\n",
    ")\n",
    "\n",
    "fig2022.show()"
   ]
  },
  {
   "attachments": {},
   "cell_type": "markdown",
   "metadata": {},
   "source": [
    "4-Evaluate the repartition between genders"
   ]
  },
  {
   "cell_type": "code",
   "execution_count": 40,
   "metadata": {},
   "outputs": [],
   "source": [
    "dep = usa.query(\"Indicator == 'Symptoms of Depressive Disorder' & Group == 'By Sex'\")\n",
    "dep_gender = dep.pivot_table(index='Time Period Label', columns='Subgroup', values='Value').reset_index()"
   ]
  },
  {
   "cell_type": "code",
   "execution_count": 56,
   "metadata": {},
   "outputs": [
    {
     "data": {
      "text/html": [
       "<div>\n",
       "<style scoped>\n",
       "    .dataframe tbody tr th:only-of-type {\n",
       "        vertical-align: middle;\n",
       "    }\n",
       "\n",
       "    .dataframe tbody tr th {\n",
       "        vertical-align: top;\n",
       "    }\n",
       "\n",
       "    .dataframe thead th {\n",
       "        text-align: right;\n",
       "    }\n",
       "</style>\n",
       "<table border=\"1\" class=\"dataframe\">\n",
       "  <thead>\n",
       "    <tr style=\"text-align: right;\">\n",
       "      <th>Subgroup</th>\n",
       "      <th>Female</th>\n",
       "      <th>Male</th>\n",
       "      <th>Year</th>\n",
       "    </tr>\n",
       "  </thead>\n",
       "  <tbody>\n",
       "    <tr>\n",
       "      <th>count</th>\n",
       "      <td>21.000000</td>\n",
       "      <td>21.000000</td>\n",
       "      <td>21.0</td>\n",
       "    </tr>\n",
       "    <tr>\n",
       "      <th>mean</th>\n",
       "      <td>28.214286</td>\n",
       "      <td>24.190476</td>\n",
       "      <td>2020.0</td>\n",
       "    </tr>\n",
       "    <tr>\n",
       "      <th>std</th>\n",
       "      <td>1.967050</td>\n",
       "      <td>1.981894</td>\n",
       "      <td>0.0</td>\n",
       "    </tr>\n",
       "    <tr>\n",
       "      <th>min</th>\n",
       "      <td>25.800000</td>\n",
       "      <td>20.800000</td>\n",
       "      <td>2020.0</td>\n",
       "    </tr>\n",
       "    <tr>\n",
       "      <th>25%</th>\n",
       "      <td>26.700000</td>\n",
       "      <td>22.700000</td>\n",
       "      <td>2020.0</td>\n",
       "    </tr>\n",
       "    <tr>\n",
       "      <th>50%</th>\n",
       "      <td>27.400000</td>\n",
       "      <td>23.700000</td>\n",
       "      <td>2020.0</td>\n",
       "    </tr>\n",
       "    <tr>\n",
       "      <th>75%</th>\n",
       "      <td>29.700000</td>\n",
       "      <td>25.700000</td>\n",
       "      <td>2020.0</td>\n",
       "    </tr>\n",
       "    <tr>\n",
       "      <th>max</th>\n",
       "      <td>32.300000</td>\n",
       "      <td>27.900000</td>\n",
       "      <td>2020.0</td>\n",
       "    </tr>\n",
       "  </tbody>\n",
       "</table>\n",
       "</div>"
      ],
      "text/plain": [
       "Subgroup     Female       Male    Year\n",
       "count     21.000000  21.000000    21.0\n",
       "mean      28.214286  24.190476  2020.0\n",
       "std        1.967050   1.981894     0.0\n",
       "min       25.800000  20.800000  2020.0\n",
       "25%       26.700000  22.700000  2020.0\n",
       "50%       27.400000  23.700000  2020.0\n",
       "75%       29.700000  25.700000  2020.0\n",
       "max       32.300000  27.900000  2020.0"
      ]
     },
     "execution_count": 56,
     "metadata": {},
     "output_type": "execute_result"
    }
   ],
   "source": [
    "dep_gender2020 = dep_gender.query('Year == 2020')\n",
    "dep_gender2020.describe()"
   ]
  },
  {
   "cell_type": "code",
   "execution_count": 55,
   "metadata": {},
   "outputs": [
    {
     "data": {
      "text/html": [
       "<div>\n",
       "<style scoped>\n",
       "    .dataframe tbody tr th:only-of-type {\n",
       "        vertical-align: middle;\n",
       "    }\n",
       "\n",
       "    .dataframe tbody tr th {\n",
       "        vertical-align: top;\n",
       "    }\n",
       "\n",
       "    .dataframe thead th {\n",
       "        text-align: right;\n",
       "    }\n",
       "</style>\n",
       "<table border=\"1\" class=\"dataframe\">\n",
       "  <thead>\n",
       "    <tr style=\"text-align: right;\">\n",
       "      <th>Subgroup</th>\n",
       "      <th>Female</th>\n",
       "      <th>Male</th>\n",
       "      <th>Year</th>\n",
       "    </tr>\n",
       "  </thead>\n",
       "  <tbody>\n",
       "    <tr>\n",
       "      <th>count</th>\n",
       "      <td>19.000000</td>\n",
       "      <td>19.000000</td>\n",
       "      <td>19.0</td>\n",
       "    </tr>\n",
       "    <tr>\n",
       "      <th>mean</th>\n",
       "      <td>25.194737</td>\n",
       "      <td>21.789474</td>\n",
       "      <td>2021.0</td>\n",
       "    </tr>\n",
       "    <tr>\n",
       "      <th>std</th>\n",
       "      <td>2.868308</td>\n",
       "      <td>2.706760</td>\n",
       "      <td>0.0</td>\n",
       "    </tr>\n",
       "    <tr>\n",
       "      <th>min</th>\n",
       "      <td>22.400000</td>\n",
       "      <td>18.400000</td>\n",
       "      <td>2021.0</td>\n",
       "    </tr>\n",
       "    <tr>\n",
       "      <th>25%</th>\n",
       "      <td>23.100000</td>\n",
       "      <td>19.850000</td>\n",
       "      <td>2021.0</td>\n",
       "    </tr>\n",
       "    <tr>\n",
       "      <th>50%</th>\n",
       "      <td>23.600000</td>\n",
       "      <td>20.700000</td>\n",
       "      <td>2021.0</td>\n",
       "    </tr>\n",
       "    <tr>\n",
       "      <th>75%</th>\n",
       "      <td>27.200000</td>\n",
       "      <td>23.700000</td>\n",
       "      <td>2021.0</td>\n",
       "    </tr>\n",
       "    <tr>\n",
       "      <th>max</th>\n",
       "      <td>30.600000</td>\n",
       "      <td>26.700000</td>\n",
       "      <td>2021.0</td>\n",
       "    </tr>\n",
       "  </tbody>\n",
       "</table>\n",
       "</div>"
      ],
      "text/plain": [
       "Subgroup     Female       Male    Year\n",
       "count     19.000000  19.000000    19.0\n",
       "mean      25.194737  21.789474  2021.0\n",
       "std        2.868308   2.706760     0.0\n",
       "min       22.400000  18.400000  2021.0\n",
       "25%       23.100000  19.850000  2021.0\n",
       "50%       23.600000  20.700000  2021.0\n",
       "75%       27.200000  23.700000  2021.0\n",
       "max       30.600000  26.700000  2021.0"
      ]
     },
     "execution_count": 55,
     "metadata": {},
     "output_type": "execute_result"
    }
   ],
   "source": [
    "dep_gender2021 = dep_gender.query('Year == 2021')\n",
    "dep_gender2021.describe()"
   ]
  },
  {
   "cell_type": "code",
   "execution_count": 57,
   "metadata": {},
   "outputs": [
    {
     "data": {
      "text/html": [
       "<div>\n",
       "<style scoped>\n",
       "    .dataframe tbody tr th:only-of-type {\n",
       "        vertical-align: middle;\n",
       "    }\n",
       "\n",
       "    .dataframe tbody tr th {\n",
       "        vertical-align: top;\n",
       "    }\n",
       "\n",
       "    .dataframe thead th {\n",
       "        text-align: right;\n",
       "    }\n",
       "</style>\n",
       "<table border=\"1\" class=\"dataframe\">\n",
       "  <thead>\n",
       "    <tr style=\"text-align: right;\">\n",
       "      <th>Subgroup</th>\n",
       "      <th>Female</th>\n",
       "      <th>Male</th>\n",
       "      <th>Year</th>\n",
       "    </tr>\n",
       "  </thead>\n",
       "  <tbody>\n",
       "    <tr>\n",
       "      <th>count</th>\n",
       "      <td>10.000000</td>\n",
       "      <td>10.000000</td>\n",
       "      <td>10.0</td>\n",
       "    </tr>\n",
       "    <tr>\n",
       "      <th>mean</th>\n",
       "      <td>24.140000</td>\n",
       "      <td>21.220000</td>\n",
       "      <td>2022.0</td>\n",
       "    </tr>\n",
       "    <tr>\n",
       "      <th>std</th>\n",
       "      <td>0.929994</td>\n",
       "      <td>1.468786</td>\n",
       "      <td>0.0</td>\n",
       "    </tr>\n",
       "    <tr>\n",
       "      <th>min</th>\n",
       "      <td>22.900000</td>\n",
       "      <td>19.900000</td>\n",
       "      <td>2022.0</td>\n",
       "    </tr>\n",
       "    <tr>\n",
       "      <th>25%</th>\n",
       "      <td>23.400000</td>\n",
       "      <td>20.425000</td>\n",
       "      <td>2022.0</td>\n",
       "    </tr>\n",
       "    <tr>\n",
       "      <th>50%</th>\n",
       "      <td>23.950000</td>\n",
       "      <td>20.650000</td>\n",
       "      <td>2022.0</td>\n",
       "    </tr>\n",
       "    <tr>\n",
       "      <th>75%</th>\n",
       "      <td>24.875000</td>\n",
       "      <td>21.125000</td>\n",
       "      <td>2022.0</td>\n",
       "    </tr>\n",
       "    <tr>\n",
       "      <th>max</th>\n",
       "      <td>25.700000</td>\n",
       "      <td>24.300000</td>\n",
       "      <td>2022.0</td>\n",
       "    </tr>\n",
       "  </tbody>\n",
       "</table>\n",
       "</div>"
      ],
      "text/plain": [
       "Subgroup     Female       Male    Year\n",
       "count     10.000000  10.000000    10.0\n",
       "mean      24.140000  21.220000  2022.0\n",
       "std        0.929994   1.468786     0.0\n",
       "min       22.900000  19.900000  2022.0\n",
       "25%       23.400000  20.425000  2022.0\n",
       "50%       23.950000  20.650000  2022.0\n",
       "75%       24.875000  21.125000  2022.0\n",
       "max       25.700000  24.300000  2022.0"
      ]
     },
     "execution_count": 57,
     "metadata": {},
     "output_type": "execute_result"
    }
   ],
   "source": [
    "dep_gender2022 = dep_gender.query('Year == 2022')\n",
    "dep_gender2022.describe()"
   ]
  },
  {
   "cell_type": "code",
   "execution_count": 51,
   "metadata": {},
   "outputs": [
    {
     "data": {
      "text/html": [
       "<div>\n",
       "<style scoped>\n",
       "    .dataframe tbody tr th:only-of-type {\n",
       "        vertical-align: middle;\n",
       "    }\n",
       "\n",
       "    .dataframe tbody tr th {\n",
       "        vertical-align: top;\n",
       "    }\n",
       "\n",
       "    .dataframe thead th {\n",
       "        text-align: right;\n",
       "    }\n",
       "</style>\n",
       "<table border=\"1\" class=\"dataframe\">\n",
       "  <thead>\n",
       "    <tr style=\"text-align: right;\">\n",
       "      <th>Subgroup</th>\n",
       "      <th>Female</th>\n",
       "      <th>Male</th>\n",
       "      <th>Year</th>\n",
       "    </tr>\n",
       "  </thead>\n",
       "  <tbody>\n",
       "    <tr>\n",
       "      <th>count</th>\n",
       "      <td>50.000000</td>\n",
       "      <td>50.000000</td>\n",
       "      <td>50.000000</td>\n",
       "    </tr>\n",
       "    <tr>\n",
       "      <th>mean</th>\n",
       "      <td>26.252000</td>\n",
       "      <td>22.684000</td>\n",
       "      <td>2020.780000</td>\n",
       "    </tr>\n",
       "    <tr>\n",
       "      <th>std</th>\n",
       "      <td>2.784669</td>\n",
       "      <td>2.532028</td>\n",
       "      <td>0.763718</td>\n",
       "    </tr>\n",
       "    <tr>\n",
       "      <th>min</th>\n",
       "      <td>22.400000</td>\n",
       "      <td>18.400000</td>\n",
       "      <td>2020.000000</td>\n",
       "    </tr>\n",
       "    <tr>\n",
       "      <th>25%</th>\n",
       "      <td>23.600000</td>\n",
       "      <td>20.525000</td>\n",
       "      <td>2020.000000</td>\n",
       "    </tr>\n",
       "    <tr>\n",
       "      <th>50%</th>\n",
       "      <td>26.000000</td>\n",
       "      <td>22.600000</td>\n",
       "      <td>2021.000000</td>\n",
       "    </tr>\n",
       "    <tr>\n",
       "      <th>75%</th>\n",
       "      <td>28.325000</td>\n",
       "      <td>24.275000</td>\n",
       "      <td>2021.000000</td>\n",
       "    </tr>\n",
       "    <tr>\n",
       "      <th>max</th>\n",
       "      <td>32.300000</td>\n",
       "      <td>27.900000</td>\n",
       "      <td>2022.000000</td>\n",
       "    </tr>\n",
       "  </tbody>\n",
       "</table>\n",
       "</div>"
      ],
      "text/plain": [
       "Subgroup     Female       Male         Year\n",
       "count     50.000000  50.000000    50.000000\n",
       "mean      26.252000  22.684000  2020.780000\n",
       "std        2.784669   2.532028     0.763718\n",
       "min       22.400000  18.400000  2020.000000\n",
       "25%       23.600000  20.525000  2020.000000\n",
       "50%       26.000000  22.600000  2021.000000\n",
       "75%       28.325000  24.275000  2021.000000\n",
       "max       32.300000  27.900000  2022.000000"
      ]
     },
     "execution_count": 51,
     "metadata": {},
     "output_type": "execute_result"
    }
   ],
   "source": [
    "dep_gender.describe()"
   ]
  },
  {
   "cell_type": "code",
   "execution_count": 14,
   "metadata": {},
   "outputs": [
    {
     "data": {
      "text/html": [
       "<div>\n",
       "<style scoped>\n",
       "    .dataframe tbody tr th:only-of-type {\n",
       "        vertical-align: middle;\n",
       "    }\n",
       "\n",
       "    .dataframe tbody tr th {\n",
       "        vertical-align: top;\n",
       "    }\n",
       "\n",
       "    .dataframe thead th {\n",
       "        text-align: right;\n",
       "    }\n",
       "</style>\n",
       "<table border=\"1\" class=\"dataframe\">\n",
       "  <thead>\n",
       "    <tr style=\"text-align: right;\">\n",
       "      <th>Subgroup</th>\n",
       "      <th>Year</th>\n",
       "      <th>Female</th>\n",
       "      <th>Male</th>\n",
       "    </tr>\n",
       "  </thead>\n",
       "  <tbody>\n",
       "    <tr>\n",
       "      <th>0</th>\n",
       "      <td>2020</td>\n",
       "      <td>28.214286</td>\n",
       "      <td>24.190476</td>\n",
       "    </tr>\n",
       "    <tr>\n",
       "      <th>1</th>\n",
       "      <td>2021</td>\n",
       "      <td>25.194737</td>\n",
       "      <td>21.789474</td>\n",
       "    </tr>\n",
       "    <tr>\n",
       "      <th>2</th>\n",
       "      <td>2022</td>\n",
       "      <td>24.140000</td>\n",
       "      <td>21.220000</td>\n",
       "    </tr>\n",
       "  </tbody>\n",
       "</table>\n",
       "</div>"
      ],
      "text/plain": [
       "Subgroup  Year     Female       Male\n",
       "0         2020  28.214286  24.190476\n",
       "1         2021  25.194737  21.789474\n",
       "2         2022  24.140000  21.220000"
      ]
     },
     "execution_count": 14,
     "metadata": {},
     "output_type": "execute_result"
    }
   ],
   "source": [
    "dep_gender_mean = dep_gender.groupby('Year').mean().reset_index()\n",
    "dep_gender_mean"
   ]
  },
  {
   "cell_type": "markdown",
   "metadata": {},
   "source": [
    "VISUALIZATION DEPRESSION BY GENDER OVER THE YEARS"
   ]
  },
  {
   "cell_type": "code",
   "execution_count": 15,
   "metadata": {},
   "outputs": [
    {
     "data": {
      "application/vnd.plotly.v1+json": {
       "config": {
        "plotlyServerURL": "https://plot.ly"
       },
       "data": [
        {
         "name": "Female",
         "type": "bar",
         "x": [
          2020,
          2021,
          2022
         ],
         "y": [
          28.214285714285715,
          25.19473684210526,
          24.14
         ]
        },
        {
         "name": "Male",
         "type": "bar",
         "x": [
          2020,
          2021,
          2022
         ],
         "y": [
          24.19047619047619,
          21.789473684210527,
          21.22
         ]
        }
       ],
       "layout": {
        "barmode": "group",
        "template": {
         "data": {
          "bar": [
           {
            "error_x": {
             "color": "#2a3f5f"
            },
            "error_y": {
             "color": "#2a3f5f"
            },
            "marker": {
             "line": {
              "color": "#E5ECF6",
              "width": 0.5
             },
             "pattern": {
              "fillmode": "overlay",
              "size": 10,
              "solidity": 0.2
             }
            },
            "type": "bar"
           }
          ],
          "barpolar": [
           {
            "marker": {
             "line": {
              "color": "#E5ECF6",
              "width": 0.5
             },
             "pattern": {
              "fillmode": "overlay",
              "size": 10,
              "solidity": 0.2
             }
            },
            "type": "barpolar"
           }
          ],
          "carpet": [
           {
            "aaxis": {
             "endlinecolor": "#2a3f5f",
             "gridcolor": "white",
             "linecolor": "white",
             "minorgridcolor": "white",
             "startlinecolor": "#2a3f5f"
            },
            "baxis": {
             "endlinecolor": "#2a3f5f",
             "gridcolor": "white",
             "linecolor": "white",
             "minorgridcolor": "white",
             "startlinecolor": "#2a3f5f"
            },
            "type": "carpet"
           }
          ],
          "choropleth": [
           {
            "colorbar": {
             "outlinewidth": 0,
             "ticks": ""
            },
            "type": "choropleth"
           }
          ],
          "contour": [
           {
            "colorbar": {
             "outlinewidth": 0,
             "ticks": ""
            },
            "colorscale": [
             [
              0,
              "#0d0887"
             ],
             [
              0.1111111111111111,
              "#46039f"
             ],
             [
              0.2222222222222222,
              "#7201a8"
             ],
             [
              0.3333333333333333,
              "#9c179e"
             ],
             [
              0.4444444444444444,
              "#bd3786"
             ],
             [
              0.5555555555555556,
              "#d8576b"
             ],
             [
              0.6666666666666666,
              "#ed7953"
             ],
             [
              0.7777777777777778,
              "#fb9f3a"
             ],
             [
              0.8888888888888888,
              "#fdca26"
             ],
             [
              1,
              "#f0f921"
             ]
            ],
            "type": "contour"
           }
          ],
          "contourcarpet": [
           {
            "colorbar": {
             "outlinewidth": 0,
             "ticks": ""
            },
            "type": "contourcarpet"
           }
          ],
          "heatmap": [
           {
            "colorbar": {
             "outlinewidth": 0,
             "ticks": ""
            },
            "colorscale": [
             [
              0,
              "#0d0887"
             ],
             [
              0.1111111111111111,
              "#46039f"
             ],
             [
              0.2222222222222222,
              "#7201a8"
             ],
             [
              0.3333333333333333,
              "#9c179e"
             ],
             [
              0.4444444444444444,
              "#bd3786"
             ],
             [
              0.5555555555555556,
              "#d8576b"
             ],
             [
              0.6666666666666666,
              "#ed7953"
             ],
             [
              0.7777777777777778,
              "#fb9f3a"
             ],
             [
              0.8888888888888888,
              "#fdca26"
             ],
             [
              1,
              "#f0f921"
             ]
            ],
            "type": "heatmap"
           }
          ],
          "heatmapgl": [
           {
            "colorbar": {
             "outlinewidth": 0,
             "ticks": ""
            },
            "colorscale": [
             [
              0,
              "#0d0887"
             ],
             [
              0.1111111111111111,
              "#46039f"
             ],
             [
              0.2222222222222222,
              "#7201a8"
             ],
             [
              0.3333333333333333,
              "#9c179e"
             ],
             [
              0.4444444444444444,
              "#bd3786"
             ],
             [
              0.5555555555555556,
              "#d8576b"
             ],
             [
              0.6666666666666666,
              "#ed7953"
             ],
             [
              0.7777777777777778,
              "#fb9f3a"
             ],
             [
              0.8888888888888888,
              "#fdca26"
             ],
             [
              1,
              "#f0f921"
             ]
            ],
            "type": "heatmapgl"
           }
          ],
          "histogram": [
           {
            "marker": {
             "pattern": {
              "fillmode": "overlay",
              "size": 10,
              "solidity": 0.2
             }
            },
            "type": "histogram"
           }
          ],
          "histogram2d": [
           {
            "colorbar": {
             "outlinewidth": 0,
             "ticks": ""
            },
            "colorscale": [
             [
              0,
              "#0d0887"
             ],
             [
              0.1111111111111111,
              "#46039f"
             ],
             [
              0.2222222222222222,
              "#7201a8"
             ],
             [
              0.3333333333333333,
              "#9c179e"
             ],
             [
              0.4444444444444444,
              "#bd3786"
             ],
             [
              0.5555555555555556,
              "#d8576b"
             ],
             [
              0.6666666666666666,
              "#ed7953"
             ],
             [
              0.7777777777777778,
              "#fb9f3a"
             ],
             [
              0.8888888888888888,
              "#fdca26"
             ],
             [
              1,
              "#f0f921"
             ]
            ],
            "type": "histogram2d"
           }
          ],
          "histogram2dcontour": [
           {
            "colorbar": {
             "outlinewidth": 0,
             "ticks": ""
            },
            "colorscale": [
             [
              0,
              "#0d0887"
             ],
             [
              0.1111111111111111,
              "#46039f"
             ],
             [
              0.2222222222222222,
              "#7201a8"
             ],
             [
              0.3333333333333333,
              "#9c179e"
             ],
             [
              0.4444444444444444,
              "#bd3786"
             ],
             [
              0.5555555555555556,
              "#d8576b"
             ],
             [
              0.6666666666666666,
              "#ed7953"
             ],
             [
              0.7777777777777778,
              "#fb9f3a"
             ],
             [
              0.8888888888888888,
              "#fdca26"
             ],
             [
              1,
              "#f0f921"
             ]
            ],
            "type": "histogram2dcontour"
           }
          ],
          "mesh3d": [
           {
            "colorbar": {
             "outlinewidth": 0,
             "ticks": ""
            },
            "type": "mesh3d"
           }
          ],
          "parcoords": [
           {
            "line": {
             "colorbar": {
              "outlinewidth": 0,
              "ticks": ""
             }
            },
            "type": "parcoords"
           }
          ],
          "pie": [
           {
            "automargin": true,
            "type": "pie"
           }
          ],
          "scatter": [
           {
            "fillpattern": {
             "fillmode": "overlay",
             "size": 10,
             "solidity": 0.2
            },
            "type": "scatter"
           }
          ],
          "scatter3d": [
           {
            "line": {
             "colorbar": {
              "outlinewidth": 0,
              "ticks": ""
             }
            },
            "marker": {
             "colorbar": {
              "outlinewidth": 0,
              "ticks": ""
             }
            },
            "type": "scatter3d"
           }
          ],
          "scattercarpet": [
           {
            "marker": {
             "colorbar": {
              "outlinewidth": 0,
              "ticks": ""
             }
            },
            "type": "scattercarpet"
           }
          ],
          "scattergeo": [
           {
            "marker": {
             "colorbar": {
              "outlinewidth": 0,
              "ticks": ""
             }
            },
            "type": "scattergeo"
           }
          ],
          "scattergl": [
           {
            "marker": {
             "colorbar": {
              "outlinewidth": 0,
              "ticks": ""
             }
            },
            "type": "scattergl"
           }
          ],
          "scattermapbox": [
           {
            "marker": {
             "colorbar": {
              "outlinewidth": 0,
              "ticks": ""
             }
            },
            "type": "scattermapbox"
           }
          ],
          "scatterpolar": [
           {
            "marker": {
             "colorbar": {
              "outlinewidth": 0,
              "ticks": ""
             }
            },
            "type": "scatterpolar"
           }
          ],
          "scatterpolargl": [
           {
            "marker": {
             "colorbar": {
              "outlinewidth": 0,
              "ticks": ""
             }
            },
            "type": "scatterpolargl"
           }
          ],
          "scatterternary": [
           {
            "marker": {
             "colorbar": {
              "outlinewidth": 0,
              "ticks": ""
             }
            },
            "type": "scatterternary"
           }
          ],
          "surface": [
           {
            "colorbar": {
             "outlinewidth": 0,
             "ticks": ""
            },
            "colorscale": [
             [
              0,
              "#0d0887"
             ],
             [
              0.1111111111111111,
              "#46039f"
             ],
             [
              0.2222222222222222,
              "#7201a8"
             ],
             [
              0.3333333333333333,
              "#9c179e"
             ],
             [
              0.4444444444444444,
              "#bd3786"
             ],
             [
              0.5555555555555556,
              "#d8576b"
             ],
             [
              0.6666666666666666,
              "#ed7953"
             ],
             [
              0.7777777777777778,
              "#fb9f3a"
             ],
             [
              0.8888888888888888,
              "#fdca26"
             ],
             [
              1,
              "#f0f921"
             ]
            ],
            "type": "surface"
           }
          ],
          "table": [
           {
            "cells": {
             "fill": {
              "color": "#EBF0F8"
             },
             "line": {
              "color": "white"
             }
            },
            "header": {
             "fill": {
              "color": "#C8D4E3"
             },
             "line": {
              "color": "white"
             }
            },
            "type": "table"
           }
          ]
         },
         "layout": {
          "annotationdefaults": {
           "arrowcolor": "#2a3f5f",
           "arrowhead": 0,
           "arrowwidth": 1
          },
          "autotypenumbers": "strict",
          "coloraxis": {
           "colorbar": {
            "outlinewidth": 0,
            "ticks": ""
           }
          },
          "colorscale": {
           "diverging": [
            [
             0,
             "#8e0152"
            ],
            [
             0.1,
             "#c51b7d"
            ],
            [
             0.2,
             "#de77ae"
            ],
            [
             0.3,
             "#f1b6da"
            ],
            [
             0.4,
             "#fde0ef"
            ],
            [
             0.5,
             "#f7f7f7"
            ],
            [
             0.6,
             "#e6f5d0"
            ],
            [
             0.7,
             "#b8e186"
            ],
            [
             0.8,
             "#7fbc41"
            ],
            [
             0.9,
             "#4d9221"
            ],
            [
             1,
             "#276419"
            ]
           ],
           "sequential": [
            [
             0,
             "#0d0887"
            ],
            [
             0.1111111111111111,
             "#46039f"
            ],
            [
             0.2222222222222222,
             "#7201a8"
            ],
            [
             0.3333333333333333,
             "#9c179e"
            ],
            [
             0.4444444444444444,
             "#bd3786"
            ],
            [
             0.5555555555555556,
             "#d8576b"
            ],
            [
             0.6666666666666666,
             "#ed7953"
            ],
            [
             0.7777777777777778,
             "#fb9f3a"
            ],
            [
             0.8888888888888888,
             "#fdca26"
            ],
            [
             1,
             "#f0f921"
            ]
           ],
           "sequentialminus": [
            [
             0,
             "#0d0887"
            ],
            [
             0.1111111111111111,
             "#46039f"
            ],
            [
             0.2222222222222222,
             "#7201a8"
            ],
            [
             0.3333333333333333,
             "#9c179e"
            ],
            [
             0.4444444444444444,
             "#bd3786"
            ],
            [
             0.5555555555555556,
             "#d8576b"
            ],
            [
             0.6666666666666666,
             "#ed7953"
            ],
            [
             0.7777777777777778,
             "#fb9f3a"
            ],
            [
             0.8888888888888888,
             "#fdca26"
            ],
            [
             1,
             "#f0f921"
            ]
           ]
          },
          "colorway": [
           "#636efa",
           "#EF553B",
           "#00cc96",
           "#ab63fa",
           "#FFA15A",
           "#19d3f3",
           "#FF6692",
           "#B6E880",
           "#FF97FF",
           "#FECB52"
          ],
          "font": {
           "color": "#2a3f5f"
          },
          "geo": {
           "bgcolor": "white",
           "lakecolor": "white",
           "landcolor": "#E5ECF6",
           "showlakes": true,
           "showland": true,
           "subunitcolor": "white"
          },
          "hoverlabel": {
           "align": "left"
          },
          "hovermode": "closest",
          "mapbox": {
           "style": "light"
          },
          "paper_bgcolor": "white",
          "plot_bgcolor": "#E5ECF6",
          "polar": {
           "angularaxis": {
            "gridcolor": "white",
            "linecolor": "white",
            "ticks": ""
           },
           "bgcolor": "#E5ECF6",
           "radialaxis": {
            "gridcolor": "white",
            "linecolor": "white",
            "ticks": ""
           }
          },
          "scene": {
           "xaxis": {
            "backgroundcolor": "#E5ECF6",
            "gridcolor": "white",
            "gridwidth": 2,
            "linecolor": "white",
            "showbackground": true,
            "ticks": "",
            "zerolinecolor": "white"
           },
           "yaxis": {
            "backgroundcolor": "#E5ECF6",
            "gridcolor": "white",
            "gridwidth": 2,
            "linecolor": "white",
            "showbackground": true,
            "ticks": "",
            "zerolinecolor": "white"
           },
           "zaxis": {
            "backgroundcolor": "#E5ECF6",
            "gridcolor": "white",
            "gridwidth": 2,
            "linecolor": "white",
            "showbackground": true,
            "ticks": "",
            "zerolinecolor": "white"
           }
          },
          "shapedefaults": {
           "line": {
            "color": "#2a3f5f"
           }
          },
          "ternary": {
           "aaxis": {
            "gridcolor": "white",
            "linecolor": "white",
            "ticks": ""
           },
           "baxis": {
            "gridcolor": "white",
            "linecolor": "white",
            "ticks": ""
           },
           "bgcolor": "#E5ECF6",
           "caxis": {
            "gridcolor": "white",
            "linecolor": "white",
            "ticks": ""
           }
          },
          "title": {
           "x": 0.05
          },
          "xaxis": {
           "automargin": true,
           "gridcolor": "white",
           "linecolor": "white",
           "ticks": "",
           "title": {
            "standoff": 15
           },
           "zerolinecolor": "white",
           "zerolinewidth": 2
          },
          "yaxis": {
           "automargin": true,
           "gridcolor": "white",
           "linecolor": "white",
           "ticks": "",
           "title": {
            "standoff": 15
           },
           "zerolinecolor": "white",
           "zerolinewidth": 2
          }
         }
        }
       }
      }
     },
     "metadata": {},
     "output_type": "display_data"
    }
   ],
   "source": [
    "fig_year = go.Figure(data=[\n",
    "    go.Bar(name='Female', x=dep_gender_mean['Year'], y=dep_gender_mean['Female']),\n",
    "    go.Bar(name='Male', x=dep_gender_mean['Year'], y=dep_gender_mean['Male'])\n",
    "])\n",
    "fig_year.update_layout(barmode='group')\n",
    "fig_year.show()"
   ]
  },
  {
   "cell_type": "markdown",
   "metadata": {},
   "source": [
    "TTEST"
   ]
  },
  {
   "cell_type": "markdown",
   "metadata": {},
   "source": [
    "Les échantillons suivent-ils une répartition normale"
   ]
  },
  {
   "cell_type": "code",
   "execution_count": 16,
   "metadata": {},
   "outputs": [
    {
     "data": {
      "text/plain": [
       "NormaltestResult(statistic=6.35487900330908, pvalue=0.04169227155966351)"
      ]
     },
     "metadata": {},
     "output_type": "display_data"
    },
    {
     "data": {
      "text/plain": [
       "NormaltestResult(statistic=6.177617192121805, pvalue=0.04555619791888785)"
      ]
     },
     "metadata": {},
     "output_type": "display_data"
    }
   ],
   "source": [
    "female_dist = stats.normaltest(dep_gender['Female'])\n",
    "male_dist = stats.normaltest(dep_gender['Male'])\n",
    "\n",
    "display(female_dist, male_dist)"
   ]
  },
  {
   "cell_type": "code",
   "execution_count": 65,
   "metadata": {},
   "outputs": [
    {
     "name": "stdout",
     "output_type": "stream",
     "text": [
      "0.4428105755090232 0.406927830759628\n"
     ]
    }
   ],
   "source": [
    "print(stats.skew(dep_gender['Female']), stats.skew(dep_gender['Male']))"
   ]
  },
  {
   "cell_type": "code",
   "execution_count": 67,
   "metadata": {},
   "outputs": [
    {
     "data": {
      "text/html": [
       "<div>\n",
       "<style scoped>\n",
       "    .dataframe tbody tr th:only-of-type {\n",
       "        vertical-align: middle;\n",
       "    }\n",
       "\n",
       "    .dataframe tbody tr th {\n",
       "        vertical-align: top;\n",
       "    }\n",
       "\n",
       "    .dataframe thead th {\n",
       "        text-align: right;\n",
       "    }\n",
       "</style>\n",
       "<table border=\"1\" class=\"dataframe\">\n",
       "  <thead>\n",
       "    <tr style=\"text-align: right;\">\n",
       "      <th>Subgroup</th>\n",
       "      <th>Year</th>\n",
       "      <th>Female</th>\n",
       "      <th>Male</th>\n",
       "    </tr>\n",
       "  </thead>\n",
       "  <tbody>\n",
       "    <tr>\n",
       "      <th>count</th>\n",
       "      <td>3.0</td>\n",
       "      <td>3.000000</td>\n",
       "      <td>3.000000</td>\n",
       "    </tr>\n",
       "    <tr>\n",
       "      <th>mean</th>\n",
       "      <td>2021.0</td>\n",
       "      <td>25.849674</td>\n",
       "      <td>22.399983</td>\n",
       "    </tr>\n",
       "    <tr>\n",
       "      <th>std</th>\n",
       "      <td>1.0</td>\n",
       "      <td>2.114630</td>\n",
       "      <td>1.576539</td>\n",
       "    </tr>\n",
       "    <tr>\n",
       "      <th>min</th>\n",
       "      <td>2020.0</td>\n",
       "      <td>24.140000</td>\n",
       "      <td>21.220000</td>\n",
       "    </tr>\n",
       "    <tr>\n",
       "      <th>25%</th>\n",
       "      <td>2020.5</td>\n",
       "      <td>24.667368</td>\n",
       "      <td>21.504737</td>\n",
       "    </tr>\n",
       "    <tr>\n",
       "      <th>50%</th>\n",
       "      <td>2021.0</td>\n",
       "      <td>25.194737</td>\n",
       "      <td>21.789474</td>\n",
       "    </tr>\n",
       "    <tr>\n",
       "      <th>75%</th>\n",
       "      <td>2021.5</td>\n",
       "      <td>26.704511</td>\n",
       "      <td>22.989975</td>\n",
       "    </tr>\n",
       "    <tr>\n",
       "      <th>max</th>\n",
       "      <td>2022.0</td>\n",
       "      <td>28.214286</td>\n",
       "      <td>24.190476</td>\n",
       "    </tr>\n",
       "  </tbody>\n",
       "</table>\n",
       "</div>"
      ],
      "text/plain": [
       "Subgroup    Year     Female       Male\n",
       "count        3.0   3.000000   3.000000\n",
       "mean      2021.0  25.849674  22.399983\n",
       "std          1.0   2.114630   1.576539\n",
       "min       2020.0  24.140000  21.220000\n",
       "25%       2020.5  24.667368  21.504737\n",
       "50%       2021.0  25.194737  21.789474\n",
       "75%       2021.5  26.704511  22.989975\n",
       "max       2022.0  28.214286  24.190476"
      ]
     },
     "execution_count": 67,
     "metadata": {},
     "output_type": "execute_result"
    }
   ],
   "source": [
    "dep_gender_mean.describe()"
   ]
  },
  {
   "cell_type": "code",
   "execution_count": 18,
   "metadata": {},
   "outputs": [
    {
     "data": {
      "text/plain": [
       "Subgroup\n",
       "Year      1.000000\n",
       "Female    4.471658\n",
       "Male      2.485474\n",
       "dtype: float64"
      ]
     },
     "execution_count": 18,
     "metadata": {},
     "output_type": "execute_result"
    }
   ],
   "source": [
    "dep_gender_mean.var()"
   ]
  },
  {
   "attachments": {},
   "cell_type": "markdown",
   "metadata": {},
   "source": [
    "Nous ne pouvons pas rejeter l'hypothese nulle (l'echantillon suit une loi normale) avec un intervalle de confiance de 99% et les variances de nos échantillons sont différentes => test de Welsh\n",
    "\n",
    "H0 : la proportion de dépression est la même chez les hommes et chez les femmes\n",
    "\n",
    "H1 : la proportion de dépression chez les femmes est significativement différente que celle des hommes"
   ]
  },
  {
   "cell_type": "code",
   "execution_count": 19,
   "metadata": {},
   "outputs": [
    {
     "data": {
      "text/plain": [
       "Ttest_indResult(statistic=6.703368767147004, pvalue=1.34397691230813e-09)"
      ]
     },
     "execution_count": 19,
     "metadata": {},
     "output_type": "execute_result"
    }
   ],
   "source": [
    "stats.ttest_ind(dep_gender['Female'], dep_gender['Male'], equal_var=False)"
   ]
  },
  {
   "cell_type": "markdown",
   "metadata": {},
   "source": [
    "On peut rejeter notre H0 avec une confiance de 99%"
   ]
  },
  {
   "cell_type": "markdown",
   "metadata": {},
   "source": [
    " Mann-Whitney U rank test\n",
    " \n",
    " H0 : la proportion de dépression est la même chez les hommes et chez les femmes\n",
    "\n",
    "H1 : la proportion de dépression chez les femmes est significativement plus élevée que celle des hommes"
   ]
  },
  {
   "cell_type": "code",
   "execution_count": 20,
   "metadata": {},
   "outputs": [
    {
     "data": {
      "text/plain": [
       "MannwhitneyuResult(statistic=2051.5, pvalue=1.6690334176205657e-08)"
      ]
     },
     "execution_count": 20,
     "metadata": {},
     "output_type": "execute_result"
    }
   ],
   "source": [
    "stats.mannwhitneyu(dep_gender['Female'], dep_gender['Male'], alternative='greater')"
   ]
  },
  {
   "cell_type": "markdown",
   "metadata": {},
   "source": [
    "PER YEAR AND PER SEASON"
   ]
  },
  {
   "cell_type": "code",
   "execution_count": 76,
   "metadata": {},
   "outputs": [
    {
     "data": {
      "text/html": [
       "<div>\n",
       "<style scoped>\n",
       "    .dataframe tbody tr th:only-of-type {\n",
       "        vertical-align: middle;\n",
       "    }\n",
       "\n",
       "    .dataframe tbody tr th {\n",
       "        vertical-align: top;\n",
       "    }\n",
       "\n",
       "    .dataframe thead th {\n",
       "        text-align: right;\n",
       "    }\n",
       "</style>\n",
       "<table border=\"1\" class=\"dataframe\">\n",
       "  <thead>\n",
       "    <tr style=\"text-align: right;\">\n",
       "      <th></th>\n",
       "      <th>Year</th>\n",
       "      <th>Month</th>\n",
       "      <th>Time Period</th>\n",
       "      <th>Value</th>\n",
       "      <th>Low CI</th>\n",
       "      <th>High CI</th>\n",
       "    </tr>\n",
       "  </thead>\n",
       "  <tbody>\n",
       "    <tr>\n",
       "      <th>9</th>\n",
       "      <td>2021</td>\n",
       "      <td>1</td>\n",
       "      <td>22.500000</td>\n",
       "      <td>34.496905</td>\n",
       "      <td>30.642857</td>\n",
       "      <td>38.542857</td>\n",
       "    </tr>\n",
       "    <tr>\n",
       "      <th>20</th>\n",
       "      <td>2022</td>\n",
       "      <td>1</td>\n",
       "      <td>42.000000</td>\n",
       "      <td>27.923932</td>\n",
       "      <td>24.720940</td>\n",
       "      <td>31.332906</td>\n",
       "    </tr>\n",
       "    <tr>\n",
       "      <th>21</th>\n",
       "      <td>2022</td>\n",
       "      <td>2</td>\n",
       "      <td>1.000000</td>\n",
       "      <td>NaN</td>\n",
       "      <td>NaN</td>\n",
       "      <td>NaN</td>\n",
       "    </tr>\n",
       "    <tr>\n",
       "      <th>10</th>\n",
       "      <td>2021</td>\n",
       "      <td>2</td>\n",
       "      <td>24.500000</td>\n",
       "      <td>32.801905</td>\n",
       "      <td>29.064524</td>\n",
       "      <td>36.747619</td>\n",
       "    </tr>\n",
       "    <tr>\n",
       "      <th>22</th>\n",
       "      <td>2022</td>\n",
       "      <td>3</td>\n",
       "      <td>43.500000</td>\n",
       "      <td>27.708333</td>\n",
       "      <td>24.364316</td>\n",
       "      <td>31.279274</td>\n",
       "    </tr>\n",
       "    <tr>\n",
       "      <th>11</th>\n",
       "      <td>2021</td>\n",
       "      <td>3</td>\n",
       "      <td>23.452830</td>\n",
       "      <td>30.263571</td>\n",
       "      <td>26.529048</td>\n",
       "      <td>34.245476</td>\n",
       "    </tr>\n",
       "    <tr>\n",
       "      <th>0</th>\n",
       "      <td>2020</td>\n",
       "      <td>4</td>\n",
       "      <td>1.000000</td>\n",
       "      <td>29.150952</td>\n",
       "      <td>25.741905</td>\n",
       "      <td>32.783810</td>\n",
       "    </tr>\n",
       "    <tr>\n",
       "      <th>23</th>\n",
       "      <td>2022</td>\n",
       "      <td>4</td>\n",
       "      <td>45.000000</td>\n",
       "      <td>27.020513</td>\n",
       "      <td>23.316239</td>\n",
       "      <td>31.023504</td>\n",
       "    </tr>\n",
       "    <tr>\n",
       "      <th>12</th>\n",
       "      <td>2021</td>\n",
       "      <td>4</td>\n",
       "      <td>28.500000</td>\n",
       "      <td>26.577315</td>\n",
       "      <td>23.025926</td>\n",
       "      <td>30.431944</td>\n",
       "    </tr>\n",
       "    <tr>\n",
       "      <th>1</th>\n",
       "      <td>2020</td>\n",
       "      <td>5</td>\n",
       "      <td>3.500000</td>\n",
       "      <td>28.720000</td>\n",
       "      <td>24.812024</td>\n",
       "      <td>32.946071</td>\n",
       "    </tr>\n",
       "    <tr>\n",
       "      <th>24</th>\n",
       "      <td>2022</td>\n",
       "      <td>5</td>\n",
       "      <td>1.000000</td>\n",
       "      <td>NaN</td>\n",
       "      <td>NaN</td>\n",
       "      <td>NaN</td>\n",
       "    </tr>\n",
       "    <tr>\n",
       "      <th>13</th>\n",
       "      <td>2021</td>\n",
       "      <td>5</td>\n",
       "      <td>30.500000</td>\n",
       "      <td>25.387037</td>\n",
       "      <td>21.867130</td>\n",
       "      <td>29.241667</td>\n",
       "    </tr>\n",
       "    <tr>\n",
       "      <th>2</th>\n",
       "      <td>2020</td>\n",
       "      <td>6</td>\n",
       "      <td>7.500000</td>\n",
       "      <td>30.483452</td>\n",
       "      <td>26.632738</td>\n",
       "      <td>34.603810</td>\n",
       "    </tr>\n",
       "    <tr>\n",
       "      <th>25</th>\n",
       "      <td>2022</td>\n",
       "      <td>6</td>\n",
       "      <td>46.500000</td>\n",
       "      <td>29.259188</td>\n",
       "      <td>25.451068</td>\n",
       "      <td>33.342308</td>\n",
       "    </tr>\n",
       "    <tr>\n",
       "      <th>14</th>\n",
       "      <td>2021</td>\n",
       "      <td>6</td>\n",
       "      <td>32.500000</td>\n",
       "      <td>25.576389</td>\n",
       "      <td>21.962269</td>\n",
       "      <td>29.522454</td>\n",
       "    </tr>\n",
       "    <tr>\n",
       "      <th>26</th>\n",
       "      <td>2022</td>\n",
       "      <td>7</td>\n",
       "      <td>48.000000</td>\n",
       "      <td>28.326496</td>\n",
       "      <td>24.452564</td>\n",
       "      <td>32.507692</td>\n",
       "    </tr>\n",
       "    <tr>\n",
       "      <th>15</th>\n",
       "      <td>2021</td>\n",
       "      <td>7</td>\n",
       "      <td>27.000000</td>\n",
       "      <td>27.834188</td>\n",
       "      <td>24.174359</td>\n",
       "      <td>31.776068</td>\n",
       "    </tr>\n",
       "    <tr>\n",
       "      <th>3</th>\n",
       "      <td>2020</td>\n",
       "      <td>7</td>\n",
       "      <td>10.170306</td>\n",
       "      <td>33.757778</td>\n",
       "      <td>29.868095</td>\n",
       "      <td>37.853651</td>\n",
       "    </tr>\n",
       "    <tr>\n",
       "      <th>4</th>\n",
       "      <td>2020</td>\n",
       "      <td>8</td>\n",
       "      <td>13.000000</td>\n",
       "      <td>29.938571</td>\n",
       "      <td>27.065238</td>\n",
       "      <td>32.973333</td>\n",
       "    </tr>\n",
       "    <tr>\n",
       "      <th>27</th>\n",
       "      <td>2022</td>\n",
       "      <td>8</td>\n",
       "      <td>1.000000</td>\n",
       "      <td>NaN</td>\n",
       "      <td>NaN</td>\n",
       "      <td>NaN</td>\n",
       "    </tr>\n",
       "    <tr>\n",
       "      <th>16</th>\n",
       "      <td>2021</td>\n",
       "      <td>8</td>\n",
       "      <td>35.500000</td>\n",
       "      <td>27.814744</td>\n",
       "      <td>24.319231</td>\n",
       "      <td>31.573077</td>\n",
       "    </tr>\n",
       "    <tr>\n",
       "      <th>17</th>\n",
       "      <td>2021</td>\n",
       "      <td>9</td>\n",
       "      <td>38.000000</td>\n",
       "      <td>28.245726</td>\n",
       "      <td>24.460826</td>\n",
       "      <td>32.326781</td>\n",
       "    </tr>\n",
       "    <tr>\n",
       "      <th>5</th>\n",
       "      <td>2020</td>\n",
       "      <td>9</td>\n",
       "      <td>15.000000</td>\n",
       "      <td>30.651111</td>\n",
       "      <td>27.563968</td>\n",
       "      <td>33.900794</td>\n",
       "    </tr>\n",
       "    <tr>\n",
       "      <th>28</th>\n",
       "      <td>2022</td>\n",
       "      <td>9</td>\n",
       "      <td>49.000000</td>\n",
       "      <td>31.575641</td>\n",
       "      <td>27.564957</td>\n",
       "      <td>35.849573</td>\n",
       "    </tr>\n",
       "    <tr>\n",
       "      <th>18</th>\n",
       "      <td>2021</td>\n",
       "      <td>10</td>\n",
       "      <td>1.000000</td>\n",
       "      <td>NaN</td>\n",
       "      <td>NaN</td>\n",
       "      <td>NaN</td>\n",
       "    </tr>\n",
       "    <tr>\n",
       "      <th>29</th>\n",
       "      <td>2022</td>\n",
       "      <td>10</td>\n",
       "      <td>50.000000</td>\n",
       "      <td>31.642735</td>\n",
       "      <td>27.328205</td>\n",
       "      <td>36.245299</td>\n",
       "    </tr>\n",
       "    <tr>\n",
       "      <th>6</th>\n",
       "      <td>2020</td>\n",
       "      <td>10</td>\n",
       "      <td>17.500000</td>\n",
       "      <td>33.188333</td>\n",
       "      <td>29.456905</td>\n",
       "      <td>37.115952</td>\n",
       "    </tr>\n",
       "    <tr>\n",
       "      <th>7</th>\n",
       "      <td>2020</td>\n",
       "      <td>11</td>\n",
       "      <td>19.500000</td>\n",
       "      <td>35.436429</td>\n",
       "      <td>31.601190</td>\n",
       "      <td>39.445238</td>\n",
       "    </tr>\n",
       "    <tr>\n",
       "      <th>19</th>\n",
       "      <td>2021</td>\n",
       "      <td>12</td>\n",
       "      <td>32.360825</td>\n",
       "      <td>27.631197</td>\n",
       "      <td>23.934615</td>\n",
       "      <td>31.617521</td>\n",
       "    </tr>\n",
       "    <tr>\n",
       "      <th>8</th>\n",
       "      <td>2020</td>\n",
       "      <td>12</td>\n",
       "      <td>21.000000</td>\n",
       "      <td>35.931905</td>\n",
       "      <td>32.070000</td>\n",
       "      <td>39.972381</td>\n",
       "    </tr>\n",
       "    <tr>\n",
       "      <th>30</th>\n",
       "      <td>2022</td>\n",
       "      <td>12</td>\n",
       "      <td>41.000000</td>\n",
       "      <td>28.620085</td>\n",
       "      <td>25.294444</td>\n",
       "      <td>32.157265</td>\n",
       "    </tr>\n",
       "  </tbody>\n",
       "</table>\n",
       "</div>"
      ],
      "text/plain": [
       "    Year  Month  Time Period      Value     Low CI    High CI\n",
       "9   2021      1    22.500000  34.496905  30.642857  38.542857\n",
       "20  2022      1    42.000000  27.923932  24.720940  31.332906\n",
       "21  2022      2     1.000000        NaN        NaN        NaN\n",
       "10  2021      2    24.500000  32.801905  29.064524  36.747619\n",
       "22  2022      3    43.500000  27.708333  24.364316  31.279274\n",
       "11  2021      3    23.452830  30.263571  26.529048  34.245476\n",
       "0   2020      4     1.000000  29.150952  25.741905  32.783810\n",
       "23  2022      4    45.000000  27.020513  23.316239  31.023504\n",
       "12  2021      4    28.500000  26.577315  23.025926  30.431944\n",
       "1   2020      5     3.500000  28.720000  24.812024  32.946071\n",
       "24  2022      5     1.000000        NaN        NaN        NaN\n",
       "13  2021      5    30.500000  25.387037  21.867130  29.241667\n",
       "2   2020      6     7.500000  30.483452  26.632738  34.603810\n",
       "25  2022      6    46.500000  29.259188  25.451068  33.342308\n",
       "14  2021      6    32.500000  25.576389  21.962269  29.522454\n",
       "26  2022      7    48.000000  28.326496  24.452564  32.507692\n",
       "15  2021      7    27.000000  27.834188  24.174359  31.776068\n",
       "3   2020      7    10.170306  33.757778  29.868095  37.853651\n",
       "4   2020      8    13.000000  29.938571  27.065238  32.973333\n",
       "27  2022      8     1.000000        NaN        NaN        NaN\n",
       "16  2021      8    35.500000  27.814744  24.319231  31.573077\n",
       "17  2021      9    38.000000  28.245726  24.460826  32.326781\n",
       "5   2020      9    15.000000  30.651111  27.563968  33.900794\n",
       "28  2022      9    49.000000  31.575641  27.564957  35.849573\n",
       "18  2021     10     1.000000        NaN        NaN        NaN\n",
       "29  2022     10    50.000000  31.642735  27.328205  36.245299\n",
       "6   2020     10    17.500000  33.188333  29.456905  37.115952\n",
       "7   2020     11    19.500000  35.436429  31.601190  39.445238\n",
       "19  2021     12    32.360825  27.631197  23.934615  31.617521\n",
       "8   2020     12    21.000000  35.931905  32.070000  39.972381\n",
       "30  2022     12    41.000000  28.620085  25.294444  32.157265"
      ]
     },
     "execution_count": 76,
     "metadata": {},
     "output_type": "execute_result"
    }
   ],
   "source": [
    "season = usa.groupby(['Year', 'Month']).mean().reset_index()\n",
    "# season = season.dropna()\n",
    "sorted_month = season.sort_values(by='Month', inplace=True)\n",
    "season"
   ]
  },
  {
   "cell_type": "code",
   "execution_count": 45,
   "metadata": {},
   "outputs": [
    {
     "data": {
      "application/vnd.plotly.v1+json": {
       "config": {
        "plotlyServerURL": "https://plot.ly"
       },
       "data": [
        {
         "hovertemplate": "Year=2022<br>Mois=%{x}<br>Dépression (%)=%{y}<extra></extra>",
         "legendgroup": "2022",
         "line": {
          "color": "#636efa",
          "dash": "solid"
         },
         "marker": {
          "symbol": "circle"
         },
         "mode": "markers+lines",
         "name": "2022",
         "orientation": "v",
         "showlegend": true,
         "type": "scatter",
         "x": [
          1,
          3,
          4,
          6,
          7,
          9,
          10,
          12
         ],
         "xaxis": "x",
         "y": [
          27.923931623931622,
          27.708333333333332,
          27.02051282051282,
          29.259188034188032,
          28.326495726495725,
          31.575641025641026,
          31.64273504273504,
          28.62008547008547
         ],
         "yaxis": "y"
        },
        {
         "hovertemplate": "Year=2021<br>Mois=%{x}<br>Dépression (%)=%{y}<extra></extra>",
         "legendgroup": "2021",
         "line": {
          "color": "#EF553B",
          "dash": "solid"
         },
         "marker": {
          "symbol": "circle"
         },
         "mode": "markers+lines",
         "name": "2021",
         "orientation": "v",
         "showlegend": true,
         "type": "scatter",
         "x": [
          1,
          2,
          3,
          4,
          5,
          6,
          7,
          8,
          9,
          12
         ],
         "xaxis": "x",
         "y": [
          34.496904761904766,
          32.80190476190476,
          30.26357142857143,
          26.577314814814812,
          25.38703703703704,
          25.57638888888889,
          27.834188034188035,
          27.81474358974359,
          28.245726495726494,
          27.63119658119658
         ],
         "yaxis": "y"
        },
        {
         "hovertemplate": "Year=2020<br>Mois=%{x}<br>Dépression (%)=%{y}<extra></extra>",
         "legendgroup": "2020",
         "line": {
          "color": "#00cc96",
          "dash": "solid"
         },
         "marker": {
          "symbol": "circle"
         },
         "mode": "markers+lines",
         "name": "2020",
         "orientation": "v",
         "showlegend": true,
         "type": "scatter",
         "x": [
          4,
          5,
          6,
          7,
          8,
          9,
          10,
          11,
          12
         ],
         "xaxis": "x",
         "y": [
          29.15095238095238,
          28.72,
          30.48345238095238,
          33.75777777777778,
          29.93857142857143,
          30.651111111111113,
          33.18833333333333,
          35.43642857142857,
          35.93190476190476
         ],
         "yaxis": "y"
        }
       ],
       "layout": {
        "legend": {
         "title": {
          "text": "Year"
         },
         "tracegroupgap": 0
        },
        "template": {
         "data": {
          "bar": [
           {
            "error_x": {
             "color": "#2a3f5f"
            },
            "error_y": {
             "color": "#2a3f5f"
            },
            "marker": {
             "line": {
              "color": "#E5ECF6",
              "width": 0.5
             },
             "pattern": {
              "fillmode": "overlay",
              "size": 10,
              "solidity": 0.2
             }
            },
            "type": "bar"
           }
          ],
          "barpolar": [
           {
            "marker": {
             "line": {
              "color": "#E5ECF6",
              "width": 0.5
             },
             "pattern": {
              "fillmode": "overlay",
              "size": 10,
              "solidity": 0.2
             }
            },
            "type": "barpolar"
           }
          ],
          "carpet": [
           {
            "aaxis": {
             "endlinecolor": "#2a3f5f",
             "gridcolor": "white",
             "linecolor": "white",
             "minorgridcolor": "white",
             "startlinecolor": "#2a3f5f"
            },
            "baxis": {
             "endlinecolor": "#2a3f5f",
             "gridcolor": "white",
             "linecolor": "white",
             "minorgridcolor": "white",
             "startlinecolor": "#2a3f5f"
            },
            "type": "carpet"
           }
          ],
          "choropleth": [
           {
            "colorbar": {
             "outlinewidth": 0,
             "ticks": ""
            },
            "type": "choropleth"
           }
          ],
          "contour": [
           {
            "colorbar": {
             "outlinewidth": 0,
             "ticks": ""
            },
            "colorscale": [
             [
              0,
              "#0d0887"
             ],
             [
              0.1111111111111111,
              "#46039f"
             ],
             [
              0.2222222222222222,
              "#7201a8"
             ],
             [
              0.3333333333333333,
              "#9c179e"
             ],
             [
              0.4444444444444444,
              "#bd3786"
             ],
             [
              0.5555555555555556,
              "#d8576b"
             ],
             [
              0.6666666666666666,
              "#ed7953"
             ],
             [
              0.7777777777777778,
              "#fb9f3a"
             ],
             [
              0.8888888888888888,
              "#fdca26"
             ],
             [
              1,
              "#f0f921"
             ]
            ],
            "type": "contour"
           }
          ],
          "contourcarpet": [
           {
            "colorbar": {
             "outlinewidth": 0,
             "ticks": ""
            },
            "type": "contourcarpet"
           }
          ],
          "heatmap": [
           {
            "colorbar": {
             "outlinewidth": 0,
             "ticks": ""
            },
            "colorscale": [
             [
              0,
              "#0d0887"
             ],
             [
              0.1111111111111111,
              "#46039f"
             ],
             [
              0.2222222222222222,
              "#7201a8"
             ],
             [
              0.3333333333333333,
              "#9c179e"
             ],
             [
              0.4444444444444444,
              "#bd3786"
             ],
             [
              0.5555555555555556,
              "#d8576b"
             ],
             [
              0.6666666666666666,
              "#ed7953"
             ],
             [
              0.7777777777777778,
              "#fb9f3a"
             ],
             [
              0.8888888888888888,
              "#fdca26"
             ],
             [
              1,
              "#f0f921"
             ]
            ],
            "type": "heatmap"
           }
          ],
          "heatmapgl": [
           {
            "colorbar": {
             "outlinewidth": 0,
             "ticks": ""
            },
            "colorscale": [
             [
              0,
              "#0d0887"
             ],
             [
              0.1111111111111111,
              "#46039f"
             ],
             [
              0.2222222222222222,
              "#7201a8"
             ],
             [
              0.3333333333333333,
              "#9c179e"
             ],
             [
              0.4444444444444444,
              "#bd3786"
             ],
             [
              0.5555555555555556,
              "#d8576b"
             ],
             [
              0.6666666666666666,
              "#ed7953"
             ],
             [
              0.7777777777777778,
              "#fb9f3a"
             ],
             [
              0.8888888888888888,
              "#fdca26"
             ],
             [
              1,
              "#f0f921"
             ]
            ],
            "type": "heatmapgl"
           }
          ],
          "histogram": [
           {
            "marker": {
             "pattern": {
              "fillmode": "overlay",
              "size": 10,
              "solidity": 0.2
             }
            },
            "type": "histogram"
           }
          ],
          "histogram2d": [
           {
            "colorbar": {
             "outlinewidth": 0,
             "ticks": ""
            },
            "colorscale": [
             [
              0,
              "#0d0887"
             ],
             [
              0.1111111111111111,
              "#46039f"
             ],
             [
              0.2222222222222222,
              "#7201a8"
             ],
             [
              0.3333333333333333,
              "#9c179e"
             ],
             [
              0.4444444444444444,
              "#bd3786"
             ],
             [
              0.5555555555555556,
              "#d8576b"
             ],
             [
              0.6666666666666666,
              "#ed7953"
             ],
             [
              0.7777777777777778,
              "#fb9f3a"
             ],
             [
              0.8888888888888888,
              "#fdca26"
             ],
             [
              1,
              "#f0f921"
             ]
            ],
            "type": "histogram2d"
           }
          ],
          "histogram2dcontour": [
           {
            "colorbar": {
             "outlinewidth": 0,
             "ticks": ""
            },
            "colorscale": [
             [
              0,
              "#0d0887"
             ],
             [
              0.1111111111111111,
              "#46039f"
             ],
             [
              0.2222222222222222,
              "#7201a8"
             ],
             [
              0.3333333333333333,
              "#9c179e"
             ],
             [
              0.4444444444444444,
              "#bd3786"
             ],
             [
              0.5555555555555556,
              "#d8576b"
             ],
             [
              0.6666666666666666,
              "#ed7953"
             ],
             [
              0.7777777777777778,
              "#fb9f3a"
             ],
             [
              0.8888888888888888,
              "#fdca26"
             ],
             [
              1,
              "#f0f921"
             ]
            ],
            "type": "histogram2dcontour"
           }
          ],
          "mesh3d": [
           {
            "colorbar": {
             "outlinewidth": 0,
             "ticks": ""
            },
            "type": "mesh3d"
           }
          ],
          "parcoords": [
           {
            "line": {
             "colorbar": {
              "outlinewidth": 0,
              "ticks": ""
             }
            },
            "type": "parcoords"
           }
          ],
          "pie": [
           {
            "automargin": true,
            "type": "pie"
           }
          ],
          "scatter": [
           {
            "fillpattern": {
             "fillmode": "overlay",
             "size": 10,
             "solidity": 0.2
            },
            "type": "scatter"
           }
          ],
          "scatter3d": [
           {
            "line": {
             "colorbar": {
              "outlinewidth": 0,
              "ticks": ""
             }
            },
            "marker": {
             "colorbar": {
              "outlinewidth": 0,
              "ticks": ""
             }
            },
            "type": "scatter3d"
           }
          ],
          "scattercarpet": [
           {
            "marker": {
             "colorbar": {
              "outlinewidth": 0,
              "ticks": ""
             }
            },
            "type": "scattercarpet"
           }
          ],
          "scattergeo": [
           {
            "marker": {
             "colorbar": {
              "outlinewidth": 0,
              "ticks": ""
             }
            },
            "type": "scattergeo"
           }
          ],
          "scattergl": [
           {
            "marker": {
             "colorbar": {
              "outlinewidth": 0,
              "ticks": ""
             }
            },
            "type": "scattergl"
           }
          ],
          "scattermapbox": [
           {
            "marker": {
             "colorbar": {
              "outlinewidth": 0,
              "ticks": ""
             }
            },
            "type": "scattermapbox"
           }
          ],
          "scatterpolar": [
           {
            "marker": {
             "colorbar": {
              "outlinewidth": 0,
              "ticks": ""
             }
            },
            "type": "scatterpolar"
           }
          ],
          "scatterpolargl": [
           {
            "marker": {
             "colorbar": {
              "outlinewidth": 0,
              "ticks": ""
             }
            },
            "type": "scatterpolargl"
           }
          ],
          "scatterternary": [
           {
            "marker": {
             "colorbar": {
              "outlinewidth": 0,
              "ticks": ""
             }
            },
            "type": "scatterternary"
           }
          ],
          "surface": [
           {
            "colorbar": {
             "outlinewidth": 0,
             "ticks": ""
            },
            "colorscale": [
             [
              0,
              "#0d0887"
             ],
             [
              0.1111111111111111,
              "#46039f"
             ],
             [
              0.2222222222222222,
              "#7201a8"
             ],
             [
              0.3333333333333333,
              "#9c179e"
             ],
             [
              0.4444444444444444,
              "#bd3786"
             ],
             [
              0.5555555555555556,
              "#d8576b"
             ],
             [
              0.6666666666666666,
              "#ed7953"
             ],
             [
              0.7777777777777778,
              "#fb9f3a"
             ],
             [
              0.8888888888888888,
              "#fdca26"
             ],
             [
              1,
              "#f0f921"
             ]
            ],
            "type": "surface"
           }
          ],
          "table": [
           {
            "cells": {
             "fill": {
              "color": "#EBF0F8"
             },
             "line": {
              "color": "white"
             }
            },
            "header": {
             "fill": {
              "color": "#C8D4E3"
             },
             "line": {
              "color": "white"
             }
            },
            "type": "table"
           }
          ]
         },
         "layout": {
          "annotationdefaults": {
           "arrowcolor": "#2a3f5f",
           "arrowhead": 0,
           "arrowwidth": 1
          },
          "autotypenumbers": "strict",
          "coloraxis": {
           "colorbar": {
            "outlinewidth": 0,
            "ticks": ""
           }
          },
          "colorscale": {
           "diverging": [
            [
             0,
             "#8e0152"
            ],
            [
             0.1,
             "#c51b7d"
            ],
            [
             0.2,
             "#de77ae"
            ],
            [
             0.3,
             "#f1b6da"
            ],
            [
             0.4,
             "#fde0ef"
            ],
            [
             0.5,
             "#f7f7f7"
            ],
            [
             0.6,
             "#e6f5d0"
            ],
            [
             0.7,
             "#b8e186"
            ],
            [
             0.8,
             "#7fbc41"
            ],
            [
             0.9,
             "#4d9221"
            ],
            [
             1,
             "#276419"
            ]
           ],
           "sequential": [
            [
             0,
             "#0d0887"
            ],
            [
             0.1111111111111111,
             "#46039f"
            ],
            [
             0.2222222222222222,
             "#7201a8"
            ],
            [
             0.3333333333333333,
             "#9c179e"
            ],
            [
             0.4444444444444444,
             "#bd3786"
            ],
            [
             0.5555555555555556,
             "#d8576b"
            ],
            [
             0.6666666666666666,
             "#ed7953"
            ],
            [
             0.7777777777777778,
             "#fb9f3a"
            ],
            [
             0.8888888888888888,
             "#fdca26"
            ],
            [
             1,
             "#f0f921"
            ]
           ],
           "sequentialminus": [
            [
             0,
             "#0d0887"
            ],
            [
             0.1111111111111111,
             "#46039f"
            ],
            [
             0.2222222222222222,
             "#7201a8"
            ],
            [
             0.3333333333333333,
             "#9c179e"
            ],
            [
             0.4444444444444444,
             "#bd3786"
            ],
            [
             0.5555555555555556,
             "#d8576b"
            ],
            [
             0.6666666666666666,
             "#ed7953"
            ],
            [
             0.7777777777777778,
             "#fb9f3a"
            ],
            [
             0.8888888888888888,
             "#fdca26"
            ],
            [
             1,
             "#f0f921"
            ]
           ]
          },
          "colorway": [
           "#636efa",
           "#EF553B",
           "#00cc96",
           "#ab63fa",
           "#FFA15A",
           "#19d3f3",
           "#FF6692",
           "#B6E880",
           "#FF97FF",
           "#FECB52"
          ],
          "font": {
           "color": "#2a3f5f"
          },
          "geo": {
           "bgcolor": "white",
           "lakecolor": "white",
           "landcolor": "#E5ECF6",
           "showlakes": true,
           "showland": true,
           "subunitcolor": "white"
          },
          "hoverlabel": {
           "align": "left"
          },
          "hovermode": "closest",
          "mapbox": {
           "style": "light"
          },
          "paper_bgcolor": "white",
          "plot_bgcolor": "#E5ECF6",
          "polar": {
           "angularaxis": {
            "gridcolor": "white",
            "linecolor": "white",
            "ticks": ""
           },
           "bgcolor": "#E5ECF6",
           "radialaxis": {
            "gridcolor": "white",
            "linecolor": "white",
            "ticks": ""
           }
          },
          "scene": {
           "xaxis": {
            "backgroundcolor": "#E5ECF6",
            "gridcolor": "white",
            "gridwidth": 2,
            "linecolor": "white",
            "showbackground": true,
            "ticks": "",
            "zerolinecolor": "white"
           },
           "yaxis": {
            "backgroundcolor": "#E5ECF6",
            "gridcolor": "white",
            "gridwidth": 2,
            "linecolor": "white",
            "showbackground": true,
            "ticks": "",
            "zerolinecolor": "white"
           },
           "zaxis": {
            "backgroundcolor": "#E5ECF6",
            "gridcolor": "white",
            "gridwidth": 2,
            "linecolor": "white",
            "showbackground": true,
            "ticks": "",
            "zerolinecolor": "white"
           }
          },
          "shapedefaults": {
           "line": {
            "color": "#2a3f5f"
           }
          },
          "ternary": {
           "aaxis": {
            "gridcolor": "white",
            "linecolor": "white",
            "ticks": ""
           },
           "baxis": {
            "gridcolor": "white",
            "linecolor": "white",
            "ticks": ""
           },
           "bgcolor": "#E5ECF6",
           "caxis": {
            "gridcolor": "white",
            "linecolor": "white",
            "ticks": ""
           }
          },
          "title": {
           "x": 0.05
          },
          "xaxis": {
           "automargin": true,
           "gridcolor": "white",
           "linecolor": "white",
           "ticks": "",
           "title": {
            "standoff": 15
           },
           "zerolinecolor": "white",
           "zerolinewidth": 2
          },
          "yaxis": {
           "automargin": true,
           "gridcolor": "white",
           "linecolor": "white",
           "ticks": "",
           "title": {
            "standoff": 15
           },
           "zerolinecolor": "white",
           "zerolinewidth": 2
          }
         }
        },
        "title": {
         "text": "Evolution de la proportion de dépression dans le temps depuis COVID-19"
        },
        "xaxis": {
         "anchor": "y",
         "domain": [
          0,
          1
         ],
         "title": {
          "text": "Mois"
         }
        },
        "yaxis": {
         "anchor": "x",
         "domain": [
          0,
          1
         ],
         "title": {
          "text": "Dépression (%)"
         }
        }
       }
      }
     },
     "metadata": {},
     "output_type": "display_data"
    }
   ],
   "source": [
    "fig_season = px.line(season, x=\"Month\", y=\"Value\", color='Year', markers=True, \n",
    "            title='Evolution de la proportion de dépression dans le temps depuis COVID-19',\n",
    "            labels=dict(Month=\"Mois\", Value=\"Dépression (%)\"))\n",
    "fig_season.show()"
   ]
  },
  {
   "cell_type": "markdown",
   "metadata": {},
   "source": [
    "ANOVA\n",
    "\n",
    "H0 : la proportion de dépression est la même chaque année\n",
    "\n",
    "H1: La proportion de dépression est différente chaque année"
   ]
  },
  {
   "cell_type": "code",
   "execution_count": 46,
   "metadata": {},
   "outputs": [
    {
     "data": {
      "text/html": [
       "<div>\n",
       "<style scoped>\n",
       "    .dataframe tbody tr th:only-of-type {\n",
       "        vertical-align: middle;\n",
       "    }\n",
       "\n",
       "    .dataframe tbody tr th {\n",
       "        vertical-align: top;\n",
       "    }\n",
       "\n",
       "    .dataframe thead tr th {\n",
       "        text-align: left;\n",
       "    }\n",
       "\n",
       "    .dataframe thead tr:last-of-type th {\n",
       "        text-align: right;\n",
       "    }\n",
       "</style>\n",
       "<table border=\"1\" class=\"dataframe\">\n",
       "  <thead>\n",
       "    <tr>\n",
       "      <th></th>\n",
       "      <th colspan=\"4\" halign=\"left\">Value</th>\n",
       "    </tr>\n",
       "    <tr>\n",
       "      <th></th>\n",
       "      <th>count</th>\n",
       "      <th>mean</th>\n",
       "      <th>std</th>\n",
       "      <th>var</th>\n",
       "    </tr>\n",
       "    <tr>\n",
       "      <th>Year</th>\n",
       "      <th></th>\n",
       "      <th></th>\n",
       "      <th></th>\n",
       "      <th></th>\n",
       "    </tr>\n",
       "  </thead>\n",
       "  <tbody>\n",
       "    <tr>\n",
       "      <th>2020</th>\n",
       "      <td>9</td>\n",
       "      <td>31.917615</td>\n",
       "      <td>2.714639</td>\n",
       "      <td>7.369266</td>\n",
       "    </tr>\n",
       "    <tr>\n",
       "      <th>2021</th>\n",
       "      <td>10</td>\n",
       "      <td>28.662898</td>\n",
       "      <td>2.999652</td>\n",
       "      <td>8.997910</td>\n",
       "    </tr>\n",
       "    <tr>\n",
       "      <th>2022</th>\n",
       "      <td>8</td>\n",
       "      <td>29.009615</td>\n",
       "      <td>1.733166</td>\n",
       "      <td>3.003865</td>\n",
       "    </tr>\n",
       "  </tbody>\n",
       "</table>\n",
       "</div>"
      ],
      "text/plain": [
       "     Value                               \n",
       "     count       mean       std       var\n",
       "Year                                     \n",
       "2020     9  31.917615  2.714639  7.369266\n",
       "2021    10  28.662898  2.999652  8.997910\n",
       "2022     8  29.009615  1.733166  3.003865"
      ]
     },
     "execution_count": 46,
     "metadata": {},
     "output_type": "execute_result"
    }
   ],
   "source": [
    "season.groupby('Year').agg({'Value':['count', 'mean', 'std', 'var']})"
   ]
  },
  {
   "cell_type": "code",
   "execution_count": 58,
   "metadata": {},
   "outputs": [],
   "source": [
    "pivot_season = season.pivot_table(columns='Year', values='Value', index='Month').reset_index()\n"
   ]
  },
  {
   "cell_type": "markdown",
   "metadata": {},
   "source": [
    "Variances et échantillons inégaux => test de Kruskal-Wallis\n",
    "\n",
    "H0: la proportion de dépression est la même chaque année\n",
    "\n",
    "H1: la proportion de dépression est significativement différente chaque années"
   ]
  },
  {
   "cell_type": "code",
   "execution_count": 60,
   "metadata": {},
   "outputs": [
    {
     "data": {
      "text/plain": [
       "KruskalResult(statistic=8.07142857142857, pvalue=0.01767305199510627)"
      ]
     },
     "execution_count": 60,
     "metadata": {},
     "output_type": "execute_result"
    }
   ],
   "source": [
    "stats.kruskal(pivot_season[2020],pivot_season[2021],pivot_season[2022], nan_policy='omit')"
   ]
  },
  {
   "cell_type": "markdown",
   "metadata": {},
   "source": [
    "COMPARAISONS DE NOTRE ÉCHANTILLON AVEC LA MOYENNE DE LA POPULATION\n",
    "\n",
    "During August 2020–February 2021, the percentage of adults with recent symptoms of an anxiety or a depressive disorder increased from 36.4% to 41.5%, 5000 participants"
   ]
  },
  {
   "cell_type": "code",
   "execution_count": 134,
   "metadata": {},
   "outputs": [
    {
     "data": {
      "text/html": [
       "<div>\n",
       "<style scoped>\n",
       "    .dataframe tbody tr th:only-of-type {\n",
       "        vertical-align: middle;\n",
       "    }\n",
       "\n",
       "    .dataframe tbody tr th {\n",
       "        vertical-align: top;\n",
       "    }\n",
       "\n",
       "    .dataframe thead th {\n",
       "        text-align: right;\n",
       "    }\n",
       "</style>\n",
       "<table border=\"1\" class=\"dataframe\">\n",
       "  <thead>\n",
       "    <tr style=\"text-align: right;\">\n",
       "      <th></th>\n",
       "      <th>Year</th>\n",
       "      <th>Month</th>\n",
       "      <th>Time Period</th>\n",
       "      <th>Value</th>\n",
       "      <th>Low CI</th>\n",
       "      <th>High CI</th>\n",
       "    </tr>\n",
       "  </thead>\n",
       "  <tbody>\n",
       "    <tr>\n",
       "      <th>4</th>\n",
       "      <td>2020</td>\n",
       "      <td>8</td>\n",
       "      <td>13.0</td>\n",
       "      <td>29.938571</td>\n",
       "      <td>27.065238</td>\n",
       "      <td>32.973333</td>\n",
       "    </tr>\n",
       "    <tr>\n",
       "      <th>5</th>\n",
       "      <td>2020</td>\n",
       "      <td>9</td>\n",
       "      <td>15.0</td>\n",
       "      <td>30.651111</td>\n",
       "      <td>27.563968</td>\n",
       "      <td>33.900794</td>\n",
       "    </tr>\n",
       "    <tr>\n",
       "      <th>6</th>\n",
       "      <td>2020</td>\n",
       "      <td>10</td>\n",
       "      <td>17.5</td>\n",
       "      <td>33.188333</td>\n",
       "      <td>29.456905</td>\n",
       "      <td>37.115952</td>\n",
       "    </tr>\n",
       "    <tr>\n",
       "      <th>7</th>\n",
       "      <td>2020</td>\n",
       "      <td>11</td>\n",
       "      <td>19.5</td>\n",
       "      <td>35.436429</td>\n",
       "      <td>31.601190</td>\n",
       "      <td>39.445238</td>\n",
       "    </tr>\n",
       "    <tr>\n",
       "      <th>8</th>\n",
       "      <td>2020</td>\n",
       "      <td>12</td>\n",
       "      <td>21.0</td>\n",
       "      <td>35.931905</td>\n",
       "      <td>32.070000</td>\n",
       "      <td>39.972381</td>\n",
       "    </tr>\n",
       "  </tbody>\n",
       "</table>\n",
       "</div>"
      ],
      "text/plain": [
       "   Year  Month  Time Period      Value     Low CI    High CI\n",
       "4  2020      8         13.0  29.938571  27.065238  32.973333\n",
       "5  2020      9         15.0  30.651111  27.563968  33.900794\n",
       "6  2020     10         17.5  33.188333  29.456905  37.115952\n",
       "7  2020     11         19.5  35.436429  31.601190  39.445238\n",
       "8  2020     12         21.0  35.931905  32.070000  39.972381"
      ]
     },
     "execution_count": 134,
     "metadata": {},
     "output_type": "execute_result"
    }
   ],
   "source": [
    "y_20_21 = season.query(\"Year < 2022\")\n",
    "end_20 = y_20_21.query(\"Year == 2020 & Month >= 8\")\n",
    "start_21 = y_20_21.query(\"Year == 2021 & Month <= 2\")\n",
    "\n",
    "end_20"
   ]
  },
  {
   "cell_type": "code",
   "execution_count": 130,
   "metadata": {},
   "outputs": [
    {
     "data": {
      "text/html": [
       "<div>\n",
       "<style scoped>\n",
       "    .dataframe tbody tr th:only-of-type {\n",
       "        vertical-align: middle;\n",
       "    }\n",
       "\n",
       "    .dataframe tbody tr th {\n",
       "        vertical-align: top;\n",
       "    }\n",
       "\n",
       "    .dataframe thead th {\n",
       "        text-align: right;\n",
       "    }\n",
       "</style>\n",
       "<table border=\"1\" class=\"dataframe\">\n",
       "  <thead>\n",
       "    <tr style=\"text-align: right;\">\n",
       "      <th></th>\n",
       "      <th>Year</th>\n",
       "      <th>Month</th>\n",
       "      <th>Time Period</th>\n",
       "      <th>Value</th>\n",
       "      <th>Low CI</th>\n",
       "      <th>High CI</th>\n",
       "    </tr>\n",
       "  </thead>\n",
       "  <tbody>\n",
       "    <tr>\n",
       "      <th>9</th>\n",
       "      <td>2021</td>\n",
       "      <td>1</td>\n",
       "      <td>22.5</td>\n",
       "      <td>34.496905</td>\n",
       "      <td>30.642857</td>\n",
       "      <td>38.542857</td>\n",
       "    </tr>\n",
       "    <tr>\n",
       "      <th>10</th>\n",
       "      <td>2021</td>\n",
       "      <td>2</td>\n",
       "      <td>24.5</td>\n",
       "      <td>32.801905</td>\n",
       "      <td>29.064524</td>\n",
       "      <td>36.747619</td>\n",
       "    </tr>\n",
       "  </tbody>\n",
       "</table>\n",
       "</div>"
      ],
      "text/plain": [
       "    Year  Month  Time Period      Value     Low CI    High CI\n",
       "9   2021      1         22.5  34.496905  30.642857  38.542857\n",
       "10  2021      2         24.5  32.801905  29.064524  36.747619"
      ]
     },
     "execution_count": 130,
     "metadata": {},
     "output_type": "execute_result"
    }
   ],
   "source": [
    "start_21"
   ]
  },
  {
   "cell_type": "code",
   "execution_count": 145,
   "metadata": {},
   "outputs": [
    {
     "data": {
      "text/html": [
       "<div>\n",
       "<style scoped>\n",
       "    .dataframe tbody tr th:only-of-type {\n",
       "        vertical-align: middle;\n",
       "    }\n",
       "\n",
       "    .dataframe tbody tr th {\n",
       "        vertical-align: top;\n",
       "    }\n",
       "\n",
       "    .dataframe thead th {\n",
       "        text-align: right;\n",
       "    }\n",
       "</style>\n",
       "<table border=\"1\" class=\"dataframe\">\n",
       "  <thead>\n",
       "    <tr style=\"text-align: right;\">\n",
       "      <th></th>\n",
       "      <th>Year</th>\n",
       "      <th>Month</th>\n",
       "      <th>Time Period</th>\n",
       "      <th>Value</th>\n",
       "      <th>Low CI</th>\n",
       "      <th>High CI</th>\n",
       "      <th>Date</th>\n",
       "    </tr>\n",
       "  </thead>\n",
       "  <tbody>\n",
       "    <tr>\n",
       "      <th>4</th>\n",
       "      <td>2020</td>\n",
       "      <td>8</td>\n",
       "      <td>13.0</td>\n",
       "      <td>29.938571</td>\n",
       "      <td>27.065238</td>\n",
       "      <td>32.973333</td>\n",
       "      <td>2020-8</td>\n",
       "    </tr>\n",
       "    <tr>\n",
       "      <th>5</th>\n",
       "      <td>2020</td>\n",
       "      <td>9</td>\n",
       "      <td>15.0</td>\n",
       "      <td>30.651111</td>\n",
       "      <td>27.563968</td>\n",
       "      <td>33.900794</td>\n",
       "      <td>2020-9</td>\n",
       "    </tr>\n",
       "    <tr>\n",
       "      <th>6</th>\n",
       "      <td>2020</td>\n",
       "      <td>10</td>\n",
       "      <td>17.5</td>\n",
       "      <td>33.188333</td>\n",
       "      <td>29.456905</td>\n",
       "      <td>37.115952</td>\n",
       "      <td>2020-10</td>\n",
       "    </tr>\n",
       "    <tr>\n",
       "      <th>7</th>\n",
       "      <td>2020</td>\n",
       "      <td>11</td>\n",
       "      <td>19.5</td>\n",
       "      <td>35.436429</td>\n",
       "      <td>31.601190</td>\n",
       "      <td>39.445238</td>\n",
       "      <td>2020-11</td>\n",
       "    </tr>\n",
       "    <tr>\n",
       "      <th>8</th>\n",
       "      <td>2020</td>\n",
       "      <td>12</td>\n",
       "      <td>21.0</td>\n",
       "      <td>35.931905</td>\n",
       "      <td>32.070000</td>\n",
       "      <td>39.972381</td>\n",
       "      <td>2020-12</td>\n",
       "    </tr>\n",
       "    <tr>\n",
       "      <th>9</th>\n",
       "      <td>2021</td>\n",
       "      <td>1</td>\n",
       "      <td>22.5</td>\n",
       "      <td>34.496905</td>\n",
       "      <td>30.642857</td>\n",
       "      <td>38.542857</td>\n",
       "      <td>2021-1</td>\n",
       "    </tr>\n",
       "    <tr>\n",
       "      <th>10</th>\n",
       "      <td>2021</td>\n",
       "      <td>2</td>\n",
       "      <td>24.5</td>\n",
       "      <td>32.801905</td>\n",
       "      <td>29.064524</td>\n",
       "      <td>36.747619</td>\n",
       "      <td>2021-2</td>\n",
       "    </tr>\n",
       "  </tbody>\n",
       "</table>\n",
       "</div>"
      ],
      "text/plain": [
       "    Year  Month  Time Period      Value     Low CI    High CI     Date\n",
       "4   2020      8         13.0  29.938571  27.065238  32.973333   2020-8\n",
       "5   2020      9         15.0  30.651111  27.563968  33.900794   2020-9\n",
       "6   2020     10         17.5  33.188333  29.456905  37.115952  2020-10\n",
       "7   2020     11         19.5  35.436429  31.601190  39.445238  2020-11\n",
       "8   2020     12         21.0  35.931905  32.070000  39.972381  2020-12\n",
       "9   2021      1         22.5  34.496905  30.642857  38.542857   2021-1\n",
       "10  2021      2         24.5  32.801905  29.064524  36.747619   2021-2"
      ]
     },
     "execution_count": 145,
     "metadata": {},
     "output_type": "execute_result"
    }
   ],
   "source": [
    "compare = pd.concat([end_20, start_21])\n",
    "\n",
    "compare['Date']= compare['Year'].astype(str) + \"-\" + compare['Month'].astype(str)\n",
    "compare['Date'].sort_values()\n",
    "compare"
   ]
  },
  {
   "cell_type": "code",
   "execution_count": 146,
   "metadata": {},
   "outputs": [
    {
     "data": {
      "application/vnd.plotly.v1+json": {
       "config": {
        "plotlyServerURL": "https://plot.ly"
       },
       "data": [
        {
         "hovertemplate": "Date=%{x}<br>Dépression (%)=%{y}<extra></extra>",
         "legendgroup": "",
         "line": {
          "color": "#636efa",
          "dash": "solid"
         },
         "marker": {
          "symbol": "circle"
         },
         "mode": "markers+lines",
         "name": "",
         "orientation": "v",
         "showlegend": false,
         "type": "scatter",
         "x": [
          "2020-8",
          "2020-9",
          "2020-10",
          "2020-11",
          "2020-12",
          "2021-1",
          "2021-2"
         ],
         "xaxis": "x",
         "y": [
          29.93857142857143,
          30.651111111111113,
          33.18833333333333,
          35.43642857142857,
          35.93190476190476,
          34.496904761904766,
          32.80190476190476
         ],
         "yaxis": "y"
        }
       ],
       "layout": {
        "legend": {
         "tracegroupgap": 0
        },
        "template": {
         "data": {
          "bar": [
           {
            "error_x": {
             "color": "#2a3f5f"
            },
            "error_y": {
             "color": "#2a3f5f"
            },
            "marker": {
             "line": {
              "color": "#E5ECF6",
              "width": 0.5
             },
             "pattern": {
              "fillmode": "overlay",
              "size": 10,
              "solidity": 0.2
             }
            },
            "type": "bar"
           }
          ],
          "barpolar": [
           {
            "marker": {
             "line": {
              "color": "#E5ECF6",
              "width": 0.5
             },
             "pattern": {
              "fillmode": "overlay",
              "size": 10,
              "solidity": 0.2
             }
            },
            "type": "barpolar"
           }
          ],
          "carpet": [
           {
            "aaxis": {
             "endlinecolor": "#2a3f5f",
             "gridcolor": "white",
             "linecolor": "white",
             "minorgridcolor": "white",
             "startlinecolor": "#2a3f5f"
            },
            "baxis": {
             "endlinecolor": "#2a3f5f",
             "gridcolor": "white",
             "linecolor": "white",
             "minorgridcolor": "white",
             "startlinecolor": "#2a3f5f"
            },
            "type": "carpet"
           }
          ],
          "choropleth": [
           {
            "colorbar": {
             "outlinewidth": 0,
             "ticks": ""
            },
            "type": "choropleth"
           }
          ],
          "contour": [
           {
            "colorbar": {
             "outlinewidth": 0,
             "ticks": ""
            },
            "colorscale": [
             [
              0,
              "#0d0887"
             ],
             [
              0.1111111111111111,
              "#46039f"
             ],
             [
              0.2222222222222222,
              "#7201a8"
             ],
             [
              0.3333333333333333,
              "#9c179e"
             ],
             [
              0.4444444444444444,
              "#bd3786"
             ],
             [
              0.5555555555555556,
              "#d8576b"
             ],
             [
              0.6666666666666666,
              "#ed7953"
             ],
             [
              0.7777777777777778,
              "#fb9f3a"
             ],
             [
              0.8888888888888888,
              "#fdca26"
             ],
             [
              1,
              "#f0f921"
             ]
            ],
            "type": "contour"
           }
          ],
          "contourcarpet": [
           {
            "colorbar": {
             "outlinewidth": 0,
             "ticks": ""
            },
            "type": "contourcarpet"
           }
          ],
          "heatmap": [
           {
            "colorbar": {
             "outlinewidth": 0,
             "ticks": ""
            },
            "colorscale": [
             [
              0,
              "#0d0887"
             ],
             [
              0.1111111111111111,
              "#46039f"
             ],
             [
              0.2222222222222222,
              "#7201a8"
             ],
             [
              0.3333333333333333,
              "#9c179e"
             ],
             [
              0.4444444444444444,
              "#bd3786"
             ],
             [
              0.5555555555555556,
              "#d8576b"
             ],
             [
              0.6666666666666666,
              "#ed7953"
             ],
             [
              0.7777777777777778,
              "#fb9f3a"
             ],
             [
              0.8888888888888888,
              "#fdca26"
             ],
             [
              1,
              "#f0f921"
             ]
            ],
            "type": "heatmap"
           }
          ],
          "heatmapgl": [
           {
            "colorbar": {
             "outlinewidth": 0,
             "ticks": ""
            },
            "colorscale": [
             [
              0,
              "#0d0887"
             ],
             [
              0.1111111111111111,
              "#46039f"
             ],
             [
              0.2222222222222222,
              "#7201a8"
             ],
             [
              0.3333333333333333,
              "#9c179e"
             ],
             [
              0.4444444444444444,
              "#bd3786"
             ],
             [
              0.5555555555555556,
              "#d8576b"
             ],
             [
              0.6666666666666666,
              "#ed7953"
             ],
             [
              0.7777777777777778,
              "#fb9f3a"
             ],
             [
              0.8888888888888888,
              "#fdca26"
             ],
             [
              1,
              "#f0f921"
             ]
            ],
            "type": "heatmapgl"
           }
          ],
          "histogram": [
           {
            "marker": {
             "pattern": {
              "fillmode": "overlay",
              "size": 10,
              "solidity": 0.2
             }
            },
            "type": "histogram"
           }
          ],
          "histogram2d": [
           {
            "colorbar": {
             "outlinewidth": 0,
             "ticks": ""
            },
            "colorscale": [
             [
              0,
              "#0d0887"
             ],
             [
              0.1111111111111111,
              "#46039f"
             ],
             [
              0.2222222222222222,
              "#7201a8"
             ],
             [
              0.3333333333333333,
              "#9c179e"
             ],
             [
              0.4444444444444444,
              "#bd3786"
             ],
             [
              0.5555555555555556,
              "#d8576b"
             ],
             [
              0.6666666666666666,
              "#ed7953"
             ],
             [
              0.7777777777777778,
              "#fb9f3a"
             ],
             [
              0.8888888888888888,
              "#fdca26"
             ],
             [
              1,
              "#f0f921"
             ]
            ],
            "type": "histogram2d"
           }
          ],
          "histogram2dcontour": [
           {
            "colorbar": {
             "outlinewidth": 0,
             "ticks": ""
            },
            "colorscale": [
             [
              0,
              "#0d0887"
             ],
             [
              0.1111111111111111,
              "#46039f"
             ],
             [
              0.2222222222222222,
              "#7201a8"
             ],
             [
              0.3333333333333333,
              "#9c179e"
             ],
             [
              0.4444444444444444,
              "#bd3786"
             ],
             [
              0.5555555555555556,
              "#d8576b"
             ],
             [
              0.6666666666666666,
              "#ed7953"
             ],
             [
              0.7777777777777778,
              "#fb9f3a"
             ],
             [
              0.8888888888888888,
              "#fdca26"
             ],
             [
              1,
              "#f0f921"
             ]
            ],
            "type": "histogram2dcontour"
           }
          ],
          "mesh3d": [
           {
            "colorbar": {
             "outlinewidth": 0,
             "ticks": ""
            },
            "type": "mesh3d"
           }
          ],
          "parcoords": [
           {
            "line": {
             "colorbar": {
              "outlinewidth": 0,
              "ticks": ""
             }
            },
            "type": "parcoords"
           }
          ],
          "pie": [
           {
            "automargin": true,
            "type": "pie"
           }
          ],
          "scatter": [
           {
            "fillpattern": {
             "fillmode": "overlay",
             "size": 10,
             "solidity": 0.2
            },
            "type": "scatter"
           }
          ],
          "scatter3d": [
           {
            "line": {
             "colorbar": {
              "outlinewidth": 0,
              "ticks": ""
             }
            },
            "marker": {
             "colorbar": {
              "outlinewidth": 0,
              "ticks": ""
             }
            },
            "type": "scatter3d"
           }
          ],
          "scattercarpet": [
           {
            "marker": {
             "colorbar": {
              "outlinewidth": 0,
              "ticks": ""
             }
            },
            "type": "scattercarpet"
           }
          ],
          "scattergeo": [
           {
            "marker": {
             "colorbar": {
              "outlinewidth": 0,
              "ticks": ""
             }
            },
            "type": "scattergeo"
           }
          ],
          "scattergl": [
           {
            "marker": {
             "colorbar": {
              "outlinewidth": 0,
              "ticks": ""
             }
            },
            "type": "scattergl"
           }
          ],
          "scattermapbox": [
           {
            "marker": {
             "colorbar": {
              "outlinewidth": 0,
              "ticks": ""
             }
            },
            "type": "scattermapbox"
           }
          ],
          "scatterpolar": [
           {
            "marker": {
             "colorbar": {
              "outlinewidth": 0,
              "ticks": ""
             }
            },
            "type": "scatterpolar"
           }
          ],
          "scatterpolargl": [
           {
            "marker": {
             "colorbar": {
              "outlinewidth": 0,
              "ticks": ""
             }
            },
            "type": "scatterpolargl"
           }
          ],
          "scatterternary": [
           {
            "marker": {
             "colorbar": {
              "outlinewidth": 0,
              "ticks": ""
             }
            },
            "type": "scatterternary"
           }
          ],
          "surface": [
           {
            "colorbar": {
             "outlinewidth": 0,
             "ticks": ""
            },
            "colorscale": [
             [
              0,
              "#0d0887"
             ],
             [
              0.1111111111111111,
              "#46039f"
             ],
             [
              0.2222222222222222,
              "#7201a8"
             ],
             [
              0.3333333333333333,
              "#9c179e"
             ],
             [
              0.4444444444444444,
              "#bd3786"
             ],
             [
              0.5555555555555556,
              "#d8576b"
             ],
             [
              0.6666666666666666,
              "#ed7953"
             ],
             [
              0.7777777777777778,
              "#fb9f3a"
             ],
             [
              0.8888888888888888,
              "#fdca26"
             ],
             [
              1,
              "#f0f921"
             ]
            ],
            "type": "surface"
           }
          ],
          "table": [
           {
            "cells": {
             "fill": {
              "color": "#EBF0F8"
             },
             "line": {
              "color": "white"
             }
            },
            "header": {
             "fill": {
              "color": "#C8D4E3"
             },
             "line": {
              "color": "white"
             }
            },
            "type": "table"
           }
          ]
         },
         "layout": {
          "annotationdefaults": {
           "arrowcolor": "#2a3f5f",
           "arrowhead": 0,
           "arrowwidth": 1
          },
          "autotypenumbers": "strict",
          "coloraxis": {
           "colorbar": {
            "outlinewidth": 0,
            "ticks": ""
           }
          },
          "colorscale": {
           "diverging": [
            [
             0,
             "#8e0152"
            ],
            [
             0.1,
             "#c51b7d"
            ],
            [
             0.2,
             "#de77ae"
            ],
            [
             0.3,
             "#f1b6da"
            ],
            [
             0.4,
             "#fde0ef"
            ],
            [
             0.5,
             "#f7f7f7"
            ],
            [
             0.6,
             "#e6f5d0"
            ],
            [
             0.7,
             "#b8e186"
            ],
            [
             0.8,
             "#7fbc41"
            ],
            [
             0.9,
             "#4d9221"
            ],
            [
             1,
             "#276419"
            ]
           ],
           "sequential": [
            [
             0,
             "#0d0887"
            ],
            [
             0.1111111111111111,
             "#46039f"
            ],
            [
             0.2222222222222222,
             "#7201a8"
            ],
            [
             0.3333333333333333,
             "#9c179e"
            ],
            [
             0.4444444444444444,
             "#bd3786"
            ],
            [
             0.5555555555555556,
             "#d8576b"
            ],
            [
             0.6666666666666666,
             "#ed7953"
            ],
            [
             0.7777777777777778,
             "#fb9f3a"
            ],
            [
             0.8888888888888888,
             "#fdca26"
            ],
            [
             1,
             "#f0f921"
            ]
           ],
           "sequentialminus": [
            [
             0,
             "#0d0887"
            ],
            [
             0.1111111111111111,
             "#46039f"
            ],
            [
             0.2222222222222222,
             "#7201a8"
            ],
            [
             0.3333333333333333,
             "#9c179e"
            ],
            [
             0.4444444444444444,
             "#bd3786"
            ],
            [
             0.5555555555555556,
             "#d8576b"
            ],
            [
             0.6666666666666666,
             "#ed7953"
            ],
            [
             0.7777777777777778,
             "#fb9f3a"
            ],
            [
             0.8888888888888888,
             "#fdca26"
            ],
            [
             1,
             "#f0f921"
            ]
           ]
          },
          "colorway": [
           "#636efa",
           "#EF553B",
           "#00cc96",
           "#ab63fa",
           "#FFA15A",
           "#19d3f3",
           "#FF6692",
           "#B6E880",
           "#FF97FF",
           "#FECB52"
          ],
          "font": {
           "color": "#2a3f5f"
          },
          "geo": {
           "bgcolor": "white",
           "lakecolor": "white",
           "landcolor": "#E5ECF6",
           "showlakes": true,
           "showland": true,
           "subunitcolor": "white"
          },
          "hoverlabel": {
           "align": "left"
          },
          "hovermode": "closest",
          "mapbox": {
           "style": "light"
          },
          "paper_bgcolor": "white",
          "plot_bgcolor": "#E5ECF6",
          "polar": {
           "angularaxis": {
            "gridcolor": "white",
            "linecolor": "white",
            "ticks": ""
           },
           "bgcolor": "#E5ECF6",
           "radialaxis": {
            "gridcolor": "white",
            "linecolor": "white",
            "ticks": ""
           }
          },
          "scene": {
           "xaxis": {
            "backgroundcolor": "#E5ECF6",
            "gridcolor": "white",
            "gridwidth": 2,
            "linecolor": "white",
            "showbackground": true,
            "ticks": "",
            "zerolinecolor": "white"
           },
           "yaxis": {
            "backgroundcolor": "#E5ECF6",
            "gridcolor": "white",
            "gridwidth": 2,
            "linecolor": "white",
            "showbackground": true,
            "ticks": "",
            "zerolinecolor": "white"
           },
           "zaxis": {
            "backgroundcolor": "#E5ECF6",
            "gridcolor": "white",
            "gridwidth": 2,
            "linecolor": "white",
            "showbackground": true,
            "ticks": "",
            "zerolinecolor": "white"
           }
          },
          "shapedefaults": {
           "line": {
            "color": "#2a3f5f"
           }
          },
          "ternary": {
           "aaxis": {
            "gridcolor": "white",
            "linecolor": "white",
            "ticks": ""
           },
           "baxis": {
            "gridcolor": "white",
            "linecolor": "white",
            "ticks": ""
           },
           "bgcolor": "#E5ECF6",
           "caxis": {
            "gridcolor": "white",
            "linecolor": "white",
            "ticks": ""
           }
          },
          "title": {
           "x": 0.05
          },
          "xaxis": {
           "automargin": true,
           "gridcolor": "white",
           "linecolor": "white",
           "ticks": "",
           "title": {
            "standoff": 15
           },
           "zerolinecolor": "white",
           "zerolinewidth": 2
          },
          "yaxis": {
           "automargin": true,
           "gridcolor": "white",
           "linecolor": "white",
           "ticks": "",
           "title": {
            "standoff": 15
           },
           "zerolinecolor": "white",
           "zerolinewidth": 2
          }
         }
        },
        "title": {
         "text": "Evolution de la proportion de dépression dans le temps depuis COVID-19"
        },
        "xaxis": {
         "anchor": "y",
         "domain": [
          0,
          1
         ],
         "title": {
          "text": "Date"
         }
        },
        "yaxis": {
         "anchor": "x",
         "domain": [
          0,
          1
         ],
         "title": {
          "text": "Dépression (%)"
         }
        }
       }
      }
     },
     "metadata": {},
     "output_type": "display_data"
    }
   ],
   "source": [
    "fig_season = px.line(compare, x=\"Date\", y=\"Value\", markers=True, \n",
    "            title='Evolution de la proportion de dépression dans le temps depuis COVID-19',\n",
    "            labels=dict(Month=\"Mois\", Value=\"Dépression (%)\"))\n",
    "fig_season.show()"
   ]
  },
  {
   "cell_type": "code",
   "execution_count": 70,
   "metadata": {},
   "outputs": [
    {
     "data": {
      "text/html": [
       "<div>\n",
       "<style scoped>\n",
       "    .dataframe tbody tr th:only-of-type {\n",
       "        vertical-align: middle;\n",
       "    }\n",
       "\n",
       "    .dataframe tbody tr th {\n",
       "        vertical-align: top;\n",
       "    }\n",
       "\n",
       "    .dataframe thead th {\n",
       "        text-align: right;\n",
       "    }\n",
       "</style>\n",
       "<table border=\"1\" class=\"dataframe\">\n",
       "  <thead>\n",
       "    <tr style=\"text-align: right;\">\n",
       "      <th></th>\n",
       "      <th>Year</th>\n",
       "      <th>Time Period</th>\n",
       "      <th>Value</th>\n",
       "      <th>Low CI</th>\n",
       "      <th>High CI</th>\n",
       "    </tr>\n",
       "    <tr>\n",
       "      <th>Month</th>\n",
       "      <th></th>\n",
       "      <th></th>\n",
       "      <th></th>\n",
       "      <th></th>\n",
       "      <th></th>\n",
       "    </tr>\n",
       "  </thead>\n",
       "  <tbody>\n",
       "    <tr>\n",
       "      <th>1</th>\n",
       "      <td>2021.5</td>\n",
       "      <td>32.250000</td>\n",
       "      <td>31.210418</td>\n",
       "      <td>27.681899</td>\n",
       "      <td>34.937882</td>\n",
       "    </tr>\n",
       "    <tr>\n",
       "      <th>2</th>\n",
       "      <td>2021.0</td>\n",
       "      <td>24.500000</td>\n",
       "      <td>32.801905</td>\n",
       "      <td>29.064524</td>\n",
       "      <td>36.747619</td>\n",
       "    </tr>\n",
       "    <tr>\n",
       "      <th>3</th>\n",
       "      <td>2021.5</td>\n",
       "      <td>33.476415</td>\n",
       "      <td>28.985952</td>\n",
       "      <td>25.446682</td>\n",
       "      <td>32.762375</td>\n",
       "    </tr>\n",
       "    <tr>\n",
       "      <th>4</th>\n",
       "      <td>2021.0</td>\n",
       "      <td>24.833333</td>\n",
       "      <td>27.582927</td>\n",
       "      <td>24.028023</td>\n",
       "      <td>31.413086</td>\n",
       "    </tr>\n",
       "    <tr>\n",
       "      <th>5</th>\n",
       "      <td>2020.5</td>\n",
       "      <td>17.000000</td>\n",
       "      <td>27.053519</td>\n",
       "      <td>23.339577</td>\n",
       "      <td>31.093869</td>\n",
       "    </tr>\n",
       "    <tr>\n",
       "      <th>6</th>\n",
       "      <td>2021.0</td>\n",
       "      <td>28.833333</td>\n",
       "      <td>28.439676</td>\n",
       "      <td>24.682025</td>\n",
       "      <td>32.489524</td>\n",
       "    </tr>\n",
       "    <tr>\n",
       "      <th>7</th>\n",
       "      <td>2021.0</td>\n",
       "      <td>28.390102</td>\n",
       "      <td>29.972821</td>\n",
       "      <td>26.165006</td>\n",
       "      <td>34.045804</td>\n",
       "    </tr>\n",
       "    <tr>\n",
       "      <th>8</th>\n",
       "      <td>2020.5</td>\n",
       "      <td>24.250000</td>\n",
       "      <td>28.876658</td>\n",
       "      <td>25.692234</td>\n",
       "      <td>32.273205</td>\n",
       "    </tr>\n",
       "    <tr>\n",
       "      <th>9</th>\n",
       "      <td>2021.0</td>\n",
       "      <td>34.000000</td>\n",
       "      <td>30.157493</td>\n",
       "      <td>26.529917</td>\n",
       "      <td>34.025716</td>\n",
       "    </tr>\n",
       "    <tr>\n",
       "      <th>10</th>\n",
       "      <td>2021.0</td>\n",
       "      <td>33.750000</td>\n",
       "      <td>32.415534</td>\n",
       "      <td>28.392555</td>\n",
       "      <td>36.680626</td>\n",
       "    </tr>\n",
       "    <tr>\n",
       "      <th>11</th>\n",
       "      <td>2020.0</td>\n",
       "      <td>19.500000</td>\n",
       "      <td>35.436429</td>\n",
       "      <td>31.601190</td>\n",
       "      <td>39.445238</td>\n",
       "    </tr>\n",
       "    <tr>\n",
       "      <th>12</th>\n",
       "      <td>2021.0</td>\n",
       "      <td>31.453608</td>\n",
       "      <td>30.727729</td>\n",
       "      <td>27.099687</td>\n",
       "      <td>34.582389</td>\n",
       "    </tr>\n",
       "  </tbody>\n",
       "</table>\n",
       "</div>"
      ],
      "text/plain": [
       "         Year  Time Period      Value     Low CI    High CI\n",
       "Month                                                      \n",
       "1      2021.5    32.250000  31.210418  27.681899  34.937882\n",
       "2      2021.0    24.500000  32.801905  29.064524  36.747619\n",
       "3      2021.5    33.476415  28.985952  25.446682  32.762375\n",
       "4      2021.0    24.833333  27.582927  24.028023  31.413086\n",
       "5      2020.5    17.000000  27.053519  23.339577  31.093869\n",
       "6      2021.0    28.833333  28.439676  24.682025  32.489524\n",
       "7      2021.0    28.390102  29.972821  26.165006  34.045804\n",
       "8      2020.5    24.250000  28.876658  25.692234  32.273205\n",
       "9      2021.0    34.000000  30.157493  26.529917  34.025716\n",
       "10     2021.0    33.750000  32.415534  28.392555  36.680626\n",
       "11     2020.0    19.500000  35.436429  31.601190  39.445238\n",
       "12     2021.0    31.453608  30.727729  27.099687  34.582389"
      ]
     },
     "execution_count": 70,
     "metadata": {},
     "output_type": "execute_result"
    }
   ],
   "source": [
    "monthly = season.groupby('Month').mean()\n",
    "monthly"
   ]
  },
  {
   "cell_type": "code",
   "execution_count": 74,
   "metadata": {},
   "outputs": [
    {
     "data": {
      "text/html": [
       "<div>\n",
       "<style scoped>\n",
       "    .dataframe tbody tr th:only-of-type {\n",
       "        vertical-align: middle;\n",
       "    }\n",
       "\n",
       "    .dataframe tbody tr th {\n",
       "        vertical-align: top;\n",
       "    }\n",
       "\n",
       "    .dataframe thead th {\n",
       "        text-align: right;\n",
       "    }\n",
       "</style>\n",
       "<table border=\"1\" class=\"dataframe\">\n",
       "  <thead>\n",
       "    <tr style=\"text-align: right;\">\n",
       "      <th></th>\n",
       "      <th>Month</th>\n",
       "      <th>Year</th>\n",
       "      <th>Time Period</th>\n",
       "      <th>Value</th>\n",
       "      <th>Low CI</th>\n",
       "      <th>High CI</th>\n",
       "    </tr>\n",
       "  </thead>\n",
       "  <tbody>\n",
       "    <tr>\n",
       "      <th>0</th>\n",
       "      <td>4</td>\n",
       "      <td>2021.0</td>\n",
       "      <td>24.833333</td>\n",
       "      <td>27.582927</td>\n",
       "      <td>24.028023</td>\n",
       "      <td>31.413086</td>\n",
       "    </tr>\n",
       "    <tr>\n",
       "      <th>1</th>\n",
       "      <td>5</td>\n",
       "      <td>2020.5</td>\n",
       "      <td>17.000000</td>\n",
       "      <td>27.053519</td>\n",
       "      <td>23.339577</td>\n",
       "      <td>31.093869</td>\n",
       "    </tr>\n",
       "    <tr>\n",
       "      <th>2</th>\n",
       "      <td>6</td>\n",
       "      <td>2021.0</td>\n",
       "      <td>28.833333</td>\n",
       "      <td>28.439676</td>\n",
       "      <td>24.682025</td>\n",
       "      <td>32.489524</td>\n",
       "    </tr>\n",
       "    <tr>\n",
       "      <th>3</th>\n",
       "      <td>7</td>\n",
       "      <td>2021.0</td>\n",
       "      <td>28.390102</td>\n",
       "      <td>29.972821</td>\n",
       "      <td>26.165006</td>\n",
       "      <td>34.045804</td>\n",
       "    </tr>\n",
       "    <tr>\n",
       "      <th>4</th>\n",
       "      <td>8</td>\n",
       "      <td>2020.5</td>\n",
       "      <td>24.250000</td>\n",
       "      <td>28.876658</td>\n",
       "      <td>25.692234</td>\n",
       "      <td>32.273205</td>\n",
       "    </tr>\n",
       "    <tr>\n",
       "      <th>5</th>\n",
       "      <td>9</td>\n",
       "      <td>2021.0</td>\n",
       "      <td>34.000000</td>\n",
       "      <td>30.157493</td>\n",
       "      <td>26.529917</td>\n",
       "      <td>34.025716</td>\n",
       "    </tr>\n",
       "    <tr>\n",
       "      <th>6</th>\n",
       "      <td>10</td>\n",
       "      <td>2021.0</td>\n",
       "      <td>33.750000</td>\n",
       "      <td>32.415534</td>\n",
       "      <td>28.392555</td>\n",
       "      <td>36.680626</td>\n",
       "    </tr>\n",
       "    <tr>\n",
       "      <th>7</th>\n",
       "      <td>11</td>\n",
       "      <td>2020.0</td>\n",
       "      <td>19.500000</td>\n",
       "      <td>35.436429</td>\n",
       "      <td>31.601190</td>\n",
       "      <td>39.445238</td>\n",
       "    </tr>\n",
       "    <tr>\n",
       "      <th>8</th>\n",
       "      <td>12</td>\n",
       "      <td>2021.0</td>\n",
       "      <td>31.453608</td>\n",
       "      <td>30.727729</td>\n",
       "      <td>27.099687</td>\n",
       "      <td>34.582389</td>\n",
       "    </tr>\n",
       "  </tbody>\n",
       "</table>\n",
       "</div>"
      ],
      "text/plain": [
       "   Month    Year  Time Period      Value     Low CI    High CI\n",
       "0      4  2021.0    24.833333  27.582927  24.028023  31.413086\n",
       "1      5  2020.5    17.000000  27.053519  23.339577  31.093869\n",
       "2      6  2021.0    28.833333  28.439676  24.682025  32.489524\n",
       "3      7  2021.0    28.390102  29.972821  26.165006  34.045804\n",
       "4      8  2020.5    24.250000  28.876658  25.692234  32.273205\n",
       "5      9  2021.0    34.000000  30.157493  26.529917  34.025716\n",
       "6     10  2021.0    33.750000  32.415534  28.392555  36.680626\n",
       "7     11  2020.0    19.500000  35.436429  31.601190  39.445238\n",
       "8     12  2021.0    31.453608  30.727729  27.099687  34.582389"
      ]
     },
     "execution_count": 74,
     "metadata": {},
     "output_type": "execute_result"
    }
   ],
   "source": [
    "monthly = monthly.query(\"Month >= 4\").reset_index()\n",
    "monthly"
   ]
  },
  {
   "cell_type": "code",
   "execution_count": 75,
   "metadata": {},
   "outputs": [
    {
     "data": {
      "application/vnd.plotly.v1+json": {
       "config": {
        "plotlyServerURL": "https://plot.ly"
       },
       "data": [
        {
         "hovertemplate": "Mois=%{x}<br>Dépression (%)=%{y}<extra></extra>",
         "legendgroup": "",
         "line": {
          "color": "#636efa",
          "dash": "solid"
         },
         "marker": {
          "symbol": "circle"
         },
         "mode": "markers+lines",
         "name": "",
         "orientation": "v",
         "showlegend": false,
         "type": "scatter",
         "x": [
          4,
          5,
          6,
          7,
          8,
          9,
          10,
          11,
          12
         ],
         "xaxis": "x",
         "y": [
          27.582926672093336,
          27.05351851851852,
          28.439676434676432,
          29.972820512820515,
          28.87665750915751,
          30.15749287749288,
          32.41553418803419,
          35.43642857142857,
          30.727728937728937
         ],
         "yaxis": "y"
        }
       ],
       "layout": {
        "legend": {
         "tracegroupgap": 0
        },
        "template": {
         "data": {
          "bar": [
           {
            "error_x": {
             "color": "#2a3f5f"
            },
            "error_y": {
             "color": "#2a3f5f"
            },
            "marker": {
             "line": {
              "color": "#E5ECF6",
              "width": 0.5
             },
             "pattern": {
              "fillmode": "overlay",
              "size": 10,
              "solidity": 0.2
             }
            },
            "type": "bar"
           }
          ],
          "barpolar": [
           {
            "marker": {
             "line": {
              "color": "#E5ECF6",
              "width": 0.5
             },
             "pattern": {
              "fillmode": "overlay",
              "size": 10,
              "solidity": 0.2
             }
            },
            "type": "barpolar"
           }
          ],
          "carpet": [
           {
            "aaxis": {
             "endlinecolor": "#2a3f5f",
             "gridcolor": "white",
             "linecolor": "white",
             "minorgridcolor": "white",
             "startlinecolor": "#2a3f5f"
            },
            "baxis": {
             "endlinecolor": "#2a3f5f",
             "gridcolor": "white",
             "linecolor": "white",
             "minorgridcolor": "white",
             "startlinecolor": "#2a3f5f"
            },
            "type": "carpet"
           }
          ],
          "choropleth": [
           {
            "colorbar": {
             "outlinewidth": 0,
             "ticks": ""
            },
            "type": "choropleth"
           }
          ],
          "contour": [
           {
            "colorbar": {
             "outlinewidth": 0,
             "ticks": ""
            },
            "colorscale": [
             [
              0,
              "#0d0887"
             ],
             [
              0.1111111111111111,
              "#46039f"
             ],
             [
              0.2222222222222222,
              "#7201a8"
             ],
             [
              0.3333333333333333,
              "#9c179e"
             ],
             [
              0.4444444444444444,
              "#bd3786"
             ],
             [
              0.5555555555555556,
              "#d8576b"
             ],
             [
              0.6666666666666666,
              "#ed7953"
             ],
             [
              0.7777777777777778,
              "#fb9f3a"
             ],
             [
              0.8888888888888888,
              "#fdca26"
             ],
             [
              1,
              "#f0f921"
             ]
            ],
            "type": "contour"
           }
          ],
          "contourcarpet": [
           {
            "colorbar": {
             "outlinewidth": 0,
             "ticks": ""
            },
            "type": "contourcarpet"
           }
          ],
          "heatmap": [
           {
            "colorbar": {
             "outlinewidth": 0,
             "ticks": ""
            },
            "colorscale": [
             [
              0,
              "#0d0887"
             ],
             [
              0.1111111111111111,
              "#46039f"
             ],
             [
              0.2222222222222222,
              "#7201a8"
             ],
             [
              0.3333333333333333,
              "#9c179e"
             ],
             [
              0.4444444444444444,
              "#bd3786"
             ],
             [
              0.5555555555555556,
              "#d8576b"
             ],
             [
              0.6666666666666666,
              "#ed7953"
             ],
             [
              0.7777777777777778,
              "#fb9f3a"
             ],
             [
              0.8888888888888888,
              "#fdca26"
             ],
             [
              1,
              "#f0f921"
             ]
            ],
            "type": "heatmap"
           }
          ],
          "heatmapgl": [
           {
            "colorbar": {
             "outlinewidth": 0,
             "ticks": ""
            },
            "colorscale": [
             [
              0,
              "#0d0887"
             ],
             [
              0.1111111111111111,
              "#46039f"
             ],
             [
              0.2222222222222222,
              "#7201a8"
             ],
             [
              0.3333333333333333,
              "#9c179e"
             ],
             [
              0.4444444444444444,
              "#bd3786"
             ],
             [
              0.5555555555555556,
              "#d8576b"
             ],
             [
              0.6666666666666666,
              "#ed7953"
             ],
             [
              0.7777777777777778,
              "#fb9f3a"
             ],
             [
              0.8888888888888888,
              "#fdca26"
             ],
             [
              1,
              "#f0f921"
             ]
            ],
            "type": "heatmapgl"
           }
          ],
          "histogram": [
           {
            "marker": {
             "pattern": {
              "fillmode": "overlay",
              "size": 10,
              "solidity": 0.2
             }
            },
            "type": "histogram"
           }
          ],
          "histogram2d": [
           {
            "colorbar": {
             "outlinewidth": 0,
             "ticks": ""
            },
            "colorscale": [
             [
              0,
              "#0d0887"
             ],
             [
              0.1111111111111111,
              "#46039f"
             ],
             [
              0.2222222222222222,
              "#7201a8"
             ],
             [
              0.3333333333333333,
              "#9c179e"
             ],
             [
              0.4444444444444444,
              "#bd3786"
             ],
             [
              0.5555555555555556,
              "#d8576b"
             ],
             [
              0.6666666666666666,
              "#ed7953"
             ],
             [
              0.7777777777777778,
              "#fb9f3a"
             ],
             [
              0.8888888888888888,
              "#fdca26"
             ],
             [
              1,
              "#f0f921"
             ]
            ],
            "type": "histogram2d"
           }
          ],
          "histogram2dcontour": [
           {
            "colorbar": {
             "outlinewidth": 0,
             "ticks": ""
            },
            "colorscale": [
             [
              0,
              "#0d0887"
             ],
             [
              0.1111111111111111,
              "#46039f"
             ],
             [
              0.2222222222222222,
              "#7201a8"
             ],
             [
              0.3333333333333333,
              "#9c179e"
             ],
             [
              0.4444444444444444,
              "#bd3786"
             ],
             [
              0.5555555555555556,
              "#d8576b"
             ],
             [
              0.6666666666666666,
              "#ed7953"
             ],
             [
              0.7777777777777778,
              "#fb9f3a"
             ],
             [
              0.8888888888888888,
              "#fdca26"
             ],
             [
              1,
              "#f0f921"
             ]
            ],
            "type": "histogram2dcontour"
           }
          ],
          "mesh3d": [
           {
            "colorbar": {
             "outlinewidth": 0,
             "ticks": ""
            },
            "type": "mesh3d"
           }
          ],
          "parcoords": [
           {
            "line": {
             "colorbar": {
              "outlinewidth": 0,
              "ticks": ""
             }
            },
            "type": "parcoords"
           }
          ],
          "pie": [
           {
            "automargin": true,
            "type": "pie"
           }
          ],
          "scatter": [
           {
            "fillpattern": {
             "fillmode": "overlay",
             "size": 10,
             "solidity": 0.2
            },
            "type": "scatter"
           }
          ],
          "scatter3d": [
           {
            "line": {
             "colorbar": {
              "outlinewidth": 0,
              "ticks": ""
             }
            },
            "marker": {
             "colorbar": {
              "outlinewidth": 0,
              "ticks": ""
             }
            },
            "type": "scatter3d"
           }
          ],
          "scattercarpet": [
           {
            "marker": {
             "colorbar": {
              "outlinewidth": 0,
              "ticks": ""
             }
            },
            "type": "scattercarpet"
           }
          ],
          "scattergeo": [
           {
            "marker": {
             "colorbar": {
              "outlinewidth": 0,
              "ticks": ""
             }
            },
            "type": "scattergeo"
           }
          ],
          "scattergl": [
           {
            "marker": {
             "colorbar": {
              "outlinewidth": 0,
              "ticks": ""
             }
            },
            "type": "scattergl"
           }
          ],
          "scattermapbox": [
           {
            "marker": {
             "colorbar": {
              "outlinewidth": 0,
              "ticks": ""
             }
            },
            "type": "scattermapbox"
           }
          ],
          "scatterpolar": [
           {
            "marker": {
             "colorbar": {
              "outlinewidth": 0,
              "ticks": ""
             }
            },
            "type": "scatterpolar"
           }
          ],
          "scatterpolargl": [
           {
            "marker": {
             "colorbar": {
              "outlinewidth": 0,
              "ticks": ""
             }
            },
            "type": "scatterpolargl"
           }
          ],
          "scatterternary": [
           {
            "marker": {
             "colorbar": {
              "outlinewidth": 0,
              "ticks": ""
             }
            },
            "type": "scatterternary"
           }
          ],
          "surface": [
           {
            "colorbar": {
             "outlinewidth": 0,
             "ticks": ""
            },
            "colorscale": [
             [
              0,
              "#0d0887"
             ],
             [
              0.1111111111111111,
              "#46039f"
             ],
             [
              0.2222222222222222,
              "#7201a8"
             ],
             [
              0.3333333333333333,
              "#9c179e"
             ],
             [
              0.4444444444444444,
              "#bd3786"
             ],
             [
              0.5555555555555556,
              "#d8576b"
             ],
             [
              0.6666666666666666,
              "#ed7953"
             ],
             [
              0.7777777777777778,
              "#fb9f3a"
             ],
             [
              0.8888888888888888,
              "#fdca26"
             ],
             [
              1,
              "#f0f921"
             ]
            ],
            "type": "surface"
           }
          ],
          "table": [
           {
            "cells": {
             "fill": {
              "color": "#EBF0F8"
             },
             "line": {
              "color": "white"
             }
            },
            "header": {
             "fill": {
              "color": "#C8D4E3"
             },
             "line": {
              "color": "white"
             }
            },
            "type": "table"
           }
          ]
         },
         "layout": {
          "annotationdefaults": {
           "arrowcolor": "#2a3f5f",
           "arrowhead": 0,
           "arrowwidth": 1
          },
          "autotypenumbers": "strict",
          "coloraxis": {
           "colorbar": {
            "outlinewidth": 0,
            "ticks": ""
           }
          },
          "colorscale": {
           "diverging": [
            [
             0,
             "#8e0152"
            ],
            [
             0.1,
             "#c51b7d"
            ],
            [
             0.2,
             "#de77ae"
            ],
            [
             0.3,
             "#f1b6da"
            ],
            [
             0.4,
             "#fde0ef"
            ],
            [
             0.5,
             "#f7f7f7"
            ],
            [
             0.6,
             "#e6f5d0"
            ],
            [
             0.7,
             "#b8e186"
            ],
            [
             0.8,
             "#7fbc41"
            ],
            [
             0.9,
             "#4d9221"
            ],
            [
             1,
             "#276419"
            ]
           ],
           "sequential": [
            [
             0,
             "#0d0887"
            ],
            [
             0.1111111111111111,
             "#46039f"
            ],
            [
             0.2222222222222222,
             "#7201a8"
            ],
            [
             0.3333333333333333,
             "#9c179e"
            ],
            [
             0.4444444444444444,
             "#bd3786"
            ],
            [
             0.5555555555555556,
             "#d8576b"
            ],
            [
             0.6666666666666666,
             "#ed7953"
            ],
            [
             0.7777777777777778,
             "#fb9f3a"
            ],
            [
             0.8888888888888888,
             "#fdca26"
            ],
            [
             1,
             "#f0f921"
            ]
           ],
           "sequentialminus": [
            [
             0,
             "#0d0887"
            ],
            [
             0.1111111111111111,
             "#46039f"
            ],
            [
             0.2222222222222222,
             "#7201a8"
            ],
            [
             0.3333333333333333,
             "#9c179e"
            ],
            [
             0.4444444444444444,
             "#bd3786"
            ],
            [
             0.5555555555555556,
             "#d8576b"
            ],
            [
             0.6666666666666666,
             "#ed7953"
            ],
            [
             0.7777777777777778,
             "#fb9f3a"
            ],
            [
             0.8888888888888888,
             "#fdca26"
            ],
            [
             1,
             "#f0f921"
            ]
           ]
          },
          "colorway": [
           "#636efa",
           "#EF553B",
           "#00cc96",
           "#ab63fa",
           "#FFA15A",
           "#19d3f3",
           "#FF6692",
           "#B6E880",
           "#FF97FF",
           "#FECB52"
          ],
          "font": {
           "color": "#2a3f5f"
          },
          "geo": {
           "bgcolor": "white",
           "lakecolor": "white",
           "landcolor": "#E5ECF6",
           "showlakes": true,
           "showland": true,
           "subunitcolor": "white"
          },
          "hoverlabel": {
           "align": "left"
          },
          "hovermode": "closest",
          "mapbox": {
           "style": "light"
          },
          "paper_bgcolor": "white",
          "plot_bgcolor": "#E5ECF6",
          "polar": {
           "angularaxis": {
            "gridcolor": "white",
            "linecolor": "white",
            "ticks": ""
           },
           "bgcolor": "#E5ECF6",
           "radialaxis": {
            "gridcolor": "white",
            "linecolor": "white",
            "ticks": ""
           }
          },
          "scene": {
           "xaxis": {
            "backgroundcolor": "#E5ECF6",
            "gridcolor": "white",
            "gridwidth": 2,
            "linecolor": "white",
            "showbackground": true,
            "ticks": "",
            "zerolinecolor": "white"
           },
           "yaxis": {
            "backgroundcolor": "#E5ECF6",
            "gridcolor": "white",
            "gridwidth": 2,
            "linecolor": "white",
            "showbackground": true,
            "ticks": "",
            "zerolinecolor": "white"
           },
           "zaxis": {
            "backgroundcolor": "#E5ECF6",
            "gridcolor": "white",
            "gridwidth": 2,
            "linecolor": "white",
            "showbackground": true,
            "ticks": "",
            "zerolinecolor": "white"
           }
          },
          "shapedefaults": {
           "line": {
            "color": "#2a3f5f"
           }
          },
          "ternary": {
           "aaxis": {
            "gridcolor": "white",
            "linecolor": "white",
            "ticks": ""
           },
           "baxis": {
            "gridcolor": "white",
            "linecolor": "white",
            "ticks": ""
           },
           "bgcolor": "#E5ECF6",
           "caxis": {
            "gridcolor": "white",
            "linecolor": "white",
            "ticks": ""
           }
          },
          "title": {
           "x": 0.05
          },
          "xaxis": {
           "automargin": true,
           "gridcolor": "white",
           "linecolor": "white",
           "ticks": "",
           "title": {
            "standoff": 15
           },
           "zerolinecolor": "white",
           "zerolinewidth": 2
          },
          "yaxis": {
           "automargin": true,
           "gridcolor": "white",
           "linecolor": "white",
           "ticks": "",
           "title": {
            "standoff": 15
           },
           "zerolinecolor": "white",
           "zerolinewidth": 2
          }
         }
        },
        "title": {
         "text": "Evolution de la proportion de dépression dans le temps depuis COVID-19"
        },
        "xaxis": {
         "anchor": "y",
         "domain": [
          0,
          1
         ],
         "title": {
          "text": "Mois"
         }
        },
        "yaxis": {
         "anchor": "x",
         "domain": [
          0,
          1
         ],
         "title": {
          "text": "Dépression (%)"
         }
        }
       }
      }
     },
     "metadata": {},
     "output_type": "display_data"
    }
   ],
   "source": [
    "fig_month = px.line(monthly, x=\"Month\", y=\"Value\", markers=True, \n",
    "            title='Evolution de la proportion de dépression dans le temps depuis COVID-19',\n",
    "            labels=dict(Month=\"Mois\", Value=\"Dépression (%)\"))\n",
    "fig_month.show()"
   ]
  },
  {
   "cell_type": "markdown",
   "metadata": {},
   "source": [
    "ETUDE BY AGE"
   ]
  },
  {
   "cell_type": "code",
   "execution_count": 23,
   "metadata": {},
   "outputs": [
    {
     "data": {
      "text/html": [
       "<div>\n",
       "<style scoped>\n",
       "    .dataframe tbody tr th:only-of-type {\n",
       "        vertical-align: middle;\n",
       "    }\n",
       "\n",
       "    .dataframe tbody tr th {\n",
       "        vertical-align: top;\n",
       "    }\n",
       "\n",
       "    .dataframe thead th {\n",
       "        text-align: right;\n",
       "    }\n",
       "</style>\n",
       "<table border=\"1\" class=\"dataframe\">\n",
       "  <thead>\n",
       "    <tr style=\"text-align: right;\">\n",
       "      <th></th>\n",
       "      <th>Indicator</th>\n",
       "      <th>Group</th>\n",
       "      <th>State</th>\n",
       "      <th>Subgroup</th>\n",
       "      <th>Phase</th>\n",
       "      <th>Time Period</th>\n",
       "      <th>Time Period Label</th>\n",
       "      <th>Time Period Start Date</th>\n",
       "      <th>Time Period End Date</th>\n",
       "      <th>Value</th>\n",
       "      <th>Low CI</th>\n",
       "      <th>High CI</th>\n",
       "      <th>Confidence Interval</th>\n",
       "      <th>Quartile Range</th>\n",
       "      <th>Year</th>\n",
       "      <th>Month</th>\n",
       "    </tr>\n",
       "  </thead>\n",
       "  <tbody>\n",
       "    <tr>\n",
       "      <th>1</th>\n",
       "      <td>Symptoms of Depressive Disorder</td>\n",
       "      <td>By Age</td>\n",
       "      <td>United States</td>\n",
       "      <td>18 - 29 years</td>\n",
       "      <td>1</td>\n",
       "      <td>1</td>\n",
       "      <td>Apr 23 - May 5, 2020</td>\n",
       "      <td>04/23/2020</td>\n",
       "      <td>05/05/2020</td>\n",
       "      <td>32.7</td>\n",
       "      <td>30.2</td>\n",
       "      <td>35.2</td>\n",
       "      <td>30.2 - 35.2</td>\n",
       "      <td>NaN</td>\n",
       "      <td>2020</td>\n",
       "      <td>4</td>\n",
       "    </tr>\n",
       "    <tr>\n",
       "      <th>2</th>\n",
       "      <td>Symptoms of Depressive Disorder</td>\n",
       "      <td>By Age</td>\n",
       "      <td>United States</td>\n",
       "      <td>30 - 39 years</td>\n",
       "      <td>1</td>\n",
       "      <td>1</td>\n",
       "      <td>Apr 23 - May 5, 2020</td>\n",
       "      <td>04/23/2020</td>\n",
       "      <td>05/05/2020</td>\n",
       "      <td>25.7</td>\n",
       "      <td>24.1</td>\n",
       "      <td>27.3</td>\n",
       "      <td>24.1 - 27.3</td>\n",
       "      <td>NaN</td>\n",
       "      <td>2020</td>\n",
       "      <td>4</td>\n",
       "    </tr>\n",
       "    <tr>\n",
       "      <th>3</th>\n",
       "      <td>Symptoms of Depressive Disorder</td>\n",
       "      <td>By Age</td>\n",
       "      <td>United States</td>\n",
       "      <td>40 - 49 years</td>\n",
       "      <td>1</td>\n",
       "      <td>1</td>\n",
       "      <td>Apr 23 - May 5, 2020</td>\n",
       "      <td>04/23/2020</td>\n",
       "      <td>05/05/2020</td>\n",
       "      <td>24.8</td>\n",
       "      <td>23.3</td>\n",
       "      <td>26.2</td>\n",
       "      <td>23.3 - 26.2</td>\n",
       "      <td>NaN</td>\n",
       "      <td>2020</td>\n",
       "      <td>4</td>\n",
       "    </tr>\n",
       "    <tr>\n",
       "      <th>4</th>\n",
       "      <td>Symptoms of Depressive Disorder</td>\n",
       "      <td>By Age</td>\n",
       "      <td>United States</td>\n",
       "      <td>50 - 59 years</td>\n",
       "      <td>1</td>\n",
       "      <td>1</td>\n",
       "      <td>Apr 23 - May 5, 2020</td>\n",
       "      <td>04/23/2020</td>\n",
       "      <td>05/05/2020</td>\n",
       "      <td>23.2</td>\n",
       "      <td>21.5</td>\n",
       "      <td>25.0</td>\n",
       "      <td>21.5 - 25.0</td>\n",
       "      <td>NaN</td>\n",
       "      <td>2020</td>\n",
       "      <td>4</td>\n",
       "    </tr>\n",
       "    <tr>\n",
       "      <th>5</th>\n",
       "      <td>Symptoms of Depressive Disorder</td>\n",
       "      <td>By Age</td>\n",
       "      <td>United States</td>\n",
       "      <td>60 - 69 years</td>\n",
       "      <td>1</td>\n",
       "      <td>1</td>\n",
       "      <td>Apr 23 - May 5, 2020</td>\n",
       "      <td>04/23/2020</td>\n",
       "      <td>05/05/2020</td>\n",
       "      <td>18.4</td>\n",
       "      <td>17.0</td>\n",
       "      <td>19.7</td>\n",
       "      <td>17.0 - 19.7</td>\n",
       "      <td>NaN</td>\n",
       "      <td>2020</td>\n",
       "      <td>4</td>\n",
       "    </tr>\n",
       "    <tr>\n",
       "      <th>...</th>\n",
       "      <td>...</td>\n",
       "      <td>...</td>\n",
       "      <td>...</td>\n",
       "      <td>...</td>\n",
       "      <td>...</td>\n",
       "      <td>...</td>\n",
       "      <td>...</td>\n",
       "      <td>...</td>\n",
       "      <td>...</td>\n",
       "      <td>...</td>\n",
       "      <td>...</td>\n",
       "      <td>...</td>\n",
       "      <td>...</td>\n",
       "      <td>...</td>\n",
       "      <td>...</td>\n",
       "      <td>...</td>\n",
       "    </tr>\n",
       "    <tr>\n",
       "      <th>11253</th>\n",
       "      <td>Symptoms of Depressive Disorder</td>\n",
       "      <td>By Age</td>\n",
       "      <td>United States</td>\n",
       "      <td>40 - 49 years</td>\n",
       "      <td>3.6</td>\n",
       "      <td>50</td>\n",
       "      <td>Oct 5 - Oct 17, 2022</td>\n",
       "      <td>10/05/2022</td>\n",
       "      <td>10/17/2022</td>\n",
       "      <td>25.5</td>\n",
       "      <td>23.6</td>\n",
       "      <td>27.4</td>\n",
       "      <td>23.6 - 27.4</td>\n",
       "      <td>NaN</td>\n",
       "      <td>2022</td>\n",
       "      <td>10</td>\n",
       "    </tr>\n",
       "    <tr>\n",
       "      <th>11254</th>\n",
       "      <td>Symptoms of Depressive Disorder</td>\n",
       "      <td>By Age</td>\n",
       "      <td>United States</td>\n",
       "      <td>50 - 59 years</td>\n",
       "      <td>3.6</td>\n",
       "      <td>50</td>\n",
       "      <td>Oct 5 - Oct 17, 2022</td>\n",
       "      <td>10/05/2022</td>\n",
       "      <td>10/17/2022</td>\n",
       "      <td>24.4</td>\n",
       "      <td>22.6</td>\n",
       "      <td>26.3</td>\n",
       "      <td>22.6 - 26.3</td>\n",
       "      <td>NaN</td>\n",
       "      <td>2022</td>\n",
       "      <td>10</td>\n",
       "    </tr>\n",
       "    <tr>\n",
       "      <th>11255</th>\n",
       "      <td>Symptoms of Depressive Disorder</td>\n",
       "      <td>By Age</td>\n",
       "      <td>United States</td>\n",
       "      <td>60 - 69 years</td>\n",
       "      <td>3.6</td>\n",
       "      <td>50</td>\n",
       "      <td>Oct 5 - Oct 17, 2022</td>\n",
       "      <td>10/05/2022</td>\n",
       "      <td>10/17/2022</td>\n",
       "      <td>19.0</td>\n",
       "      <td>17.1</td>\n",
       "      <td>21.0</td>\n",
       "      <td>17.1 - 21.0</td>\n",
       "      <td>NaN</td>\n",
       "      <td>2022</td>\n",
       "      <td>10</td>\n",
       "    </tr>\n",
       "    <tr>\n",
       "      <th>11256</th>\n",
       "      <td>Symptoms of Depressive Disorder</td>\n",
       "      <td>By Age</td>\n",
       "      <td>United States</td>\n",
       "      <td>70 - 79 years</td>\n",
       "      <td>3.6</td>\n",
       "      <td>50</td>\n",
       "      <td>Oct 5 - Oct 17, 2022</td>\n",
       "      <td>10/05/2022</td>\n",
       "      <td>10/17/2022</td>\n",
       "      <td>14.0</td>\n",
       "      <td>12.0</td>\n",
       "      <td>16.3</td>\n",
       "      <td>12.0 - 16.3</td>\n",
       "      <td>NaN</td>\n",
       "      <td>2022</td>\n",
       "      <td>10</td>\n",
       "    </tr>\n",
       "    <tr>\n",
       "      <th>11257</th>\n",
       "      <td>Symptoms of Depressive Disorder</td>\n",
       "      <td>By Age</td>\n",
       "      <td>United States</td>\n",
       "      <td>80 years and above</td>\n",
       "      <td>3.6</td>\n",
       "      <td>50</td>\n",
       "      <td>Oct 5 - Oct 17, 2022</td>\n",
       "      <td>10/05/2022</td>\n",
       "      <td>10/17/2022</td>\n",
       "      <td>13.3</td>\n",
       "      <td>10.1</td>\n",
       "      <td>17.2</td>\n",
       "      <td>10.1 - 17.2</td>\n",
       "      <td>NaN</td>\n",
       "      <td>2022</td>\n",
       "      <td>10</td>\n",
       "    </tr>\n",
       "  </tbody>\n",
       "</table>\n",
       "<p>406 rows × 16 columns</p>\n",
       "</div>"
      ],
      "text/plain": [
       "                             Indicator   Group          State  \\\n",
       "1      Symptoms of Depressive Disorder  By Age  United States   \n",
       "2      Symptoms of Depressive Disorder  By Age  United States   \n",
       "3      Symptoms of Depressive Disorder  By Age  United States   \n",
       "4      Symptoms of Depressive Disorder  By Age  United States   \n",
       "5      Symptoms of Depressive Disorder  By Age  United States   \n",
       "...                                ...     ...            ...   \n",
       "11253  Symptoms of Depressive Disorder  By Age  United States   \n",
       "11254  Symptoms of Depressive Disorder  By Age  United States   \n",
       "11255  Symptoms of Depressive Disorder  By Age  United States   \n",
       "11256  Symptoms of Depressive Disorder  By Age  United States   \n",
       "11257  Symptoms of Depressive Disorder  By Age  United States   \n",
       "\n",
       "                 Subgroup Phase  Time Period     Time Period Label  \\\n",
       "1           18 - 29 years     1            1  Apr 23 - May 5, 2020   \n",
       "2           30 - 39 years     1            1  Apr 23 - May 5, 2020   \n",
       "3           40 - 49 years     1            1  Apr 23 - May 5, 2020   \n",
       "4           50 - 59 years     1            1  Apr 23 - May 5, 2020   \n",
       "5           60 - 69 years     1            1  Apr 23 - May 5, 2020   \n",
       "...                   ...   ...          ...                   ...   \n",
       "11253       40 - 49 years   3.6           50  Oct 5 - Oct 17, 2022   \n",
       "11254       50 - 59 years   3.6           50  Oct 5 - Oct 17, 2022   \n",
       "11255       60 - 69 years   3.6           50  Oct 5 - Oct 17, 2022   \n",
       "11256       70 - 79 years   3.6           50  Oct 5 - Oct 17, 2022   \n",
       "11257  80 years and above   3.6           50  Oct 5 - Oct 17, 2022   \n",
       "\n",
       "      Time Period Start Date Time Period End Date  Value  Low CI  High CI  \\\n",
       "1                 04/23/2020           05/05/2020   32.7    30.2     35.2   \n",
       "2                 04/23/2020           05/05/2020   25.7    24.1     27.3   \n",
       "3                 04/23/2020           05/05/2020   24.8    23.3     26.2   \n",
       "4                 04/23/2020           05/05/2020   23.2    21.5     25.0   \n",
       "5                 04/23/2020           05/05/2020   18.4    17.0     19.7   \n",
       "...                      ...                  ...    ...     ...      ...   \n",
       "11253             10/05/2022           10/17/2022   25.5    23.6     27.4   \n",
       "11254             10/05/2022           10/17/2022   24.4    22.6     26.3   \n",
       "11255             10/05/2022           10/17/2022   19.0    17.1     21.0   \n",
       "11256             10/05/2022           10/17/2022   14.0    12.0     16.3   \n",
       "11257             10/05/2022           10/17/2022   13.3    10.1     17.2   \n",
       "\n",
       "      Confidence Interval Quartile Range  Year  Month  \n",
       "1             30.2 - 35.2            NaN  2020      4  \n",
       "2             24.1 - 27.3            NaN  2020      4  \n",
       "3             23.3 - 26.2            NaN  2020      4  \n",
       "4             21.5 - 25.0            NaN  2020      4  \n",
       "5             17.0 - 19.7            NaN  2020      4  \n",
       "...                   ...            ...   ...    ...  \n",
       "11253         23.6 - 27.4            NaN  2022     10  \n",
       "11254         22.6 - 26.3            NaN  2022     10  \n",
       "11255         17.1 - 21.0            NaN  2022     10  \n",
       "11256         12.0 - 16.3            NaN  2022     10  \n",
       "11257         10.1 - 17.2            NaN  2022     10  \n",
       "\n",
       "[406 rows x 16 columns]"
      ]
     },
     "execution_count": 23,
     "metadata": {},
     "output_type": "execute_result"
    }
   ],
   "source": [
    "age = usa.query(\"Indicator == 'Symptoms of Depressive Disorder' & Group == 'By Age' \")\n",
    "age"
   ]
  },
  {
   "cell_type": "code",
   "execution_count": 24,
   "metadata": {},
   "outputs": [],
   "source": [
    "age = age.groupby('Subgroup').agg({'Value':['mean', 'count', 'std', 'var']}).reset_index()\n"
   ]
  },
  {
   "cell_type": "code",
   "execution_count": 25,
   "metadata": {},
   "outputs": [
    {
     "data": {
      "text/html": [
       "<div>\n",
       "<style scoped>\n",
       "    .dataframe tbody tr th:only-of-type {\n",
       "        vertical-align: middle;\n",
       "    }\n",
       "\n",
       "    .dataframe tbody tr th {\n",
       "        vertical-align: top;\n",
       "    }\n",
       "\n",
       "    .dataframe thead tr th {\n",
       "        text-align: left;\n",
       "    }\n",
       "</style>\n",
       "<table border=\"1\" class=\"dataframe\">\n",
       "  <thead>\n",
       "    <tr>\n",
       "      <th></th>\n",
       "      <th>Subgroup</th>\n",
       "      <th colspan=\"4\" halign=\"left\">Value</th>\n",
       "    </tr>\n",
       "    <tr>\n",
       "      <th></th>\n",
       "      <th></th>\n",
       "      <th>mean</th>\n",
       "      <th>count</th>\n",
       "      <th>std</th>\n",
       "      <th>var</th>\n",
       "    </tr>\n",
       "  </thead>\n",
       "  <tbody>\n",
       "    <tr>\n",
       "      <th>0</th>\n",
       "      <td>18 - 29 years</td>\n",
       "      <td>37.538</td>\n",
       "      <td>50</td>\n",
       "      <td>3.187404</td>\n",
       "      <td>10.159547</td>\n",
       "    </tr>\n",
       "    <tr>\n",
       "      <th>1</th>\n",
       "      <td>30 - 39 years</td>\n",
       "      <td>28.544</td>\n",
       "      <td>50</td>\n",
       "      <td>2.534349</td>\n",
       "      <td>6.422922</td>\n",
       "    </tr>\n",
       "    <tr>\n",
       "      <th>2</th>\n",
       "      <td>40 - 49 years</td>\n",
       "      <td>25.308</td>\n",
       "      <td>50</td>\n",
       "      <td>2.513786</td>\n",
       "      <td>6.319118</td>\n",
       "    </tr>\n",
       "    <tr>\n",
       "      <th>3</th>\n",
       "      <td>50 - 59 years</td>\n",
       "      <td>23.410</td>\n",
       "      <td>50</td>\n",
       "      <td>3.051413</td>\n",
       "      <td>9.311122</td>\n",
       "    </tr>\n",
       "    <tr>\n",
       "      <th>4</th>\n",
       "      <td>60 - 69 years</td>\n",
       "      <td>18.182</td>\n",
       "      <td>50</td>\n",
       "      <td>2.808347</td>\n",
       "      <td>7.886812</td>\n",
       "    </tr>\n",
       "    <tr>\n",
       "      <th>5</th>\n",
       "      <td>70 - 79 years</td>\n",
       "      <td>13.438</td>\n",
       "      <td>50</td>\n",
       "      <td>2.676877</td>\n",
       "      <td>7.165669</td>\n",
       "    </tr>\n",
       "    <tr>\n",
       "      <th>6</th>\n",
       "      <td>80 years and above</td>\n",
       "      <td>12.824</td>\n",
       "      <td>50</td>\n",
       "      <td>3.240783</td>\n",
       "      <td>10.502678</td>\n",
       "    </tr>\n",
       "  </tbody>\n",
       "</table>\n",
       "</div>"
      ],
      "text/plain": [
       "             Subgroup   Value                           \n",
       "                         mean count       std        var\n",
       "0       18 - 29 years  37.538    50  3.187404  10.159547\n",
       "1       30 - 39 years  28.544    50  2.534349   6.422922\n",
       "2       40 - 49 years  25.308    50  2.513786   6.319118\n",
       "3       50 - 59 years  23.410    50  3.051413   9.311122\n",
       "4       60 - 69 years  18.182    50  2.808347   7.886812\n",
       "5       70 - 79 years  13.438    50  2.676877   7.165669\n",
       "6  80 years and above  12.824    50  3.240783  10.502678"
      ]
     },
     "metadata": {},
     "output_type": "display_data"
    }
   ],
   "source": [
    "display(age)"
   ]
  },
  {
   "cell_type": "code",
   "execution_count": 153,
   "metadata": {},
   "outputs": [
    {
     "data": {
      "text/plain": [
       "By State                      7650\n",
       "By Age                        1218\n",
       "By Race/Hispanic ethnicity     870\n",
       "By Education                   696\n",
       "By Sex                         348\n",
       "By Gender identity             180\n",
       "By Sexual orientation          180\n",
       "National Estimate              174\n",
       "By Disability status           168\n",
       "Name: Group, dtype: int64"
      ]
     },
     "execution_count": 153,
     "metadata": {},
     "output_type": "execute_result"
    }
   ],
   "source": [
    "usa['Group'].value_counts()"
   ]
  }
 ],
 "metadata": {
  "kernelspec": {
   "display_name": "base",
   "language": "python",
   "name": "python3"
  },
  "language_info": {
   "codemirror_mode": {
    "name": "ipython",
    "version": 3
   },
   "file_extension": ".py",
   "mimetype": "text/x-python",
   "name": "python",
   "nbconvert_exporter": "python",
   "pygments_lexer": "ipython3",
   "version": "3.9.13"
  },
  "orig_nbformat": 4,
  "vscode": {
   "interpreter": {
    "hash": "94c02ad1f7406f8132ba763e7b2bfcc1f1a8bb8920d12bc95b0b556ce3363b73"
   }
  }
 },
 "nbformat": 4,
 "nbformat_minor": 2
}
